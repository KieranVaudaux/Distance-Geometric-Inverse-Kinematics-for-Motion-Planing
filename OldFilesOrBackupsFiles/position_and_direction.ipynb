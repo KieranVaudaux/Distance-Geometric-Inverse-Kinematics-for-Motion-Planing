{
 "cells": [
  {
   "cell_type": "code",
   "execution_count": 155,
   "id": "86b1eeb8",
   "metadata": {},
   "outputs": [],
   "source": [
    "import numpy as np \n",
    "import time \n",
    "from useful_function_joint import *\n",
    "import pymanopt\n",
    "from pymanopt import manifolds, optimizers, tools, core\n",
    "from pymanopt.core.problem  import Problem\n",
    "from typing import Sequence\n",
    "from scipy.spatial.transform import Rotation as R\n",
    "\n",
    "import networkx as nx"
   ]
  },
  {
   "cell_type": "code",
   "execution_count": 255,
   "id": "9e032037",
   "metadata": {},
   "outputs": [],
   "source": [
    "scale_shift = 100"
   ]
  },
  {
   "cell_type": "code",
   "execution_count": 256,
   "id": "385e4bfe",
   "metadata": {},
   "outputs": [],
   "source": [
    "e1 = np.array((1,0,0))*scale_shift\n",
    "e2 = np.array((0,1,0))*scale_shift\n",
    "e3 = np.array((0,0,1))*scale_shift\n",
    "e0 = np.array([0,0,0])"
   ]
  },
  {
   "cell_type": "code",
   "execution_count": 257,
   "id": "017b3c0c",
   "metadata": {},
   "outputs": [],
   "source": [
    "t1 = np.array((25,0,0))\n",
    "t2 = np.array((560,0,0))\n",
    "t3 = np.array((515/2,0,25))\n",
    "t4 = np.array((515/2,0,0))\n",
    "t5 = np.array((90,0,0))"
   ]
  },
  {
   "cell_type": "code",
   "execution_count": 258,
   "id": "5c092ac1",
   "metadata": {},
   "outputs": [],
   "source": [
    "joints_ref = np.array([0,-90,90,0,0,0])*np.pi/180"
   ]
  },
  {
   "cell_type": "code",
   "execution_count": 259,
   "id": "5882c166",
   "metadata": {},
   "outputs": [],
   "source": [
    "R1 = Rz(joints_ref[0])\n",
    "R2 = Ry(joints_ref[1])\n",
    "R3 = Ry(joints_ref[2])\n",
    "R4 = Rx(joints_ref[3])\n",
    "R5 = Ry(joints_ref[4])\n",
    "R6 = Rx(joints_ref[5])"
   ]
  },
  {
   "cell_type": "code",
   "execution_count": 260,
   "id": "d62848ce",
   "metadata": {},
   "outputs": [],
   "source": [
    "T1 = T(t1)\n",
    "T2 = T(t2)\n",
    "T3 = T(t3)\n",
    "T4 = T(t4)\n",
    "T5 = T(t5)"
   ]
  },
  {
   "cell_type": "code",
   "execution_count": 261,
   "id": "30afe5b9",
   "metadata": {},
   "outputs": [],
   "source": [
    "axes = ['z','y','y','x','y','x']\n",
    "translation = [T(e0),T1,T2,T3,T4,T5]\n",
    "rotation = [R1,R2,R3,R4,R5,R6]\n",
    "\n",
    "step_vect = {'z': [e0,e3],\n",
    "             'y': [e2,-e2],\n",
    "             'x': [e0,-e1]}"
   ]
  },
  {
   "cell_type": "code",
   "execution_count": 262,
   "id": "a2a50707",
   "metadata": {},
   "outputs": [],
   "source": [
    "position = pose_robot_(joints_ref,'camera')[:3,3]\n",
    "#np.array([400,0,695])\n",
    "direction = np.array([1,0,0.])#/np.sqrt(2)\n",
    "\n",
    "G = nx.Graph()\n",
    "\n",
    "G.add_node(1,pos_ref=e1)\n",
    "G.add_node(2,pos_ref=e2)\n",
    "G.add_edge(1,2, weight  = np.linalg.norm(e1-e2))\n",
    "\n",
    "\n",
    "count = 2\n",
    "\n",
    "for i, ax in enumerate(axes):\n",
    "    v1,v2 = step_vect[ax]\n",
    "\n",
    "    transform = []\n",
    "\n",
    "    for j in range(i+1):\n",
    "        transform.append(translation[j])\n",
    "        transform.append(rotation[j])\n",
    "    transform = np.array(transform)\n",
    "    transformation = np.linalg.multi_dot(transform)\n",
    "\n",
    "    G.add_node(count+1,pos_ref=(transformation@T(v2))[:3,3])\n",
    "    G.add_node(count+2,pos_ref=(transformation@T(v1))[:3,3])\n",
    "\n",
    "    node_pos_ref = nx.get_node_attributes(G,'pos_ref')\n",
    "\n",
    "    G.add_edge(count+2,count+1, weight = np.linalg.norm(node_pos_ref[count+1]-node_pos_ref[count+2]))\n",
    "\n",
    "    G.add_edge(count,count+1, weight = np.linalg.norm(node_pos_ref[count+1]-node_pos_ref[count]))\n",
    "    G.add_edge(count-1,count+1, weight = np.linalg.norm(node_pos_ref[count+1]-node_pos_ref[count-1]))\n",
    "\n",
    "    G.add_edge(count,count+2, weight = np.linalg.norm(node_pos_ref[count+2]-node_pos_ref[count]))\n",
    "    G.add_edge(count-1,count+2, weight = np.linalg.norm(node_pos_ref[count+2]-node_pos_ref[count-1]))\n",
    "\n",
    "    count = count + 2\n",
    "\n",
    "mapping = {1: \"x\", 2: \"y\", 3: \"a1_plus\", 4: \"a1_origin\", 5: \"a2_minus\", 6: \" a2_plus\", 7: \"a3_minus\", 8:\"a3_plus\", \n",
    "           9: \"a4_minus\", 10:\"a4_origin\", 11: \"a5_minus\", 12:\"a5_plus\", 13: \"a6_minus\", 14:\"a6_origin\"}\n",
    "G = nx.relabel_nodes(G, mapping)\n",
    "\n",
    "#G.add_edge('a1_origin','a6_origin', weight = np.linalg.norm(position))\n",
    "\n",
    "G.add_edge('x','a6_origin', weight = np.linalg.norm(position-e1))\n",
    "G.add_edge('y','a6_origin', weight = np.linalg.norm(position-e2))\n",
    "G.add_edge('a1_plus','a6_origin', weight = np.linalg.norm(position-e3))\n",
    "\n",
    "  \n",
    "G.add_node('direction',pos_ref=(transformation@T(e1/scale_shift))[:3,3])\n",
    "\n",
    "G.add_edge('a6_origin','direction', weight = np.linalg.norm(direction))\n",
    "\n",
    "G.add_edge('x','direction', weight = np.linalg.norm(position+direction-e1))\n",
    "G.add_edge('y','direction', weight = np.linalg.norm(position+direction-e2))\n",
    "G.add_edge('a1_plus','direction', weight = np.linalg.norm(position+direction-e3))\n",
    "  "
   ]
  },
  {
   "cell_type": "code",
   "execution_count": 263,
   "id": "af95bb6b",
   "metadata": {},
   "outputs": [],
   "source": [
    "#G.add_edge('a1_origin','a6_minus', weight = np.linalg.norm(position-scale_shift*direction))\n",
    "\n",
    "G.add_edge('x','a6_minus', weight = np.linalg.norm(position-scale_shift*direction-e1))\n",
    "G.add_edge('y','a6_minus', weight = np.linalg.norm(position-scale_shift*direction-e2))\n",
    "G.add_edge('a1_plus','a6_minus', weight = np.linalg.norm(position-scale_shift*direction-e3))\n",
    "\n"
   ]
  },
  {
   "cell_type": "code",
   "execution_count": 264,
   "id": "b6da18ec",
   "metadata": {},
   "outputs": [],
   "source": [
    "W = np.ones((41,))\n",
    "list_ = ['x','y','a1_origin','position','direction']\n",
    "for i, e in enumerate(list(G.edges)):\n",
    "    if e[0] in list_ or e[1] in list_:\n",
    "        W[i] = 10\n",
    "W = np.diag(W)"
   ]
  },
  {
   "cell_type": "code",
   "execution_count": 265,
   "id": "ea3d5675",
   "metadata": {},
   "outputs": [
    {
     "data": {
      "text/plain": [
       "EdgeView([('x', 'y'), ('x', 'a1_plus'), ('x', 'a1_origin'), ('x', 'a6_origin'), ('x', 'direction'), ('x', 'a6_minus'), ('y', 'a1_plus'), ('y', 'a1_origin'), ('y', 'a6_origin'), ('y', 'direction'), ('y', 'a6_minus'), ('a1_plus', 'a1_origin'), ('a1_plus', 'a2_minus'), ('a1_plus', ' a2_plus'), ('a1_plus', 'a6_origin'), ('a1_plus', 'direction'), ('a1_plus', 'a6_minus'), ('a1_origin', 'a2_minus'), ('a1_origin', ' a2_plus'), ('a2_minus', ' a2_plus'), ('a2_minus', 'a3_minus'), ('a2_minus', 'a3_plus'), (' a2_plus', 'a3_minus'), (' a2_plus', 'a3_plus'), ('a3_minus', 'a3_plus'), ('a3_minus', 'a4_minus'), ('a3_minus', 'a4_origin'), ('a3_plus', 'a4_minus'), ('a3_plus', 'a4_origin'), ('a4_minus', 'a4_origin'), ('a4_minus', 'a5_minus'), ('a4_minus', 'a5_plus'), ('a4_origin', 'a5_minus'), ('a4_origin', 'a5_plus'), ('a5_minus', 'a5_plus'), ('a5_minus', 'a6_minus'), ('a5_minus', 'a6_origin'), ('a5_plus', 'a6_minus'), ('a5_plus', 'a6_origin'), ('a6_minus', 'a6_origin'), ('a6_origin', 'direction')])"
      ]
     },
     "execution_count": 265,
     "metadata": {},
     "output_type": "execute_result"
    }
   ],
   "source": [
    "G.edges"
   ]
  },
  {
   "cell_type": "code",
   "execution_count": 266,
   "id": "e22cc3ff",
   "metadata": {},
   "outputs": [
    {
     "data": {
      "text/plain": [
       "{'x': array([100,   0,   0]),\n",
       " 'y': array([  0, 100,   0]),\n",
       " 'a1_plus': array([  0.,   0., 100.]),\n",
       " 'a1_origin': array([0., 0., 0.]),\n",
       " 'a2_minus': array([  25., -100.,    0.]),\n",
       " ' a2_plus': array([ 25., 100.,   0.]),\n",
       " 'a3_minus': array([  25., -100.,  560.]),\n",
       " 'a3_plus': array([ 25., 100., 560.]),\n",
       " 'a4_minus': array([182.5,   0. , 585. ]),\n",
       " 'a4_origin': array([282.5,   0. , 585. ]),\n",
       " 'a5_minus': array([ 540., -100.,  585.]),\n",
       " 'a5_plus': array([540., 100., 585.]),\n",
       " 'a6_minus': array([530.,   0., 585.]),\n",
       " 'a6_origin': array([630.,   0., 585.]),\n",
       " 'direction': array([631.,   0., 585.])}"
      ]
     },
     "execution_count": 266,
     "metadata": {},
     "output_type": "execute_result"
    }
   ],
   "source": [
    "nx.get_node_attributes(G,'pos_ref')"
   ]
  },
  {
   "cell_type": "code",
   "execution_count": 267,
   "id": "91272e94",
   "metadata": {},
   "outputs": [
    {
     "name": "stdout",
     "output_type": "stream",
     "text": [
      "x\n",
      "x\n",
      "x\n",
      "x\n",
      "x\n",
      "x\n",
      "y\n",
      "y\n",
      "y\n",
      "y\n",
      "y\n",
      "a1_plus\n",
      "a1_plus\n",
      "a1_plus\n",
      "a1_plus\n",
      "a1_plus\n",
      "a1_plus\n",
      "a1_origin\n",
      "a1_origin\n",
      "a2_minus\n",
      "a2_minus\n",
      "a2_minus\n",
      " a2_plus\n",
      " a2_plus\n",
      "a3_minus\n",
      "a3_minus\n",
      "a3_minus\n",
      "a3_plus\n",
      "a3_plus\n",
      "a4_minus\n",
      "a4_minus\n",
      "a4_minus\n",
      "a4_origin\n",
      "a4_origin\n",
      "a5_minus\n",
      "a5_minus\n",
      "a5_minus\n",
      "a5_plus\n",
      "a5_plus\n",
      "a6_minus\n",
      "a6_origin\n"
     ]
    },
    {
     "data": {
      "text/plain": [
       "(3, 41)"
      ]
     },
     "execution_count": 267,
     "metadata": {},
     "output_type": "execute_result"
    }
   ],
   "source": [
    "Y_init = np.zeros((3,41))\n",
    "\n",
    "for i, e in enumerate(list(G.edges)):\n",
    "    print(e[0])\n",
    "    p1 = G.nodes[e[0]]['pos_ref']\n",
    "    p2 = G.nodes[e[1]]['pos_ref']\n",
    "    Y_init[:,i] = (p2-p1)/max(np.linalg.norm(p2-p1),10**-9)\n",
    "\n",
    "Y_init.shape"
   ]
  },
  {
   "cell_type": "code",
   "execution_count": 268,
   "id": "58ba7ff7",
   "metadata": {},
   "outputs": [
    {
     "data": {
      "text/plain": [
       "29604.905800385444"
      ]
     },
     "execution_count": 268,
     "metadata": {},
     "output_type": "execute_result"
    }
   ],
   "source": [
    "\n",
    "cost(Y_init)\n"
   ]
  },
  {
   "cell_type": "code",
   "execution_count": 269,
   "id": "19f7b105",
   "metadata": {},
   "outputs": [
    {
     "data": {
      "text/plain": [
       "{'x': array([100,   0,   0]),\n",
       " 'y': array([  0, 100,   0]),\n",
       " 'a1_plus': array([  0.,   0., 100.]),\n",
       " 'a1_origin': array([0., 0., 0.]),\n",
       " 'a2_minus': array([  25., -100.,    0.]),\n",
       " ' a2_plus': array([ 25., 100.,   0.]),\n",
       " 'a3_minus': array([  25., -100.,  560.]),\n",
       " 'a3_plus': array([ 25., 100., 560.]),\n",
       " 'a4_minus': array([182.5,   0. , 585. ]),\n",
       " 'a4_origin': array([282.5,   0. , 585. ]),\n",
       " 'a5_minus': array([ 540., -100.,  585.]),\n",
       " 'a5_plus': array([540., 100., 585.]),\n",
       " 'a6_minus': array([530.,   0., 585.]),\n",
       " 'a6_origin': array([630.,   0., 585.]),\n",
       " 'direction': array([631.,   0., 585.])}"
      ]
     },
     "execution_count": 269,
     "metadata": {},
     "output_type": "execute_result"
    }
   ],
   "source": [
    "nx.get_node_attributes(G,'pos_ref')\n"
   ]
  },
  {
   "cell_type": "code",
   "execution_count": 270,
   "id": "5d2a972a",
   "metadata": {},
   "outputs": [
    {
     "data": {
      "text/plain": [
       "{('x', 'y'): 141.4213562373095,\n",
       " ('x', 'a1_plus'): 141.4213562373095,\n",
       " ('x', 'a1_origin'): 100.0,\n",
       " ('x', 'a6_origin'): 789.3826701923472,\n",
       " ('x', 'direction'): 790.0544285047708,\n",
       " ('x', 'a6_minus'): 726.0337457721921,\n",
       " ('y', 'a1_plus'): 141.4213562373095,\n",
       " ('y', 'a1_origin'): 100.0,\n",
       " ('y', 'a6_origin'): 865.520074868284,\n",
       " ('y', 'direction'): 866.2482323214288,\n",
       " ('y', 'a6_minus'): 795.6915231419774,\n",
       " ('a1_plus', 'a1_origin'): 100.0,\n",
       " ('a1_plus', 'a2_minus'): 143.61406616345073,\n",
       " ('a1_plus', ' a2_plus'): 143.61406616345073,\n",
       " ('a1_plus', 'a6_origin'): 795.0628905941969,\n",
       " ('a1_plus', 'direction'): 795.8555145250926,\n",
       " ('a1_plus', 'a6_minus'): 718.4184017687743,\n",
       " ('a1_origin', 'a2_minus'): 103.07764064044152,\n",
       " ('a1_origin', ' a2_plus'): 103.07764064044152,\n",
       " ('a2_minus', ' a2_plus'): 200.0,\n",
       " ('a2_minus', 'a3_minus'): 560.0,\n",
       " ('a2_minus', 'a3_plus'): 594.6427498927402,\n",
       " (' a2_plus', 'a3_minus'): 594.6427498927402,\n",
       " (' a2_plus', 'a3_plus'): 560.0,\n",
       " ('a3_minus', 'a3_plus'): 200.0,\n",
       " ('a3_minus', 'a4_minus'): 188.23190484081067,\n",
       " ('a3_minus', 'a4_origin'): 277.36483194521975,\n",
       " ('a3_plus', 'a4_minus'): 188.23190484081067,\n",
       " ('a3_plus', 'a4_origin'): 277.36483194521975,\n",
       " ('a4_minus', 'a4_origin'): 100.0,\n",
       " ('a4_minus', 'a5_minus'): 371.22264208962247,\n",
       " ('a4_minus', 'a5_plus'): 371.22264208962247,\n",
       " ('a4_origin', 'a5_minus'): 276.2358593665927,\n",
       " ('a4_origin', 'a5_plus'): 276.2358593665927,\n",
       " ('a5_minus', 'a5_plus'): 200.0,\n",
       " ('a5_minus', 'a6_minus'): 100.4987562112089,\n",
       " ('a5_minus', 'a6_origin'): 134.5362404707371,\n",
       " ('a5_plus', 'a6_minus'): 100.4987562112089,\n",
       " ('a5_plus', 'a6_origin'): 134.5362404707371,\n",
       " ('a6_minus', 'a6_origin'): 100.0,\n",
       " ('a6_origin', 'direction'): 1.0}"
      ]
     },
     "execution_count": 270,
     "metadata": {},
     "output_type": "execute_result"
    }
   ],
   "source": [
    "G.edges()\n",
    "nx.get_edge_attributes(G, \"weight\")"
   ]
  },
  {
   "cell_type": "code",
   "execution_count": 272,
   "id": "ec570498",
   "metadata": {
    "scrolled": true
   },
   "outputs": [
    {
     "name": "stdout",
     "output_type": "stream",
     "text": [
      "(15, 41)\n",
      "Optimizing...\n",
      "                                            f: +5.819269e+06   |grad|: 9.653081e+05\n",
      "acc       k:     1     num_inner:     0     f: +3.953268e+06   |grad|: 7.807144e+05   negative curvature\n",
      "acc       k:     2     num_inner:     0     f: +2.695039e+06   |grad|: 6.874781e+05   exceeded trust region\n",
      "acc       k:     3     num_inner:     0     f: +1.983236e+06   |grad|: 7.011931e+05   exceeded trust region\n",
      "acc       k:     4     num_inner:     1     f: +1.506794e+06   |grad|: 9.865467e+05   negative curvature\n",
      "acc       k:     5     num_inner:     1     f: +5.667299e+05   |grad|: 5.651875e+05   exceeded trust region\n",
      "acc TR+   k:     6     num_inner:     2     f: +2.110137e+05   |grad|: 2.285239e+05   exceeded trust region\n",
      "acc       k:     7     num_inner:     5     f: +1.372108e+05   |grad|: 2.206873e+05   exceeded trust region\n",
      "acc       k:     8     num_inner:     9     f: +6.869147e+04   |grad|: 1.570858e+05   exceeded trust region\n",
      "acc TR-   k:     9     num_inner:    14     f: +4.930200e+04   |grad|: 1.307145e+05   exceeded trust region\n",
      "acc TR+   k:    10     num_inner:     7     f: +6.442332e+03   |grad|: 2.291821e+04   exceeded trust region\n",
      "acc TR-   k:    11     num_inner:    31     f: +5.427020e+03   |grad|: 4.239047e+04   exceeded trust region\n",
      "acc       k:    12     num_inner:    12     f: +1.536187e+03   |grad|: 4.287527e+03   reached target residual-kappa (linear)\n",
      "acc TR+   k:    13     num_inner:    26     f: +1.126169e+03   |grad|: 3.947598e+03   exceeded trust region\n",
      "acc       k:    14     num_inner:    22     f: +1.004422e+03   |grad|: 1.625890e+04   exceeded trust region\n",
      "acc       k:    15     num_inner:    20     f: +3.223233e+02   |grad|: 1.398436e+03   reached target residual-kappa (linear)\n",
      "REJ TR-   k:    16     num_inner:    31     f: +3.223233e+02   |grad|: 1.398436e+03   exceeded trust region\n",
      "acc TR+   k:    17     num_inner:    14     f: +2.230926e+02   |grad|: 2.062654e+03   exceeded trust region\n",
      "acc TR+   k:    18     num_inner:    27     f: +1.011984e+02   |grad|: 3.310960e+03   exceeded trust region\n",
      "acc       k:    19     num_inner:    42     f: +2.980566e+01   |grad|: 2.363391e+03   reached target residual-kappa (linear)\n",
      "acc       k:    20     num_inner:    22     f: +1.450530e+01   |grad|: 2.251167e+02   reached target residual-kappa (linear)\n",
      "acc       k:    21     num_inner:    71     f: +6.472230e+00   |grad|: 1.558745e+03   reached target residual-kappa (linear)\n",
      "acc       k:    22     num_inner:     6     f: +2.847696e+00   |grad|: 1.458339e+02   reached target residual-kappa (linear)\n",
      "acc       k:    23     num_inner:    62     f: +1.331097e+00   |grad|: 5.842416e+02   reached target residual-kappa (linear)\n",
      "acc       k:    24     num_inner:     6     f: +8.142115e-01   |grad|: 4.337814e+01   reached target residual-kappa (linear)\n",
      "acc       k:    25     num_inner:    81     f: +4.676831e-01   |grad|: 2.279319e+02   maximum inner iterations\n",
      "acc       k:    26     num_inner:     6     f: +3.880631e-01   |grad|: 1.827990e+01   reached target residual-kappa (linear)\n",
      "acc       k:    27     num_inner:    81     f: +2.939451e-01   |grad|: 1.096882e+02   maximum inner iterations\n",
      "acc       k:    28     num_inner:     6     f: +2.737789e-01   |grad|: 1.000470e+01   reached target residual-kappa (linear)\n",
      "acc       k:    29     num_inner:    81     f: +2.389808e-01   |grad|: 1.168452e+01   maximum inner iterations\n",
      "acc       k:    30     num_inner:    81     f: +2.180002e-01   |grad|: 8.883965e+00   maximum inner iterations\n",
      "acc       k:    31     num_inner:    81     f: +1.997110e-01   |grad|: 7.545171e+00   maximum inner iterations\n",
      "acc       k:    32     num_inner:    81     f: +1.832145e-01   |grad|: 6.236233e+00   maximum inner iterations\n",
      "acc       k:    33     num_inner:    81     f: +1.662199e-01   |grad|: 6.404051e+00   maximum inner iterations\n",
      "acc       k:    34     num_inner:    81     f: +1.506720e-01   |grad|: 4.623025e+00   maximum inner iterations\n",
      "acc       k:    35     num_inner:    81     f: +1.315534e-01   |grad|: 1.087917e+01   maximum inner iterations\n",
      "acc       k:    36     num_inner:    81     f: +1.140931e-01   |grad|: 9.341925e+00   maximum inner iterations\n",
      "acc       k:    37     num_inner:    81     f: +7.535305e-02   |grad|: 2.651400e+01   maximum inner iterations\n",
      "acc       k:    38     num_inner:    80     f: +5.406894e-02   |grad|: 3.637267e+00   reached target residual-kappa (linear)\n",
      "acc       k:    39     num_inner:    81     f: +5.112627e-02   |grad|: 5.926125e+00   maximum inner iterations\n",
      "acc       k:    40     num_inner:    81     f: +4.854344e-02   |grad|: 1.718058e+00   maximum inner iterations\n",
      "acc       k:    41     num_inner:    81     f: +4.658659e-02   |grad|: 1.900761e+00   maximum inner iterations\n",
      "acc       k:    42     num_inner:    81     f: +4.482558e-02   |grad|: 2.241823e+00   maximum inner iterations\n",
      "acc       k:    43     num_inner:    81     f: +4.327773e-02   |grad|: 2.672590e+00   maximum inner iterations\n",
      "acc       k:    44     num_inner:    81     f: +4.185106e-02   |grad|: 1.877763e+00   maximum inner iterations\n",
      "acc       k:    45     num_inner:    81     f: +4.056211e-02   |grad|: 1.164494e+00   maximum inner iterations\n",
      "acc       k:    46     num_inner:    81     f: +3.935780e-02   |grad|: 3.391570e+00   maximum inner iterations\n",
      "acc       k:    47     num_inner:    81     f: +3.824816e-02   |grad|: 1.109719e+00   maximum inner iterations\n",
      "acc       k:    48     num_inner:    81     f: +3.721519e-02   |grad|: 1.513577e+00   maximum inner iterations\n",
      "acc       k:    49     num_inner:    81     f: +3.625394e-02   |grad|: 1.124455e+00   maximum inner iterations\n",
      "acc       k:    50     num_inner:    81     f: +3.534786e-02   |grad|: 1.094779e+00   maximum inner iterations\n",
      "acc       k:    51     num_inner:    81     f: +3.450011e-02   |grad|: 1.119535e+00   maximum inner iterations\n",
      "acc       k:    52     num_inner:    81     f: +3.369305e-02   |grad|: 9.351272e-01   maximum inner iterations\n",
      "acc       k:    53     num_inner:    81     f: +3.293284e-02   |grad|: 8.367551e-01   maximum inner iterations\n",
      "acc       k:    54     num_inner:    81     f: +3.220733e-02   |grad|: 1.036071e+00   maximum inner iterations\n",
      "acc       k:    55     num_inner:    81     f: +3.152147e-02   |grad|: 1.903421e+00   maximum inner iterations\n",
      "acc       k:    56     num_inner:    81     f: +3.085126e-02   |grad|: 1.040830e+00   maximum inner iterations\n",
      "acc       k:    57     num_inner:    81     f: +3.022482e-02   |grad|: 6.101231e-01   maximum inner iterations\n",
      "acc       k:    58     num_inner:    81     f: +2.961182e-02   |grad|: 9.974922e-01   maximum inner iterations\n",
      "acc       k:    59     num_inner:    81     f: +2.903480e-02   |grad|: 6.970475e-01   maximum inner iterations\n",
      "acc       k:    60     num_inner:    81     f: +2.846807e-02   |grad|: 1.044642e+00   maximum inner iterations\n",
      "acc       k:    61     num_inner:    81     f: +2.791606e-02   |grad|: 3.212415e+00   maximum inner iterations\n",
      "acc       k:    62     num_inner:    81     f: +2.735673e-02   |grad|: 2.982468e+00   maximum inner iterations\n",
      "acc       k:    63     num_inner:    81     f: +2.684918e-02   |grad|: 7.756944e-01   maximum inner iterations\n",
      "acc       k:    64     num_inner:    81     f: +2.636510e-02   |grad|: 6.803529e-01   maximum inner iterations\n",
      "acc       k:    65     num_inner:    81     f: +2.591720e-02   |grad|: 4.083995e-01   maximum inner iterations\n",
      "acc       k:    66     num_inner:    81     f: +2.548667e-02   |grad|: 6.195712e-01   maximum inner iterations\n",
      "acc       k:    67     num_inner:    81     f: +2.508215e-02   |grad|: 1.004041e+00   maximum inner iterations\n",
      "acc       k:    68     num_inner:    81     f: +2.465777e-02   |grad|: 1.373651e+00   maximum inner iterations\n",
      "acc       k:    69     num_inner:    81     f: +2.426773e-02   |grad|: 7.132557e-01   maximum inner iterations\n",
      "acc       k:    70     num_inner:    81     f: +2.388303e-02   |grad|: 1.243901e+00   maximum inner iterations\n",
      "acc       k:    71     num_inner:    81     f: +2.353127e-02   |grad|: 3.981587e-01   maximum inner iterations\n",
      "acc       k:    72     num_inner:    81     f: +2.316270e-02   |grad|: 1.256061e+00   maximum inner iterations\n",
      "acc       k:    73     num_inner:    81     f: +2.283145e-02   |grad|: 2.580300e-01   maximum inner iterations\n",
      "acc       k:    74     num_inner:    81     f: +2.247617e-02   |grad|: 1.197620e+00   maximum inner iterations\n",
      "acc       k:    75     num_inner:    81     f: +2.216278e-02   |grad|: 7.908552e-01   maximum inner iterations\n",
      "acc       k:    76     num_inner:    81     f: +2.180992e-02   |grad|: 9.080236e-01   maximum inner iterations\n",
      "acc       k:    77     num_inner:    81     f: +2.151622e-02   |grad|: 3.226453e-01   maximum inner iterations\n",
      "acc       k:    78     num_inner:    81     f: +2.118865e-02   |grad|: 1.175951e+00   maximum inner iterations\n",
      "acc       k:    79     num_inner:    81     f: +2.093327e-02   |grad|: 6.535339e-01   maximum inner iterations\n",
      "acc       k:    80     num_inner:    81     f: +2.066985e-02   |grad|: 1.609352e+00   maximum inner iterations\n",
      "acc       k:    81     num_inner:    81     f: +2.048370e-02   |grad|: 3.172005e-01   maximum inner iterations\n",
      "acc       k:    82     num_inner:    81     f: +2.044249e-02   |grad|: 8.751318e-01   maximum inner iterations\n",
      "acc       k:    83     num_inner:    81     f: +2.039755e-02   |grad|: 6.427966e-01   maximum inner iterations\n",
      "acc       k:    84     num_inner:    81     f: +2.037739e-02   |grad|: 1.863336e-01   maximum inner iterations\n",
      "acc       k:    85     num_inner:    81     f: +2.036015e-02   |grad|: 6.276548e-01   maximum inner iterations\n"
     ]
    },
    {
     "name": "stdout",
     "output_type": "stream",
     "text": [
      "acc       k:    86     num_inner:    81     f: +2.034372e-02   |grad|: 1.978653e-01   maximum inner iterations\n",
      "acc       k:    87     num_inner:    81     f: +2.032867e-02   |grad|: 3.025532e-01   maximum inner iterations\n",
      "acc       k:    88     num_inner:    81     f: +2.031428e-02   |grad|: 2.344037e-01   maximum inner iterations\n",
      "acc       k:    89     num_inner:    81     f: +2.030039e-02   |grad|: 3.736627e-01   maximum inner iterations\n",
      "acc       k:    90     num_inner:    81     f: +2.028700e-02   |grad|: 1.276439e-01   maximum inner iterations\n",
      "acc       k:    91     num_inner:    81     f: +2.027446e-02   |grad|: 1.301082e-01   maximum inner iterations\n",
      "acc       k:    92     num_inner:    81     f: +2.026192e-02   |grad|: 5.641291e-01   maximum inner iterations\n",
      "acc       k:    93     num_inner:    81     f: +2.024950e-02   |grad|: 2.212407e-01   maximum inner iterations\n",
      "acc       k:    94     num_inner:    81     f: +2.023807e-02   |grad|: 1.084993e-01   maximum inner iterations\n",
      "acc       k:    95     num_inner:    81     f: +2.022721e-02   |grad|: 2.104986e-01   maximum inner iterations\n",
      "acc       k:    96     num_inner:    81     f: +2.021678e-02   |grad|: 1.094071e-01   maximum inner iterations\n",
      "acc       k:    97     num_inner:    81     f: +2.020672e-02   |grad|: 1.834413e-01   maximum inner iterations\n",
      "acc       k:    98     num_inner:    81     f: +2.019708e-02   |grad|: 1.532781e-01   maximum inner iterations\n",
      "acc       k:    99     num_inner:    81     f: +2.018776e-02   |grad|: 2.585619e-01   maximum inner iterations\n",
      "acc       k:   100     num_inner:    81     f: +2.017881e-02   |grad|: 7.785530e-02   maximum inner iterations\n",
      "acc       k:   101     num_inner:    81     f: +2.017026e-02   |grad|: 9.799214e-02   maximum inner iterations\n",
      "acc       k:   102     num_inner:    81     f: +2.016207e-02   |grad|: 1.149646e-01   maximum inner iterations\n",
      "acc       k:   103     num_inner:    81     f: +2.015386e-02   |grad|: 2.194282e-01   maximum inner iterations\n",
      "acc       k:   104     num_inner:    81     f: +2.014579e-02   |grad|: 1.395196e-01   maximum inner iterations\n",
      "acc       k:   105     num_inner:    81     f: +2.013829e-02   |grad|: 9.009336e-02   maximum inner iterations\n",
      "acc       k:   106     num_inner:    81     f: +2.013123e-02   |grad|: 6.157716e-02   maximum inner iterations\n",
      "acc       k:   107     num_inner:    81     f: +2.012437e-02   |grad|: 2.188346e-01   maximum inner iterations\n",
      "acc       k:   108     num_inner:    81     f: +2.011767e-02   |grad|: 1.585401e-01   maximum inner iterations\n",
      "acc       k:   109     num_inner:    81     f: +2.011110e-02   |grad|: 1.457798e-01   maximum inner iterations\n",
      "acc       k:   110     num_inner:    81     f: +2.010488e-02   |grad|: 9.909395e-02   maximum inner iterations\n",
      "acc       k:   111     num_inner:    81     f: +2.009863e-02   |grad|: 2.687357e-01   maximum inner iterations\n",
      "acc       k:   112     num_inner:    81     f: +2.009259e-02   |grad|: 1.187248e-01   maximum inner iterations\n",
      "acc       k:   113     num_inner:    81     f: +2.008639e-02   |grad|: 4.154486e-01   maximum inner iterations\n",
      "acc       k:   114     num_inner:    81     f: +2.008043e-02   |grad|: 5.382724e-02   maximum inner iterations\n",
      "acc       k:   115     num_inner:    81     f: +2.007523e-02   |grad|: 1.037772e-01   maximum inner iterations\n",
      "acc       k:   116     num_inner:    81     f: +2.007024e-02   |grad|: 7.701326e-02   maximum inner iterations\n",
      "acc       k:   117     num_inner:    81     f: +2.006528e-02   |grad|: 1.201142e-01   maximum inner iterations\n",
      "acc       k:   118     num_inner:    81     f: +2.006050e-02   |grad|: 5.067379e-02   maximum inner iterations\n",
      "acc       k:   119     num_inner:    81     f: +2.005596e-02   |grad|: 8.868649e-02   maximum inner iterations\n",
      "acc       k:   120     num_inner:    81     f: +2.005154e-02   |grad|: 9.920656e-02   maximum inner iterations\n",
      "acc       k:   121     num_inner:    81     f: +2.004729e-02   |grad|: 6.639218e-02   maximum inner iterations\n",
      "acc       k:   122     num_inner:    81     f: +2.004319e-02   |grad|: 4.620078e-02   maximum inner iterations\n",
      "acc       k:   123     num_inner:    81     f: +2.003904e-02   |grad|: 1.397526e-01   maximum inner iterations\n",
      "acc       k:   124     num_inner:    81     f: +2.003504e-02   |grad|: 1.002573e-01   maximum inner iterations\n",
      "acc       k:   125     num_inner:    81     f: +2.003067e-02   |grad|: 1.457533e-01   maximum inner iterations\n",
      "acc       k:   126     num_inner:    81     f: +2.002650e-02   |grad|: 7.560373e-02   maximum inner iterations\n",
      "acc       k:   127     num_inner:    81     f: +2.002281e-02   |grad|: 1.282972e-01   maximum inner iterations\n",
      "acc       k:   128     num_inner:    81     f: +2.001925e-02   |grad|: 5.075050e-02   maximum inner iterations\n",
      "acc       k:   129     num_inner:    81     f: +2.001570e-02   |grad|: 1.505928e-01   maximum inner iterations\n",
      "acc       k:   130     num_inner:    81     f: +2.001226e-02   |grad|: 6.056036e-02   maximum inner iterations\n",
      "acc       k:   131     num_inner:    81     f: +2.000899e-02   |grad|: 1.919391e-01   maximum inner iterations\n",
      "acc       k:   132     num_inner:    81     f: +2.000579e-02   |grad|: 5.985600e-02   maximum inner iterations\n",
      "acc       k:   133     num_inner:    81     f: +2.000279e-02   |grad|: 1.067233e-01   maximum inner iterations\n",
      "acc       k:   134     num_inner:    81     f: +1.999988e-02   |grad|: 7.716673e-02   maximum inner iterations\n",
      "acc       k:   135     num_inner:    81     f: +1.999697e-02   |grad|: 8.942580e-02   maximum inner iterations\n",
      "acc       k:   136     num_inner:    81     f: +1.999415e-02   |grad|: 3.690028e-02   maximum inner iterations\n",
      "acc       k:   137     num_inner:    81     f: +1.999148e-02   |grad|: 7.565661e-02   maximum inner iterations\n",
      "acc       k:   138     num_inner:    81     f: +1.998885e-02   |grad|: 8.408465e-02   maximum inner iterations\n",
      "acc       k:   139     num_inner:    81     f: +1.998627e-02   |grad|: 7.571275e-02   maximum inner iterations\n",
      "acc       k:   140     num_inner:    81     f: +1.998381e-02   |grad|: 6.042383e-02   maximum inner iterations\n",
      "acc       k:   141     num_inner:    81     f: +1.998137e-02   |grad|: 1.178139e-01   maximum inner iterations\n",
      "acc       k:   142     num_inner:    81     f: +1.997899e-02   |grad|: 3.622558e-02   maximum inner iterations\n",
      "acc       k:   143     num_inner:    81     f: +1.997672e-02   |grad|: 9.707043e-02   maximum inner iterations\n",
      "acc       k:   144     num_inner:    81     f: +1.997446e-02   |grad|: 6.696195e-02   maximum inner iterations\n",
      "acc       k:   145     num_inner:    81     f: +1.997229e-02   |grad|: 9.312765e-02   maximum inner iterations\n",
      "acc       k:   146     num_inner:    81     f: +1.997014e-02   |grad|: 1.650849e-01   maximum inner iterations\n",
      "acc       k:   147     num_inner:    81     f: +1.996805e-02   |grad|: 8.225730e-02   maximum inner iterations\n",
      "acc       k:   148     num_inner:    81     f: +1.996602e-02   |grad|: 9.188494e-02   maximum inner iterations\n",
      "acc       k:   149     num_inner:    81     f: +1.996404e-02   |grad|: 6.909204e-02   maximum inner iterations\n",
      "acc       k:   150     num_inner:    81     f: +1.996212e-02   |grad|: 5.379589e-02   maximum inner iterations\n",
      "acc       k:   151     num_inner:    81     f: +1.996024e-02   |grad|: 6.496563e-02   maximum inner iterations\n",
      "acc       k:   152     num_inner:    81     f: +1.995841e-02   |grad|: 4.517780e-02   maximum inner iterations\n",
      "acc       k:   153     num_inner:    81     f: +1.995662e-02   |grad|: 8.939927e-02   maximum inner iterations\n",
      "acc       k:   154     num_inner:    81     f: +1.995485e-02   |grad|: 2.755147e-02   maximum inner iterations\n",
      "acc       k:   155     num_inner:    81     f: +1.995313e-02   |grad|: 8.133506e-02   maximum inner iterations\n",
      "acc       k:   156     num_inner:    81     f: +1.995141e-02   |grad|: 5.245803e-02   maximum inner iterations\n",
      "acc       k:   157     num_inner:    81     f: +1.994974e-02   |grad|: 5.626567e-02   maximum inner iterations\n",
      "acc       k:   158     num_inner:    81     f: +1.994811e-02   |grad|: 7.135315e-02   maximum inner iterations\n",
      "acc       k:   159     num_inner:    81     f: +1.994650e-02   |grad|: 7.413655e-02   maximum inner iterations\n",
      "acc       k:   160     num_inner:    81     f: +1.994490e-02   |grad|: 7.084179e-02   maximum inner iterations\n",
      "acc       k:   161     num_inner:    81     f: +1.994334e-02   |grad|: 2.717652e-02   maximum inner iterations\n",
      "acc       k:   162     num_inner:    81     f: +1.994182e-02   |grad|: 6.297321e-02   maximum inner iterations\n",
      "acc       k:   163     num_inner:    81     f: +1.994030e-02   |grad|: 7.297769e-02   maximum inner iterations\n",
      "acc       k:   164     num_inner:    81     f: +1.993881e-02   |grad|: 4.795287e-02   maximum inner iterations\n",
      "acc       k:   165     num_inner:    81     f: +1.993697e-02   |grad|: 4.739232e-01   maximum inner iterations\n",
      "acc       k:   166     num_inner:     5     f: +1.993660e-02   |grad|: 3.808140e-02   reached target residual-kappa (linear)\n",
      "acc       k:   167     num_inner:    81     f: +1.993516e-02   |grad|: 2.977348e-02   maximum inner iterations\n",
      "acc       k:   168     num_inner:    81     f: +1.993376e-02   |grad|: 3.372850e-02   maximum inner iterations\n",
      "acc       k:   169     num_inner:    81     f: +1.993238e-02   |grad|: 4.403900e-02   maximum inner iterations\n",
      "acc       k:   170     num_inner:    81     f: +1.993102e-02   |grad|: 7.293166e-02   maximum inner iterations\n"
     ]
    },
    {
     "name": "stdout",
     "output_type": "stream",
     "text": [
      "acc       k:   171     num_inner:    81     f: +1.992967e-02   |grad|: 4.836391e-02   maximum inner iterations\n",
      "acc       k:   172     num_inner:    81     f: +1.992825e-02   |grad|: 7.566104e-02   maximum inner iterations\n",
      "acc       k:   173     num_inner:    81     f: +1.992686e-02   |grad|: 5.757515e-02   maximum inner iterations\n",
      "acc       k:   174     num_inner:    81     f: +1.992546e-02   |grad|: 1.482198e-01   maximum inner iterations\n",
      "acc       k:   175     num_inner:    81     f: +1.992408e-02   |grad|: 2.175110e-02   maximum inner iterations\n",
      "acc       k:   176     num_inner:    81     f: +1.992278e-02   |grad|: 7.625096e-02   maximum inner iterations\n",
      "acc       k:   177     num_inner:    81     f: +1.992147e-02   |grad|: 9.080373e-02   maximum inner iterations\n",
      "acc       k:   178     num_inner:    81     f: +1.992019e-02   |grad|: 2.922211e-02   maximum inner iterations\n",
      "acc       k:   179     num_inner:    81     f: +1.991894e-02   |grad|: 3.442664e-02   maximum inner iterations\n",
      "acc       k:   180     num_inner:    81     f: +1.991771e-02   |grad|: 8.481150e-02   maximum inner iterations\n",
      "acc       k:   181     num_inner:    81     f: +1.991645e-02   |grad|: 1.080114e-01   maximum inner iterations\n",
      "acc       k:   182     num_inner:    81     f: +1.991523e-02   |grad|: 9.256061e-02   maximum inner iterations\n",
      "acc       k:   183     num_inner:    81     f: +1.991405e-02   |grad|: 2.305060e-02   maximum inner iterations\n",
      "acc       k:   184     num_inner:    81     f: +1.991290e-02   |grad|: 6.275698e-02   maximum inner iterations\n",
      "acc       k:   185     num_inner:    81     f: +1.991174e-02   |grad|: 7.921885e-02   maximum inner iterations\n",
      "acc       k:   186     num_inner:    81     f: +1.991058e-02   |grad|: 6.436847e-02   maximum inner iterations\n",
      "acc       k:   187     num_inner:    81     f: +1.990944e-02   |grad|: 4.050605e-02   maximum inner iterations\n",
      "acc       k:   188     num_inner:    81     f: +1.990831e-02   |grad|: 4.322631e-02   maximum inner iterations\n",
      "acc       k:   189     num_inner:    81     f: +1.990719e-02   |grad|: 3.286403e-02   maximum inner iterations\n",
      "acc       k:   190     num_inner:    81     f: +1.990608e-02   |grad|: 2.335112e-02   maximum inner iterations\n",
      "acc       k:   191     num_inner:    81     f: +1.990498e-02   |grad|: 4.099280e-02   maximum inner iterations\n",
      "acc       k:   192     num_inner:    81     f: +1.990388e-02   |grad|: 4.467188e-02   maximum inner iterations\n",
      "acc       k:   193     num_inner:    81     f: +1.990278e-02   |grad|: 6.283443e-02   maximum inner iterations\n",
      "acc       k:   194     num_inner:    81     f: +1.990167e-02   |grad|: 1.261838e-01   maximum inner iterations\n",
      "acc       k:   195     num_inner:    81     f: +1.990053e-02   |grad|: 9.735036e-02   maximum inner iterations\n",
      "acc       k:   196     num_inner:    81     f: +1.989942e-02   |grad|: 5.807637e-02   maximum inner iterations\n",
      "acc       k:   197     num_inner:    81     f: +1.989832e-02   |grad|: 4.508943e-02   maximum inner iterations\n",
      "acc       k:   198     num_inner:    81     f: +1.989723e-02   |grad|: 1.894699e-02   maximum inner iterations\n",
      "acc       k:   199     num_inner:    81     f: +1.989616e-02   |grad|: 4.468896e-02   maximum inner iterations\n",
      "acc       k:   200     num_inner:    81     f: +1.989511e-02   |grad|: 3.253180e-02   maximum inner iterations\n",
      "acc       k:   201     num_inner:    81     f: +1.989406e-02   |grad|: 4.242547e-02   maximum inner iterations\n",
      "acc       k:   202     num_inner:    81     f: +1.989301e-02   |grad|: 1.029831e-01   maximum inner iterations\n",
      "acc       k:   203     num_inner:    81     f: +1.989196e-02   |grad|: 4.451071e-02   maximum inner iterations\n",
      "acc       k:   204     num_inner:    81     f: +1.989092e-02   |grad|: 5.257797e-02   maximum inner iterations\n",
      "acc       k:   205     num_inner:    81     f: +1.988988e-02   |grad|: 7.727097e-02   maximum inner iterations\n",
      "acc       k:   206     num_inner:    81     f: +1.988884e-02   |grad|: 6.652069e-02   maximum inner iterations\n",
      "acc       k:   207     num_inner:    81     f: +1.988781e-02   |grad|: 3.543022e-02   maximum inner iterations\n",
      "acc       k:   208     num_inner:    81     f: +1.988679e-02   |grad|: 4.581755e-02   maximum inner iterations\n",
      "acc       k:   209     num_inner:    81     f: +1.988577e-02   |grad|: 4.529772e-02   maximum inner iterations\n",
      "acc       k:   210     num_inner:    81     f: +1.988475e-02   |grad|: 2.998711e-02   maximum inner iterations\n",
      "acc       k:   211     num_inner:    81     f: +1.988374e-02   |grad|: 7.307781e-02   maximum inner iterations\n",
      "acc       k:   212     num_inner:    81     f: +1.988268e-02   |grad|: 4.643439e-02   maximum inner iterations\n",
      "acc       k:   213     num_inner:    81     f: +1.988164e-02   |grad|: 3.223477e-02   maximum inner iterations\n",
      "acc       k:   214     num_inner:    81     f: +1.988060e-02   |grad|: 4.626734e-02   maximum inner iterations\n",
      "acc       k:   215     num_inner:    81     f: +1.987955e-02   |grad|: 3.659881e-02   maximum inner iterations\n",
      "acc       k:   216     num_inner:    81     f: +1.987851e-02   |grad|: 6.207447e-02   maximum inner iterations\n",
      "acc       k:   217     num_inner:    81     f: +1.987746e-02   |grad|: 6.954941e-02   maximum inner iterations\n",
      "acc       k:   218     num_inner:    81     f: +1.987642e-02   |grad|: 5.293643e-02   maximum inner iterations\n",
      "acc       k:   219     num_inner:    81     f: +1.987539e-02   |grad|: 2.883646e-02   maximum inner iterations\n",
      "acc       k:   220     num_inner:    81     f: +1.987434e-02   |grad|: 1.560567e-01   maximum inner iterations\n",
      "acc       k:   221     num_inner:    81     f: +1.987327e-02   |grad|: 1.577716e-02   maximum inner iterations\n",
      "acc       k:   222     num_inner:    81     f: +1.987226e-02   |grad|: 3.427437e-02   maximum inner iterations\n",
      "acc       k:   223     num_inner:    81     f: +1.987124e-02   |grad|: 6.468617e-02   maximum inner iterations\n",
      "acc       k:   224     num_inner:    81     f: +1.987021e-02   |grad|: 4.626777e-02   maximum inner iterations\n",
      "acc       k:   225     num_inner:    81     f: +1.986918e-02   |grad|: 4.067230e-02   maximum inner iterations\n",
      "acc       k:   226     num_inner:    81     f: +1.986812e-02   |grad|: 7.385804e-02   maximum inner iterations\n",
      "acc       k:   227     num_inner:    81     f: +1.986706e-02   |grad|: 2.964627e-02   maximum inner iterations\n",
      "acc       k:   228     num_inner:    81     f: +1.986603e-02   |grad|: 7.926874e-02   maximum inner iterations\n",
      "acc       k:   229     num_inner:    81     f: +1.986499e-02   |grad|: 2.569245e-02   maximum inner iterations\n",
      "acc       k:   230     num_inner:    81     f: +1.986396e-02   |grad|: 6.353860e-02   maximum inner iterations\n",
      "acc       k:   231     num_inner:    81     f: +1.986292e-02   |grad|: 4.462272e-02   maximum inner iterations\n",
      "acc       k:   232     num_inner:    81     f: +1.986189e-02   |grad|: 2.711894e-02   maximum inner iterations\n",
      "acc       k:   233     num_inner:    81     f: +1.986087e-02   |grad|: 2.136599e-02   maximum inner iterations\n",
      "acc       k:   234     num_inner:    81     f: +1.985986e-02   |grad|: 5.750569e-02   maximum inner iterations\n",
      "acc       k:   235     num_inner:    81     f: +1.985882e-02   |grad|: 3.775513e-02   maximum inner iterations\n",
      "acc       k:   236     num_inner:    81     f: +1.985779e-02   |grad|: 1.987067e-02   maximum inner iterations\n",
      "acc       k:   237     num_inner:    81     f: +1.985678e-02   |grad|: 2.196974e-02   maximum inner iterations\n",
      "acc       k:   238     num_inner:    81     f: +1.985577e-02   |grad|: 3.316671e-02   maximum inner iterations\n",
      "acc       k:   239     num_inner:    81     f: +1.985474e-02   |grad|: 3.011650e-02   maximum inner iterations\n",
      "acc       k:   240     num_inner:    81     f: +1.985372e-02   |grad|: 7.224718e-02   maximum inner iterations\n",
      "acc       k:   241     num_inner:    81     f: +1.985267e-02   |grad|: 8.499934e-02   maximum inner iterations\n",
      "acc       k:   242     num_inner:    81     f: +1.985164e-02   |grad|: 4.904875e-02   maximum inner iterations\n",
      "acc       k:   243     num_inner:    81     f: +1.985061e-02   |grad|: 7.327486e-02   maximum inner iterations\n",
      "acc       k:   244     num_inner:    81     f: +1.984958e-02   |grad|: 4.168601e-02   maximum inner iterations\n",
      "acc       k:   245     num_inner:    81     f: +1.984856e-02   |grad|: 2.379689e-02   maximum inner iterations\n",
      "acc       k:   246     num_inner:    81     f: +1.984755e-02   |grad|: 3.495881e-02   maximum inner iterations\n",
      "acc       k:   247     num_inner:    81     f: +1.984651e-02   |grad|: 9.343618e-02   maximum inner iterations\n",
      "acc       k:   248     num_inner:    81     f: +1.984546e-02   |grad|: 4.517211e-02   maximum inner iterations\n",
      "acc       k:   249     num_inner:    81     f: +1.984443e-02   |grad|: 4.585509e-02   maximum inner iterations\n",
      "acc       k:   250     num_inner:    81     f: +1.984340e-02   |grad|: 3.335535e-02   maximum inner iterations\n",
      "acc       k:   251     num_inner:    81     f: +1.984237e-02   |grad|: 6.978114e-02   maximum inner iterations\n"
     ]
    },
    {
     "name": "stdout",
     "output_type": "stream",
     "text": [
      "acc       k:   252     num_inner:    81     f: +1.984133e-02   |grad|: 8.545775e-02   maximum inner iterations\n",
      "acc       k:   253     num_inner:    81     f: +1.984025e-02   |grad|: 1.437190e-01   maximum inner iterations\n",
      "acc       k:   254     num_inner:    81     f: +1.983917e-02   |grad|: 7.883456e-02   maximum inner iterations\n",
      "acc       k:   255     num_inner:    81     f: +1.983812e-02   |grad|: 4.007200e-02   maximum inner iterations\n",
      "acc       k:   256     num_inner:    81     f: +1.983708e-02   |grad|: 4.697255e-02   maximum inner iterations\n",
      "acc       k:   257     num_inner:    81     f: +1.983604e-02   |grad|: 1.037197e-01   maximum inner iterations\n",
      "acc       k:   258     num_inner:    81     f: +1.983500e-02   |grad|: 4.478722e-02   maximum inner iterations\n",
      "acc       k:   259     num_inner:    81     f: +1.983396e-02   |grad|: 4.605985e-02   maximum inner iterations\n",
      "acc       k:   260     num_inner:    81     f: +1.983291e-02   |grad|: 3.695087e-02   maximum inner iterations\n",
      "acc       k:   261     num_inner:    81     f: +1.983186e-02   |grad|: 2.745997e-02   maximum inner iterations\n",
      "acc       k:   262     num_inner:    81     f: +1.983082e-02   |grad|: 2.098910e-02   maximum inner iterations\n",
      "acc       k:   263     num_inner:    81     f: +1.982978e-02   |grad|: 3.782193e-02   maximum inner iterations\n",
      "acc       k:   264     num_inner:    81     f: +1.982872e-02   |grad|: 5.205311e-02   maximum inner iterations\n",
      "acc       k:   265     num_inner:    81     f: +1.982767e-02   |grad|: 4.056012e-02   maximum inner iterations\n",
      "acc       k:   266     num_inner:    81     f: +1.982661e-02   |grad|: 1.688897e-01   maximum inner iterations\n",
      "acc       k:   267     num_inner:    81     f: +1.982554e-02   |grad|: 3.785584e-02   maximum inner iterations\n",
      "acc       k:   268     num_inner:    81     f: +1.982448e-02   |grad|: 5.218767e-02   maximum inner iterations\n",
      "acc       k:   269     num_inner:    81     f: +1.982342e-02   |grad|: 5.094982e-02   maximum inner iterations\n",
      "acc       k:   270     num_inner:    81     f: +1.982235e-02   |grad|: 7.010687e-02   maximum inner iterations\n",
      "acc       k:   271     num_inner:    81     f: +1.982124e-02   |grad|: 8.595939e-02   maximum inner iterations\n",
      "acc       k:   272     num_inner:    81     f: +1.982014e-02   |grad|: 1.807533e-02   maximum inner iterations\n",
      "acc       k:   273     num_inner:    81     f: +1.981907e-02   |grad|: 2.120275e-02   maximum inner iterations\n",
      "acc       k:   274     num_inner:    81     f: +1.981799e-02   |grad|: 3.844680e-02   maximum inner iterations\n",
      "acc       k:   275     num_inner:    81     f: +1.981691e-02   |grad|: 5.018713e-02   maximum inner iterations\n",
      "acc       k:   276     num_inner:    81     f: +1.981582e-02   |grad|: 6.928389e-02   maximum inner iterations\n",
      "acc       k:   277     num_inner:    81     f: +1.981473e-02   |grad|: 2.225965e-02   maximum inner iterations\n",
      "acc       k:   278     num_inner:    81     f: +1.981365e-02   |grad|: 5.350072e-02   maximum inner iterations\n",
      "acc       k:   279     num_inner:    81     f: +1.981257e-02   |grad|: 3.134791e-02   maximum inner iterations\n",
      "acc       k:   280     num_inner:    81     f: +1.981148e-02   |grad|: 3.431036e-02   maximum inner iterations\n",
      "acc       k:   281     num_inner:    81     f: +1.981039e-02   |grad|: 2.538265e-02   maximum inner iterations\n",
      "acc       k:   282     num_inner:    81     f: +1.980929e-02   |grad|: 2.035782e-02   maximum inner iterations\n",
      "acc       k:   283     num_inner:    81     f: +1.980820e-02   |grad|: 2.603520e-02   maximum inner iterations\n",
      "acc       k:   284     num_inner:    81     f: +1.980711e-02   |grad|: 2.728001e-02   maximum inner iterations\n",
      "acc       k:   285     num_inner:    81     f: +1.980599e-02   |grad|: 4.105796e-02   maximum inner iterations\n",
      "acc       k:   286     num_inner:    81     f: +1.980487e-02   |grad|: 4.000227e-02   maximum inner iterations\n",
      "acc       k:   287     num_inner:    81     f: +1.980375e-02   |grad|: 9.066467e-02   maximum inner iterations\n",
      "acc       k:   288     num_inner:    81     f: +1.980262e-02   |grad|: 9.689589e-02   maximum inner iterations\n",
      "acc       k:   289     num_inner:    81     f: +1.980149e-02   |grad|: 3.423981e-02   maximum inner iterations\n",
      "acc       k:   290     num_inner:    81     f: +1.980037e-02   |grad|: 4.187039e-02   maximum inner iterations\n",
      "acc       k:   291     num_inner:    81     f: +1.979923e-02   |grad|: 1.075397e-01   maximum inner iterations\n",
      "acc       k:   292     num_inner:    81     f: +1.979807e-02   |grad|: 8.198612e-02   maximum inner iterations\n",
      "acc       k:   293     num_inner:    81     f: +1.979694e-02   |grad|: 5.450327e-02   maximum inner iterations\n",
      "acc       k:   294     num_inner:    81     f: +1.979579e-02   |grad|: 4.393916e-02   maximum inner iterations\n",
      "acc       k:   295     num_inner:    81     f: +1.979466e-02   |grad|: 2.953343e-02   maximum inner iterations\n",
      "acc       k:   296     num_inner:    81     f: +1.979352e-02   |grad|: 2.444728e-02   maximum inner iterations\n",
      "acc       k:   297     num_inner:    81     f: +1.979239e-02   |grad|: 2.430139e-02   maximum inner iterations\n",
      "acc       k:   298     num_inner:    81     f: +1.979121e-02   |grad|: 3.273845e-02   maximum inner iterations\n",
      "acc       k:   299     num_inner:    81     f: +1.979005e-02   |grad|: 2.035737e-02   maximum inner iterations\n",
      "acc       k:   300     num_inner:    81     f: +1.978885e-02   |grad|: 1.209802e-01   maximum inner iterations\n",
      "acc       k:   301     num_inner:    81     f: +1.978764e-02   |grad|: 5.164407e-02   maximum inner iterations\n",
      "acc       k:   302     num_inner:    81     f: +1.978645e-02   |grad|: 5.314934e-02   maximum inner iterations\n",
      "acc       k:   303     num_inner:    81     f: +1.978526e-02   |grad|: 3.641685e-02   maximum inner iterations\n",
      "acc       k:   304     num_inner:    81     f: +1.978402e-02   |grad|: 1.666482e-01   maximum inner iterations\n",
      "acc       k:   305     num_inner:    81     f: +1.978279e-02   |grad|: 7.721857e-02   maximum inner iterations\n",
      "acc       k:   306     num_inner:    81     f: +1.978155e-02   |grad|: 5.894235e-02   maximum inner iterations\n",
      "acc       k:   307     num_inner:    81     f: +1.978030e-02   |grad|: 3.589521e-02   maximum inner iterations\n",
      "acc       k:   308     num_inner:    81     f: +1.977904e-02   |grad|: 7.125849e-02   maximum inner iterations\n",
      "acc       k:   309     num_inner:    81     f: +1.977778e-02   |grad|: 1.539036e-02   maximum inner iterations\n",
      "acc       k:   310     num_inner:    81     f: +1.977653e-02   |grad|: 6.750937e-02   maximum inner iterations\n",
      "acc       k:   311     num_inner:    81     f: +1.977527e-02   |grad|: 1.478411e-02   maximum inner iterations\n",
      "acc       k:   312     num_inner:    81     f: +1.977404e-02   |grad|: 4.740304e-02   maximum inner iterations\n",
      "acc       k:   313     num_inner:    81     f: +1.977280e-02   |grad|: 5.001757e-02   maximum inner iterations\n",
      "acc       k:   314     num_inner:    81     f: +1.977154e-02   |grad|: 9.739674e-02   maximum inner iterations\n",
      "acc       k:   315     num_inner:    81     f: +1.977010e-02   |grad|: 2.928980e-01   maximum inner iterations\n",
      "acc       k:   316     num_inner:     6     f: +1.976994e-02   |grad|: 2.645149e-02   reached target residual-kappa (linear)\n",
      "acc       k:   317     num_inner:    81     f: +1.976865e-02   |grad|: 9.149147e-02   maximum inner iterations\n",
      "acc       k:   318     num_inner:    81     f: +1.976738e-02   |grad|: 5.640928e-02   maximum inner iterations\n",
      "acc       k:   319     num_inner:    81     f: +1.976611e-02   |grad|: 5.761352e-02   maximum inner iterations\n",
      "acc       k:   320     num_inner:    81     f: +1.976485e-02   |grad|: 1.494192e-02   maximum inner iterations\n",
      "acc       k:   321     num_inner:    81     f: +1.976360e-02   |grad|: 1.073008e-01   maximum inner iterations\n",
      "acc       k:   322     num_inner:    81     f: +1.976232e-02   |grad|: 3.249268e-02   maximum inner iterations\n",
      "acc       k:   323     num_inner:    81     f: +1.976106e-02   |grad|: 3.732193e-02   maximum inner iterations\n",
      "acc       k:   324     num_inner:    81     f: +1.975978e-02   |grad|: 3.505691e-02   maximum inner iterations\n",
      "acc       k:   325     num_inner:    81     f: +1.975850e-02   |grad|: 3.003949e-02   maximum inner iterations\n",
      "acc       k:   326     num_inner:    81     f: +1.975724e-02   |grad|: 2.612346e-02   maximum inner iterations\n",
      "acc       k:   327     num_inner:    81     f: +1.975598e-02   |grad|: 3.360002e-02   maximum inner iterations\n",
      "acc       k:   328     num_inner:    81     f: +1.975470e-02   |grad|: 5.157175e-02   maximum inner iterations\n",
      "acc       k:   329     num_inner:    81     f: +1.975342e-02   |grad|: 5.483345e-02   maximum inner iterations\n"
     ]
    },
    {
     "name": "stdout",
     "output_type": "stream",
     "text": [
      "acc       k:   330     num_inner:    81     f: +1.975211e-02   |grad|: 3.127878e-02   maximum inner iterations\n",
      "acc       k:   331     num_inner:    81     f: +1.975083e-02   |grad|: 5.448020e-02   maximum inner iterations\n",
      "acc       k:   332     num_inner:    81     f: +1.974955e-02   |grad|: 4.967891e-02   maximum inner iterations\n",
      "acc       k:   333     num_inner:    81     f: +1.974827e-02   |grad|: 7.905629e-02   maximum inner iterations\n",
      "acc       k:   334     num_inner:    81     f: +1.974699e-02   |grad|: 4.089067e-02   maximum inner iterations\n",
      "acc       k:   335     num_inner:    81     f: +1.974571e-02   |grad|: 5.073763e-02   maximum inner iterations\n",
      "acc       k:   336     num_inner:    81     f: +1.974443e-02   |grad|: 6.708006e-02   maximum inner iterations\n",
      "acc       k:   337     num_inner:    81     f: +1.974315e-02   |grad|: 9.263257e-02   maximum inner iterations\n",
      "acc       k:   338     num_inner:    81     f: +1.974185e-02   |grad|: 5.081424e-02   maximum inner iterations\n",
      "acc       k:   339     num_inner:    81     f: +1.974056e-02   |grad|: 6.663781e-02   maximum inner iterations\n",
      "acc       k:   340     num_inner:    81     f: +1.973927e-02   |grad|: 4.629844e-02   maximum inner iterations\n",
      "acc       k:   341     num_inner:    81     f: +1.973797e-02   |grad|: 3.640466e-02   maximum inner iterations\n",
      "acc       k:   342     num_inner:    81     f: +1.973668e-02   |grad|: 1.174992e-01   maximum inner iterations\n",
      "acc       k:   343     num_inner:    81     f: +1.973538e-02   |grad|: 3.482321e-02   maximum inner iterations\n",
      "acc       k:   344     num_inner:    81     f: +1.973410e-02   |grad|: 8.105337e-02   maximum inner iterations\n",
      "acc       k:   345     num_inner:    81     f: +1.973277e-02   |grad|: 1.823511e-01   maximum inner iterations\n",
      "acc       k:   346     num_inner:    69     f: +1.973149e-02   |grad|: 1.721575e-02   reached target residual-kappa (linear)\n",
      "acc       k:   347     num_inner:    81     f: +1.973000e-02   |grad|: 1.294930e-01   maximum inner iterations\n",
      "acc       k:   348     num_inner:    81     f: +1.972850e-02   |grad|: 5.291984e-02   maximum inner iterations\n",
      "acc       k:   349     num_inner:    81     f: +1.972700e-02   |grad|: 7.177677e-02   maximum inner iterations\n",
      "acc       k:   350     num_inner:    81     f: +1.972551e-02   |grad|: 2.066480e-02   maximum inner iterations\n",
      "acc       k:   351     num_inner:    81     f: +1.972404e-02   |grad|: 1.331855e-01   maximum inner iterations\n",
      "acc       k:   352     num_inner:    81     f: +1.972257e-02   |grad|: 2.506813e-02   maximum inner iterations\n",
      "acc       k:   353     num_inner:    81     f: +1.972111e-02   |grad|: 1.128076e-01   maximum inner iterations\n",
      "acc       k:   354     num_inner:    81     f: +1.971963e-02   |grad|: 1.420845e-01   maximum inner iterations\n",
      "acc       k:   355     num_inner:    81     f: +1.971809e-02   |grad|: 7.098593e-02   maximum inner iterations\n",
      "acc       k:   356     num_inner:    81     f: +1.971659e-02   |grad|: 4.514650e-02   maximum inner iterations\n",
      "acc       k:   357     num_inner:    81     f: +1.971496e-02   |grad|: 1.567137e-01   maximum inner iterations\n",
      "acc       k:   358     num_inner:    81     f: +1.971332e-02   |grad|: 3.123697e-02   maximum inner iterations\n",
      "acc       k:   359     num_inner:    81     f: +1.971176e-02   |grad|: 1.199904e-01   maximum inner iterations\n",
      "acc       k:   360     num_inner:    81     f: +1.971019e-02   |grad|: 3.360222e-02   maximum inner iterations\n",
      "acc       k:   361     num_inner:    81     f: +1.970862e-02   |grad|: 1.365946e-01   maximum inner iterations\n",
      "acc       k:   362     num_inner:    81     f: +1.970704e-02   |grad|: 2.679840e-02   maximum inner iterations\n",
      "acc       k:   363     num_inner:    81     f: +1.970551e-02   |grad|: 7.454314e-02   maximum inner iterations\n",
      "acc       k:   364     num_inner:    81     f: +1.970391e-02   |grad|: 9.470044e-02   maximum inner iterations\n",
      "acc       k:   365     num_inner:    81     f: +1.970232e-02   |grad|: 1.109920e-01   maximum inner iterations\n",
      "acc       k:   366     num_inner:    81     f: +1.970077e-02   |grad|: 4.105824e-02   maximum inner iterations\n",
      "acc       k:   367     num_inner:    81     f: +1.969923e-02   |grad|: 8.992778e-02   maximum inner iterations\n",
      "acc       k:   368     num_inner:    81     f: +1.969766e-02   |grad|: 4.542813e-02   maximum inner iterations\n",
      "acc       k:   369     num_inner:    81     f: +1.969615e-02   |grad|: 9.448730e-02   maximum inner iterations\n",
      "acc       k:   370     num_inner:    81     f: +1.969463e-02   |grad|: 8.867949e-02   maximum inner iterations\n",
      "acc       k:   371     num_inner:    81     f: +1.969308e-02   |grad|: 1.540009e-01   maximum inner iterations\n",
      "acc       k:   372     num_inner:    81     f: +1.969152e-02   |grad|: 2.600938e-02   maximum inner iterations\n",
      "acc       k:   373     num_inner:    81     f: +1.969000e-02   |grad|: 3.912269e-02   maximum inner iterations\n",
      "acc       k:   374     num_inner:    81     f: +1.968845e-02   |grad|: 6.683818e-02   maximum inner iterations\n",
      "acc       k:   375     num_inner:    81     f: +1.968691e-02   |grad|: 4.676838e-02   maximum inner iterations\n",
      "acc       k:   376     num_inner:    81     f: +1.968529e-02   |grad|: 2.651764e-01   maximum inner iterations\n",
      "acc       k:   377     num_inner:    12     f: +1.968516e-02   |grad|: 2.374279e-02   reached target residual-kappa (linear)\n",
      "acc       k:   378     num_inner:    81     f: +1.968354e-02   |grad|: 1.335863e-01   maximum inner iterations\n",
      "acc       k:   379     num_inner:    81     f: +1.968191e-02   |grad|: 2.574296e-02   maximum inner iterations\n",
      "acc       k:   380     num_inner:    81     f: +1.968024e-02   |grad|: 1.571539e-01   maximum inner iterations\n",
      "acc       k:   381     num_inner:    81     f: +1.967856e-02   |grad|: 4.035916e-02   maximum inner iterations\n",
      "acc       k:   382     num_inner:    81     f: +1.967686e-02   |grad|: 8.168252e-02   maximum inner iterations\n",
      "acc       k:   383     num_inner:    81     f: +1.967515e-02   |grad|: 4.200288e-02   maximum inner iterations\n",
      "acc       k:   384     num_inner:    81     f: +1.967343e-02   |grad|: 9.424249e-02   maximum inner iterations\n",
      "acc       k:   385     num_inner:    81     f: +1.967170e-02   |grad|: 2.857532e-02   maximum inner iterations\n",
      "acc       k:   386     num_inner:    81     f: +1.967001e-02   |grad|: 8.842800e-02   maximum inner iterations\n",
      "acc       k:   387     num_inner:    81     f: +1.966831e-02   |grad|: 2.978526e-02   maximum inner iterations\n",
      "acc       k:   388     num_inner:    81     f: +1.966661e-02   |grad|: 1.550886e-01   maximum inner iterations\n",
      "acc       k:   389     num_inner:    81     f: +1.966484e-02   |grad|: 7.775882e-02   maximum inner iterations\n",
      "acc       k:   390     num_inner:    81     f: +1.966309e-02   |grad|: 4.412582e-02   maximum inner iterations\n",
      "acc       k:   391     num_inner:    81     f: +1.966138e-02   |grad|: 2.612391e-02   maximum inner iterations\n",
      "acc       k:   392     num_inner:    81     f: +1.965971e-02   |grad|: 5.821946e-02   maximum inner iterations\n",
      "acc       k:   393     num_inner:    81     f: +1.965798e-02   |grad|: 1.286520e-01   maximum inner iterations\n",
      "acc       k:   394     num_inner:    81     f: +1.965619e-02   |grad|: 7.998689e-02   maximum inner iterations\n",
      "acc       k:   395     num_inner:    81     f: +1.965444e-02   |grad|: 1.141636e-01   maximum inner iterations\n",
      "acc       k:   396     num_inner:    81     f: +1.965267e-02   |grad|: 7.883470e-02   maximum inner iterations\n",
      "acc       k:   397     num_inner:    81     f: +1.965090e-02   |grad|: 2.824752e-02   maximum inner iterations\n",
      "acc       k:   398     num_inner:    81     f: +1.964915e-02   |grad|: 8.740526e-02   maximum inner iterations\n",
      "acc       k:   399     num_inner:    81     f: +1.964738e-02   |grad|: 7.023106e-02   maximum inner iterations\n",
      "acc       k:   400     num_inner:    81     f: +1.964561e-02   |grad|: 8.085383e-02   maximum inner iterations\n",
      "acc       k:   401     num_inner:    81     f: +1.964385e-02   |grad|: 5.738299e-02   maximum inner iterations\n",
      "acc       k:   402     num_inner:    81     f: +1.964206e-02   |grad|: 4.103667e-02   maximum inner iterations\n",
      "acc       k:   403     num_inner:    81     f: +1.964029e-02   |grad|: 4.790075e-02   maximum inner iterations\n",
      "acc       k:   404     num_inner:    81     f: +1.963850e-02   |grad|: 5.025461e-02   maximum inner iterations\n",
      "acc       k:   405     num_inner:    81     f: +1.963671e-02   |grad|: 4.929217e-02   maximum inner iterations\n",
      "acc       k:   406     num_inner:    81     f: +1.963482e-02   |grad|: 9.031799e-02   maximum inner iterations\n",
      "acc       k:   407     num_inner:    81     f: +1.963292e-02   |grad|: 5.827645e-02   maximum inner iterations\n",
      "acc       k:   408     num_inner:    81     f: +1.963109e-02   |grad|: 1.038270e-01   maximum inner iterations\n",
      "acc       k:   409     num_inner:    81     f: +1.962923e-02   |grad|: 5.812086e-02   maximum inner iterations\n",
      "acc       k:   410     num_inner:    81     f: +1.962732e-02   |grad|: 9.806417e-02   maximum inner iterations\n"
     ]
    },
    {
     "name": "stdout",
     "output_type": "stream",
     "text": [
      "acc       k:   411     num_inner:    81     f: +1.962543e-02   |grad|: 2.710304e-02   maximum inner iterations\n",
      "acc       k:   412     num_inner:    81     f: +1.962354e-02   |grad|: 1.200496e-01   maximum inner iterations\n",
      "acc       k:   413     num_inner:    81     f: +1.962165e-02   |grad|: 5.894463e-02   maximum inner iterations\n",
      "acc       k:   414     num_inner:    81     f: +1.961971e-02   |grad|: 1.496770e-01   maximum inner iterations\n",
      "acc       k:   415     num_inner:    81     f: +1.961776e-02   |grad|: 5.397648e-02   maximum inner iterations\n",
      "acc       k:   416     num_inner:    81     f: +1.961583e-02   |grad|: 8.019940e-02   maximum inner iterations\n",
      "acc       k:   417     num_inner:    81     f: +1.961388e-02   |grad|: 8.552941e-02   maximum inner iterations\n",
      "acc       k:   418     num_inner:    81     f: +1.961189e-02   |grad|: 1.355944e-01   maximum inner iterations\n",
      "acc       k:   419     num_inner:    81     f: +1.960990e-02   |grad|: 8.545271e-02   maximum inner iterations\n",
      "acc       k:   420     num_inner:    81     f: +1.960776e-02   |grad|: 5.564165e-01   maximum inner iterations\n",
      "acc       k:   421     num_inner:     1     f: +1.960761e-02   |grad|: 5.479004e-02   reached target residual-kappa (linear)\n",
      "acc       k:   422     num_inner:    81     f: +1.960561e-02   |grad|: 2.611430e-02   maximum inner iterations\n",
      "acc       k:   423     num_inner:    81     f: +1.960361e-02   |grad|: 7.750345e-02   maximum inner iterations\n",
      "acc       k:   424     num_inner:    81     f: +1.960160e-02   |grad|: 3.184697e-02   maximum inner iterations\n",
      "acc       k:   425     num_inner:    81     f: +1.959956e-02   |grad|: 7.570544e-02   maximum inner iterations\n",
      "acc       k:   426     num_inner:    81     f: +1.959751e-02   |grad|: 6.088675e-02   maximum inner iterations\n",
      "acc       k:   427     num_inner:    81     f: +1.959527e-02   |grad|: 8.925813e-02   maximum inner iterations\n",
      "acc       k:   428     num_inner:    81     f: +1.959303e-02   |grad|: 4.060217e-02   maximum inner iterations\n",
      "acc       k:   429     num_inner:    81     f: +1.959083e-02   |grad|: 7.109135e-02   maximum inner iterations\n",
      "acc       k:   430     num_inner:    81     f: +1.958862e-02   |grad|: 6.976575e-02   maximum inner iterations\n",
      "acc       k:   431     num_inner:    81     f: +1.958643e-02   |grad|: 5.425991e-02   maximum inner iterations\n",
      "acc       k:   432     num_inner:    81     f: +1.958424e-02   |grad|: 4.081787e-02   maximum inner iterations\n",
      "acc       k:   433     num_inner:    81     f: +1.958200e-02   |grad|: 1.322779e-01   maximum inner iterations\n",
      "acc       k:   434     num_inner:    81     f: +1.957975e-02   |grad|: 2.971332e-02   maximum inner iterations\n",
      "acc       k:   435     num_inner:    81     f: +1.957752e-02   |grad|: 1.276668e-01   maximum inner iterations\n",
      "acc       k:   436     num_inner:    81     f: +1.957527e-02   |grad|: 4.808989e-02   maximum inner iterations\n",
      "acc       k:   437     num_inner:    81     f: +1.957301e-02   |grad|: 6.879019e-02   maximum inner iterations\n",
      "acc       k:   438     num_inner:    81     f: +1.957077e-02   |grad|: 6.084341e-02   maximum inner iterations\n",
      "acc       k:   439     num_inner:    81     f: +1.956836e-02   |grad|: 2.698507e-01   maximum inner iterations\n",
      "acc       k:   440     num_inner:    65     f: +1.956603e-02   |grad|: 2.460367e-02   reached target residual-kappa (linear)\n",
      "acc       k:   441     num_inner:    81     f: +1.956320e-02   |grad|: 9.120179e-02   maximum inner iterations\n",
      "acc       k:   442     num_inner:    81     f: +1.956036e-02   |grad|: 5.374210e-02   maximum inner iterations\n",
      "acc       k:   443     num_inner:    81     f: +1.955751e-02   |grad|: 1.399949e-01   maximum inner iterations\n",
      "acc       k:   444     num_inner:    81     f: +1.955462e-02   |grad|: 7.107475e-02   maximum inner iterations\n",
      "acc       k:   445     num_inner:    81     f: +1.955171e-02   |grad|: 4.328551e-02   maximum inner iterations\n",
      "acc       k:   446     num_inner:    81     f: +1.954879e-02   |grad|: 5.575177e-02   maximum inner iterations\n",
      "acc       k:   447     num_inner:    81     f: +1.954585e-02   |grad|: 1.388523e-01   maximum inner iterations\n",
      "acc       k:   448     num_inner:    81     f: +1.954283e-02   |grad|: 1.221500e-01   maximum inner iterations\n",
      "acc       k:   449     num_inner:    81     f: +1.953984e-02   |grad|: 7.906927e-02   maximum inner iterations\n",
      "acc       k:   450     num_inner:    81     f: +1.953686e-02   |grad|: 8.275582e-02   maximum inner iterations\n",
      "acc       k:   451     num_inner:    81     f: +1.953388e-02   |grad|: 5.203943e-02   maximum inner iterations\n",
      "acc       k:   452     num_inner:    81     f: +1.953091e-02   |grad|: 4.934629e-02   maximum inner iterations\n",
      "acc       k:   453     num_inner:    81     f: +1.952761e-02   |grad|: 1.236551e-01   maximum inner iterations\n",
      "acc       k:   454     num_inner:    81     f: +1.952431e-02   |grad|: 4.077245e-02   maximum inner iterations\n",
      "acc       k:   455     num_inner:    81     f: +1.952109e-02   |grad|: 1.332041e-01   maximum inner iterations\n",
      "acc       k:   456     num_inner:    81     f: +1.951784e-02   |grad|: 6.255045e-02   maximum inner iterations\n",
      "acc       k:   457     num_inner:    81     f: +1.951458e-02   |grad|: 1.201830e-01   maximum inner iterations\n",
      "acc       k:   458     num_inner:    81     f: +1.951131e-02   |grad|: 4.836915e-02   maximum inner iterations\n",
      "acc       k:   459     num_inner:    81     f: +1.950803e-02   |grad|: 1.325874e-01   maximum inner iterations\n",
      "acc       k:   460     num_inner:    81     f: +1.950472e-02   |grad|: 1.966939e-01   maximum inner iterations\n",
      "acc       k:   461     num_inner:    81     f: +1.950115e-02   |grad|: 3.185253e-01   maximum inner iterations\n",
      "acc       k:   462     num_inner:    64     f: +1.949765e-02   |grad|: 2.711990e-02   reached target residual-kappa (linear)\n",
      "acc       k:   463     num_inner:    81     f: +1.949320e-02   |grad|: 2.792007e-01   maximum inner iterations\n",
      "acc       k:   464     num_inner:    63     f: +1.948879e-02   |grad|: 2.670824e-02   reached target residual-kappa (linear)\n",
      "acc       k:   465     num_inner:    81     f: +1.948288e-02   |grad|: 1.602107e-01   maximum inner iterations\n",
      "acc       k:   466     num_inner:    81     f: +1.947692e-02   |grad|: 7.633682e-02   maximum inner iterations\n",
      "acc       k:   467     num_inner:    81     f: +1.947080e-02   |grad|: 2.358936e-01   maximum inner iterations\n",
      "acc       k:   468     num_inner:    73     f: +1.946468e-02   |grad|: 2.329366e-02   reached target residual-kappa (linear)\n",
      "acc       k:   469     num_inner:    81     f: +1.945736e-02   |grad|: 1.711471e-01   maximum inner iterations\n",
      "acc       k:   470     num_inner:    81     f: +1.944996e-02   |grad|: 8.715339e-02   maximum inner iterations\n",
      "acc       k:   471     num_inner:    81     f: +1.944215e-02   |grad|: 1.947939e-01   maximum inner iterations\n",
      "acc       k:   472     num_inner:    81     f: +1.943429e-02   |grad|: 3.838838e-02   maximum inner iterations\n",
      "acc       k:   473     num_inner:    81     f: +1.942806e-02   |grad|: 3.281336e-01   maximum inner iterations\n",
      "acc       k:   474     num_inner:    81     f: +1.942168e-02   |grad|: 9.294440e-02   maximum inner iterations\n",
      "acc       k:   475     num_inner:    81     f: +1.941546e-02   |grad|: 2.678189e-01   maximum inner iterations\n",
      "acc       k:   476     num_inner:    81     f: +1.940922e-02   |grad|: 1.796103e-01   maximum inner iterations\n",
      "acc       k:   477     num_inner:    81     f: +1.940330e-02   |grad|: 2.252544e-01   maximum inner iterations\n",
      "acc       k:   478     num_inner:    81     f: +1.939740e-02   |grad|: 9.044110e-02   maximum inner iterations\n",
      "acc       k:   479     num_inner:    81     f: +1.939288e-02   |grad|: 2.907166e-01   maximum inner iterations\n",
      "acc       k:   480     num_inner:    51     f: +1.938870e-02   |grad|: 2.288521e-02   reached target residual-kappa (linear)\n",
      "acc       k:   481     num_inner:    81     f: +1.933320e-02   |grad|: 1.646563e+00   maximum inner iterations\n",
      "acc       k:   482     num_inner:    55     f: +1.928517e-02   |grad|: 1.468570e-01   reached target residual-kappa (linear)\n",
      "acc       k:   483     num_inner:    81     f: +1.927249e-02   |grad|: 4.181602e-02   maximum inner iterations\n",
      "acc       k:   484     num_inner:    81     f: +1.925970e-02   |grad|: 3.437837e-01   maximum inner iterations\n",
      "acc       k:   485     num_inner:    81     f: +1.924673e-02   |grad|: 5.280117e-02   maximum inner iterations\n"
     ]
    },
    {
     "name": "stdout",
     "output_type": "stream",
     "text": [
      "acc       k:   486     num_inner:    81     f: +1.923487e-02   |grad|: 3.037274e-01   maximum inner iterations\n",
      "acc       k:   487     num_inner:    81     f: +1.922289e-02   |grad|: 8.675174e-02   maximum inner iterations\n",
      "acc       k:   488     num_inner:    81     f: +1.921274e-02   |grad|: 9.790045e-01   maximum inner iterations\n",
      "acc       k:   489     num_inner:    38     f: +1.920473e-02   |grad|: 8.267087e-02   reached target residual-kappa (linear)\n",
      "acc       k:   490     num_inner:    81     f: +1.920183e-02   |grad|: 1.076205e-01   maximum inner iterations\n",
      "acc       k:   491     num_inner:    81     f: +1.919892e-02   |grad|: 9.863974e-02   maximum inner iterations\n",
      "acc       k:   492     num_inner:    81     f: +1.919605e-02   |grad|: 4.432258e-02   maximum inner iterations\n",
      "acc       k:   493     num_inner:    81     f: +1.919298e-02   |grad|: 3.146952e-01   maximum inner iterations\n",
      "acc       k:   494     num_inner:    72     f: +1.918998e-02   |grad|: 2.960419e-02   reached target residual-kappa (linear)\n",
      "acc       k:   495     num_inner:    81     f: +1.918662e-02   |grad|: 1.479959e-01   maximum inner iterations\n",
      "acc       k:   496     num_inner:    81     f: +1.918326e-02   |grad|: 5.891222e-02   maximum inner iterations\n",
      "acc       k:   497     num_inner:    81     f: +1.917986e-02   |grad|: 1.945681e-01   maximum inner iterations\n",
      "acc       k:   498     num_inner:    81     f: +1.917644e-02   |grad|: 2.098141e-01   maximum inner iterations\n",
      "acc       k:   499     num_inner:     3     f: +1.917641e-02   |grad|: 2.045053e-02   reached target residual-kappa (linear)\n",
      "acc       k:   500     num_inner:    81     f: +1.917302e-02   |grad|: 1.044390e-01   maximum inner iterations\n",
      "Terminated - max iterations reached after 7.54 seconds.\n",
      "\n"
     ]
    },
    {
     "data": {
      "text/plain": [
       "7.542540073394775"
      ]
     },
     "execution_count": 272,
     "metadata": {},
     "output_type": "execute_result"
    }
   ],
   "source": [
    "\n",
    "pos_ref = nx.get_node_attributes(G,'pos_ref')\n",
    "\n",
    "weight = nx.get_edge_attributes(G, \"weight\")\n",
    "D = np.diag([weight[i] for i in weight.keys()])\n",
    "C = incidence_matrix_(G,oriented=True).toarray()\n",
    "C = np.array(C)\n",
    "print(C.shape)\n",
    "d = 3\n",
    "n = D.shape[0]\n",
    "\n",
    "manifold_ = manifolds.Oblique(d,n)\n",
    "\n",
    "W = np.eye(n)\n",
    "\n",
    "Q2 = -D@(W@C.transpose()@np.linalg.pinv(C@W@C.transpose()))@C@W@D;\n",
    "Q1 = D@W@D;\n",
    "\n",
    "@pymanopt.function.numpy(manifold_)\n",
    "def cost(Y_):\n",
    "    return np.trace(Q1 + Q2@Y_.transpose()@Y_) \n",
    "\n",
    "@pymanopt.function.numpy(manifold_)\n",
    "def euclidean_gradient(Y_):\n",
    "    grad = 2*Q2@Y_.transpose()\n",
    "    return grad.transpose() \n",
    "                        \n",
    "@pymanopt.function.numpy(manifold_)\n",
    "def euclidean_hessian(Y_, U):\n",
    "    hess = 2*Q2@U.transpose()\n",
    "    return hess.transpose()\n",
    "\n",
    "problem = Problem(manifold=manifold_, cost=cost,euclidean_gradient=euclidean_gradient, \n",
    "                  euclidean_hessian=euclidean_hessian)\n",
    "\n",
    "optimizer = optimizers.TrustRegions(max_iterations=500)\n",
    "\n",
    "Y_init_ = np.zeros((d,41))\n",
    "h = manifold_.random_point()\n",
    "Y_init_[:d,:] =  h #Y_star#h#manifold_.retraction(Y_init,0.01*manifold_.random_tangent_vector(Y_init))#Y_init#h#manifold_.retraction(h,10*manifold_.random_tangent_vector(h))#Y_init\n",
    "start = time.time()\n",
    "Y_star = optimizer.run(problem,initial_point=Y_init_).point\n",
    "end = time.time()\n",
    "end-start"
   ]
  },
  {
   "cell_type": "code",
   "execution_count": 254,
   "id": "edea9413",
   "metadata": {},
   "outputs": [
    {
     "data": {
      "text/plain": [
       "14"
      ]
     },
     "execution_count": 254,
     "metadata": {},
     "output_type": "execute_result"
    }
   ],
   "source": [
    "np.linalg.matrix_rank(Q2)"
   ]
  },
  {
   "cell_type": "code",
   "execution_count": 239,
   "id": "b58ce963",
   "metadata": {},
   "outputs": [
    {
     "data": {
      "text/plain": [
       "(1,)"
      ]
     },
     "execution_count": 239,
     "metadata": {},
     "output_type": "execute_result"
    }
   ],
   "source": [
    "W.shape"
   ]
  },
  {
   "cell_type": "code",
   "execution_count": 189,
   "id": "6f67dd4a",
   "metadata": {},
   "outputs": [
    {
     "data": {
      "text/plain": [
       "array([4.56106045, 3.2488941 , 3.10506275])"
      ]
     },
     "execution_count": 189,
     "metadata": {},
     "output_type": "execute_result"
    }
   ],
   "source": [
    "U,S,V = np.linalg.svd(Y_star,full_matrices=False)\n",
    "S"
   ]
  },
  {
   "cell_type": "code",
   "execution_count": 190,
   "id": "d4a94d4e",
   "metadata": {},
   "outputs": [
    {
     "data": {
      "text/plain": [
       "array([630.,   0., 585.])"
      ]
     },
     "execution_count": 190,
     "metadata": {},
     "output_type": "execute_result"
    }
   ],
   "source": [
    "YY = np.diag(S)[:3,:]@V\n",
    "YY = YY/ np.linalg.norm(YY,axis=0)\n",
    "position"
   ]
  },
  {
   "cell_type": "code",
   "execution_count": 193,
   "id": "f56f5036",
   "metadata": {},
   "outputs": [
    {
     "data": {
      "text/plain": [
       "array([[ 2.60434843e-05,  4.97933347e+01,  4.54147023e+00],\n",
       "       [ 2.60712579e-05, -4.54143646e+00,  4.97933380e+01],\n",
       "       [ 5.00000069e+01, -7.67038961e-15,  6.71854709e-16],\n",
       "       [ 0.00000000e+00,  0.00000000e+00,  0.00000000e+00],\n",
       "       [ 5.07776010e-05, -2.73173641e+01, -4.87725691e+01],\n",
       "       [-6.69256602e-06, -2.26271622e+01,  5.11176292e+01],\n",
       "       [ 7.20359175e+01,  5.27421211e+02, -7.48027822e+01],\n",
       "       [ 6.94769051e+01,  5.32435411e+02,  2.50388948e+01],\n",
       "       [ 2.79688106e+02,  5.30627118e+02, -1.95621076e+01],\n",
       "       [ 3.29300186e+02,  5.36774477e+02, -1.85989112e+01],\n",
       "       [ 5.80454054e+02,  6.08147130e+02, -4.37804456e+01],\n",
       "       [ 5.88716052e+02,  5.31485842e+02,  1.98965738e+01],\n",
       "       [ 5.84997990e+02,  5.95399977e+02,  1.88046547e+01],\n",
       "       [ 5.85045460e+02,  6.27350969e+02,  5.72645639e+01],\n",
       "       [ 5.84957192e+02,  6.28078619e+02,  5.79446958e+01]])"
      ]
     },
     "execution_count": 193,
     "metadata": {},
     "output_type": "execute_result"
    }
   ],
   "source": [
    "direction_to_position(Y_star,C,D)"
   ]
  },
  {
   "cell_type": "code",
   "execution_count": 192,
   "id": "e5b0cc1a",
   "metadata": {},
   "outputs": [],
   "source": [
    "def direction_to_position(Y,C,D):\n",
    "    X = np.linalg.pinv(C@C.transpose())@C@D@Y_star.transpose()\n",
    "    X = X - X[3,:]\n",
    "    \n",
    "    if X[0,0]<0:\n",
    "        X = -X\n",
    "    \n",
    "    v = X[2,:]\n",
    "    R = rotation_matrix_from_vectors(v/np.linalg.norm(v),e1/np.linalg.norm(e1))\n",
    "    \n",
    "    return X@R.transpose()"
   ]
  },
  {
   "cell_type": "code",
   "execution_count": 450,
   "id": "d8881fa5",
   "metadata": {},
   "outputs": [],
   "source": [
    "\n",
    "v = np.array([ 4.99999990e+01, -1.75732342e-02, -7.92915769e-03])\n",
    "\n",
    "R = rotation_matrix_from_vectors(v/np.linalg.norm(v),e1/np.linalg.norm(e1))"
   ]
  },
  {
   "cell_type": "code",
   "execution_count": 110,
   "id": "d4e34e82",
   "metadata": {},
   "outputs": [],
   "source": [
    "v = R@Y_star[:,4] \n",
    "\n",
    "R1 = rotation_matrix_from_vectors(v/np.linalg.norm(v),-e2/10)"
   ]
  },
  {
   "cell_type": "code",
   "execution_count": 158,
   "id": "3cde1fe6",
   "metadata": {},
   "outputs": [],
   "source": [
    "def rotation_matrix_from_vectors(vec1, vec2):\n",
    "    \"\"\" Find the rotation matrix that aligns vec1 to vec2\n",
    "    :param vec1: A 3d \"source\" vector\n",
    "    :param vec2: A 3d \"destination\" vector\n",
    "    :return mat: A transform matrix (3x3) which when applied to vec1, aligns it with vec2.\n",
    "    \"\"\"\n",
    "    a, b = (vec1 / np.linalg.norm(vec1)).reshape(3), (vec2 / np.linalg.norm(vec2)).reshape(3)\n",
    "    v = np.cross(a, b)\n",
    "    c = np.dot(a, b)\n",
    "    s = np.linalg.norm(v)\n",
    "    kmat = np.array([[0, -v[2], v[1]], [v[2], 0, -v[0]], [-v[1], v[0], 0]])\n",
    "    rotation_matrix = np.eye(3) + kmat + kmat.dot(kmat) * ((1 - c) / (s ** 2))\n",
    "    return rotation_matrix"
   ]
  },
  {
   "cell_type": "code",
   "execution_count": 54,
   "id": "53985f67",
   "metadata": {},
   "outputs": [
    {
     "data": {
      "text/plain": [
       "array([[-192.93037171,   91.86004079, -314.48272432,   23.69251499],\n",
       "       [-220.73226786,   33.82940223, -340.35383563,   37.48321155],\n",
       "       [-150.85343109,   39.1406749 , -334.77232541,   29.89712156],\n",
       "       [-186.86418545,   66.24897017, -356.39589818,   30.8056396 ],\n",
       "       [-188.31010643,   57.63109134, -362.48582007,   85.68326031],\n",
       "       [-206.19111078,   34.49642711, -365.72338839,   -9.89183372],\n",
       "       [-184.47966125,  223.50379141,  169.12011704,   26.79175869],\n",
       "       [-200.43854953,  198.80969644,  166.3533098 ,  -68.74813261],\n",
       "       [ 165.80946339,  -79.92695645,  227.54803638,   -7.31786382],\n",
       "       [ 202.62642457, -113.12617493,  233.65111391,   -5.0662883 ],\n",
       "       [ 181.487853  , -140.25868703,  226.71810499,  -40.6883725 ],\n",
       "       [ 223.63433024,  -86.14002063,  240.50725253,   30.75839607],\n",
       "       [ 229.66117739, -110.84740953,  253.45354491,  -26.56152468],\n",
       "       [ 263.62788206, -107.94362046,  278.12756931,  -53.56194194],\n",
       "       [ 263.95255345, -107.27722536,  278.73494314,  -53.27594522]])"
      ]
     },
     "execution_count": 54,
     "metadata": {},
     "output_type": "execute_result"
    }
   ],
   "source": [
    "X = np.linalg.pinv(C@C.transpose())@C@D@Y_star.transpose()\n",
    "X"
   ]
  },
  {
   "cell_type": "code",
   "execution_count": 55,
   "id": "73afb132",
   "metadata": {},
   "outputs": [
    {
     "data": {
      "text/plain": [
       "array([[ 6.06618626e+00, -2.56110706e+01, -4.19131739e+01,\n",
       "         7.11312461e+00],\n",
       "       [ 3.38680824e+01,  3.24195679e+01, -1.60420626e+01,\n",
       "        -6.67757195e+00],\n",
       "       [-3.60107544e+01,  2.71082953e+01, -2.16235728e+01,\n",
       "         9.08518041e-01],\n",
       "       [ 0.00000000e+00,  0.00000000e+00,  0.00000000e+00,\n",
       "         0.00000000e+00],\n",
       "       [ 1.44592098e+00,  8.61787883e+00,  6.08992189e+00,\n",
       "        -5.48776207e+01],\n",
       "       [ 1.93269253e+01,  3.17525431e+01,  9.32749021e+00,\n",
       "         4.06974733e+01],\n",
       "       [-2.38452420e+00, -1.57254821e+02, -5.25516015e+02,\n",
       "         4.01388091e+00],\n",
       "       [ 1.35743641e+01, -1.32560726e+02, -5.22749208e+02,\n",
       "         9.95537722e+01],\n",
       "       [-3.52673649e+02,  1.46175927e+02, -5.83943935e+02,\n",
       "         3.81235034e+01],\n",
       "       [-3.89490610e+02,  1.79375145e+02, -5.90047012e+02,\n",
       "         3.58719279e+01],\n",
       "       [-3.68352038e+02,  2.06507657e+02, -5.83114003e+02,\n",
       "         7.14940121e+01],\n",
       "       [-4.10498516e+02,  1.52388991e+02, -5.96903151e+02,\n",
       "         4.72435296e-02],\n",
       "       [-4.16525363e+02,  1.77096380e+02, -6.09849443e+02,\n",
       "         5.73671643e+01],\n",
       "       [-4.50492068e+02,  1.74192591e+02, -6.34523467e+02,\n",
       "         8.43675815e+01],\n",
       "       [-4.50816739e+02,  1.73526196e+02, -6.35130841e+02,\n",
       "         8.40815848e+01]])"
      ]
     },
     "execution_count": 55,
     "metadata": {},
     "output_type": "execute_result"
    }
   ],
   "source": [
    "X = - X + X[3,:]\n",
    "X"
   ]
  },
  {
   "cell_type": "code",
   "execution_count": 233,
   "id": "c9e0554a",
   "metadata": {},
   "outputs": [
    {
     "data": {
      "text/plain": [
       "array([-1.07039074e+01, -4.44089210e-16, -6.63956294e-01])"
      ]
     },
     "execution_count": 233,
     "metadata": {},
     "output_type": "execute_result"
    }
   ],
   "source": [
    "X[-1,:]-position"
   ]
  },
  {
   "cell_type": "code",
   "execution_count": 67,
   "id": "0ac7a026",
   "metadata": {},
   "outputs": [
    {
     "data": {
      "text/plain": [
       "array([620.0773281 ,  72.70829173, 987.47895214])"
      ]
     },
     "execution_count": 67,
     "metadata": {},
     "output_type": "execute_result"
    }
   ],
   "source": [
    "R@X[-1,:]"
   ]
  },
  {
   "cell_type": "code",
   "execution_count": 52,
   "id": "cb3377ea",
   "metadata": {},
   "outputs": [
    {
     "data": {
      "text/plain": [
       "EdgeView([('x', 'y'), ('x', 'a1_origin'), ('x', 'a1_plus'), ('y', 'a1_origin'), ('y', 'a1_plus'), ('a1_origin', 'a1_plus'), ('a1_origin', 'a2_plus'), ('a1_origin', ' a2_minus'), ('a1_plus', 'a2_plus'), ('a1_plus', ' a2_minus'), ('a2_plus', ' a2_minus'), ('a2_plus', 'a3_plus'), ('a2_plus', 'a3_minus'), (' a2_minus', 'a3_plus'), (' a2_minus', 'a3_minus'), ('a3_plus', 'a3_minus'), ('a3_plus', 'a4_origin'), ('a3_plus', 'a4_minus'), ('a3_minus', 'a4_origin'), ('a3_minus', 'a4_minus'), ('a4_origin', 'a4_minus'), ('a4_origin', 'a5_plus'), ('a4_origin', 'a5_minus'), ('a4_minus', 'a5_plus'), ('a4_minus', 'a5_minus'), ('a5_plus', 'a5_minus'), ('a5_plus', 'a6_origin'), ('a5_plus', 'a6_minus'), ('a5_minus', 'a6_origin'), ('a5_minus', 'a6_minus'), ('a6_origin', 'a6_minus')])"
      ]
     },
     "execution_count": 52,
     "metadata": {},
     "output_type": "execute_result"
    }
   ],
   "source": [
    "G.edges"
   ]
  }
 ],
 "metadata": {
  "kernelspec": {
   "display_name": "Python 3 (ipykernel)",
   "language": "python",
   "name": "python3"
  },
  "language_info": {
   "codemirror_mode": {
    "name": "ipython",
    "version": 3
   },
   "file_extension": ".py",
   "mimetype": "text/x-python",
   "name": "python",
   "nbconvert_exporter": "python",
   "pygments_lexer": "ipython3",
   "version": "3.9.12"
  }
 },
 "nbformat": 4,
 "nbformat_minor": 5
}
