{
 "cells": [
  {
   "cell_type": "code",
   "execution_count": 6,
   "metadata": {},
   "outputs": [
    {
     "ename": "AttributeError",
     "evalue": "module 'pinocchio' has no attribute 'buildModelFromUrdf'",
     "output_type": "error",
     "traceback": [
      "\u001b[0;31m---------------------------------------------------------------------------\u001b[0m",
      "\u001b[0;31mAttributeError\u001b[0m                            Traceback (most recent call last)",
      "Cell \u001b[0;32mIn[6], line 13\u001b[0m\n\u001b[1;32m     10\u001b[0m urdf_filename \u001b[38;5;241m=\u001b[39m pinocchio_model_dir \u001b[38;5;241m+\u001b[39m \u001b[38;5;124m'\u001b[39m\u001b[38;5;124m/example-robot-data/robots/ur_description/urdf/ur5_robot.urdf\u001b[39m\u001b[38;5;124m'\u001b[39m \u001b[38;5;28;01mif\u001b[39;00m \u001b[38;5;28mlen\u001b[39m(argv)\u001b[38;5;241m<\u001b[39m\u001b[38;5;241m2\u001b[39m \u001b[38;5;28;01melse\u001b[39;00m argv[\u001b[38;5;241m1\u001b[39m]\n\u001b[1;32m     12\u001b[0m \u001b[38;5;66;03m# Load the urdf model\u001b[39;00m\n\u001b[0;32m---> 13\u001b[0m model    \u001b[38;5;241m=\u001b[39m \u001b[43mpinocchio\u001b[49m\u001b[38;5;241;43m.\u001b[39;49m\u001b[43mbuildModelFromUrdf\u001b[49m(urdf_filename)\n\u001b[1;32m     14\u001b[0m \u001b[38;5;28mprint\u001b[39m(\u001b[38;5;124m'\u001b[39m\u001b[38;5;124mmodel name: \u001b[39m\u001b[38;5;124m'\u001b[39m \u001b[38;5;241m+\u001b[39m model\u001b[38;5;241m.\u001b[39mname)\n\u001b[1;32m     16\u001b[0m \u001b[38;5;66;03m# Create data required by the algorithms\u001b[39;00m\n",
      "\u001b[0;31mAttributeError\u001b[0m: module 'pinocchio' has no attribute 'buildModelFromUrdf'"
     ]
    }
   ],
   "source": [
    "import pinocchio\n",
    "from sys import argv\n",
    "from os.path import dirname, join, abspath\n",
    " \n",
    "# This path refers to Pinocchio source code but you can define your own directory here.\n",
    "__file__ = \"/Library/Frameworks/Python.framework/Versions/3.11/lib/python3.11/site-packages\"\n",
    "pinocchio_model_dir = join(dirname(dirname(str(abspath(__file__)))), \"models\")\n",
    " \n",
    "# You should change here to set up your own URDF file or just pass it as an argument of this example.\n",
    "urdf_filename = pinocchio_model_dir + '/example-robot-data/robots/ur_description/urdf/ur5_robot.urdf' if len(argv)<2 else argv[1]\n",
    " \n",
    "# Load the urdf model\n",
    "model    = pinocchio.buildModelFromUrdf(urdf_filename)\n",
    "print('model name: ' + model.name)\n",
    " \n",
    "# Create data required by the algorithms\n",
    "data     = model.createData()\n",
    " \n",
    "# Sample a random configuration\n",
    "q        = pinocchio.randomConfiguration(model)\n",
    "print('q: %s' % q.T)\n",
    " \n",
    "# Perform the forward kinematics over the kinematic tree\n",
    "pinocchio.forwardKinematics(model,data,q)\n",
    " \n",
    "# Print out the placement of each joint of the kinematic tree\n",
    "for name, oMi in zip(model.names, data.oMi):\n",
    "    print((\"{:<24} : {: .2f} {: .2f} {: .2f}\"\n",
    "          .format( name, *oMi.translation.T.flat )))"
   ]
  },
  {
   "cell_type": "code",
   "execution_count": null,
   "metadata": {},
   "outputs": [],
   "source": []
  }
 ],
 "metadata": {
  "kernelspec": {
   "display_name": "Python 3",
   "language": "python",
   "name": "python3"
  },
  "language_info": {
   "codemirror_mode": {
    "name": "ipython",
    "version": 3
   },
   "file_extension": ".py",
   "mimetype": "text/x-python",
   "name": "python",
   "nbconvert_exporter": "python",
   "pygments_lexer": "ipython3",
   "version": "3.11.8"
  }
 },
 "nbformat": 4,
 "nbformat_minor": 2
}
