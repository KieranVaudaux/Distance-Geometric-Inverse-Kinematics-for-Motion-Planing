{
 "cells": [
  {
   "cell_type": "code",
   "execution_count": 219,
   "metadata": {},
   "outputs": [
    {
     "name": "stdout",
     "output_type": "stream",
     "text": [
      "The autoreload extension is already loaded. To reload it, use:\n",
      "  %reload_ext autoreload\n"
     ]
    }
   ],
   "source": [
    "import pinocchio\n",
    "import numpy as np \n",
    "import time \n",
    "import pymanopt \n",
    "from pymanopt import manifolds, optimizers, tools, core\n",
    "from pymanopt.core.problem  import Problem\n",
    "\n",
    "from utils import *\n",
    "import networkx as nx\n",
    "from scipy import optimize\n",
    "from scipy.optimize import Bounds\n",
    "\n",
    "import tqdm\n",
    "\n",
    "LOWER = \"lower_limit\"\n",
    "UPPER = \"upper_limit\"\n",
    "BOUNDED = \"bounded\"\n",
    "BELOW = \"below\"\n",
    "ABOVE = \"above\"\n",
    "TYPE = \"type\"\n",
    "OBSTACLE = \"obstacle\"\n",
    "ROBOT = \"robot\"\n",
    "END_EFFECTOR = \"end_effector\"\n",
    "RADIUS = \"radius\"\n",
    "DIST = \"weight\"\n",
    "POS = \"pos\"\n",
    "BASE = \"base\"\n",
    "ANCHOR = \"anchor\"\n",
    "UNDEFINED = None\n",
    "\n",
    "deg2rad = np.pi/180.\n",
    "rad2deg = 180./np.pi\n",
    "\n",
    "scale = 1\n",
    "\n",
    "%load_ext autoreload\n",
    "%autoreload 2"
   ]
  },
  {
   "cell_type": "code",
   "execution_count": 148,
   "metadata": {},
   "outputs": [],
   "source": [
    "def create_base_graph(model,data,axis_length):\n",
    "\n",
    "    trans_z = pinocchio.SE3(np.eye(3),np.array([0,0,axis_length]))\n",
    "\n",
    "    q_init = pinocchio.neutral(model)\n",
    "    pinocchio.forwardKinematics(model,data,q_init)\n",
    "    \n",
    "    robot_name = model.names[1]\n",
    "    ROOT = robot_name\n",
    "\n",
    "    base = nx.empty_graph()\n",
    "\n",
    "    for idx, (name, oMi) in enumerate(zip(model.names, data.oMi)):\n",
    "        if idx > 1:\n",
    "            cur, aux_cur = (name, name+'_tilde')\n",
    "            cur_pos, aux_cur_pos = (\n",
    "                oMi.translation*scale,\n",
    "                pinocchio.SE3.act(pinocchio.SE3(oMi.rotation,oMi.translation*scale),trans_z).translation,\n",
    "            )\n",
    "            #print(name,cur_pos,aux_cur_pos)\n",
    "            dist = np.linalg.norm(cur_pos - aux_cur_pos)\n",
    "\n",
    "            # Add nodes for joint and edge between them\n",
    "            base.add_nodes_from(\n",
    "                [(cur, {POS: cur_pos}), (aux_cur, {POS: aux_cur_pos})]\n",
    "            )\n",
    "            base.add_edge(\n",
    "                cur, aux_cur, **{DIST: dist, LOWER: dist, UPPER: dist, BOUNDED: [], ANCHOR: False}\n",
    "            )\n",
    "\n",
    "            # If there exists a preceeding joint, connect it to new\n",
    "            if idx != 0:\n",
    "                pred, aux_pred = (model.names[idx-1], model.names[idx-1]+'_tilde')\n",
    "                for u in [pred, aux_pred]:\n",
    "                    for v in [cur, aux_cur]:\n",
    "                        dist = np.linalg.norm(\n",
    "                            base.nodes[u][POS] - base.nodes[v][POS]\n",
    "                        )\n",
    "                        base.add_edge(\n",
    "                            u,\n",
    "                            v,\n",
    "                            **{DIST: dist, LOWER: dist, UPPER: dist, BOUNDED: [], ANCHOR: False},\n",
    "                        )\n",
    "        elif idx == 1:\n",
    "            #print(name,oMi.translation)\n",
    "            base = nx.DiGraph(\n",
    "                [\n",
    "                    (robot_name, \"x\"),\n",
    "                    (robot_name, \"y\"),\n",
    "                    (robot_name, robot_name+'_tilde'),\n",
    "                    (\"x\", \"y\"),\n",
    "                    (\"y\", robot_name+'_tilde'),\n",
    "                    (robot_name+'_tilde' ,\"x\"),\n",
    "                ]\n",
    "            )\n",
    "            base.add_nodes_from(\n",
    "                [\n",
    "                    (\"x\", {POS: np.array([axis_length, 0, 0]) + oMi.translation*scale, TYPE: [BASE]}),\n",
    "                    (\"y\", {POS: np.array([0, -axis_length, 0]) + oMi.translation*scale, TYPE: [BASE]}),\n",
    "                    (robot_name, {POS: oMi.translation*scale, TYPE: [ROBOT, BASE]}),\n",
    "                    (robot_name+'_tilde', {POS: np.array([0, 0, axis_length]) + oMi.translation*scale, TYPE: [ROBOT, BASE]}),\n",
    "                ]\n",
    "            )\n",
    "            for u, v in base.edges():\n",
    "                base[u][v][DIST] = np.linalg.norm(base.nodes[u][POS] - base.nodes[v][POS])\n",
    "                base[u][v][LOWER] = base[u][v][DIST]\n",
    "                base[u][v][UPPER] = base[u][v][DIST]\n",
    "                base[u][v][ANCHOR] = True\n",
    "                base[u][v][BOUNDED] = []\n",
    "\n",
    "    # Set node type to robot\n",
    "    nx.set_node_attributes(base, [ROBOT], TYPE)\n",
    "    base.nodes[ROOT][TYPE] = [ROBOT, BASE]\n",
    "    base.nodes[ROOT + '_tilde'][TYPE] = [ROBOT, BASE]\n",
    "\n",
    "    return base"
   ]
  },
  {
   "cell_type": "code",
   "execution_count": 184,
   "metadata": {},
   "outputs": [],
   "source": [
    "axis_length = 0.2*scale\n",
    "urdf_filename=\"GraphIK/graphik/robots/urdfs/kuka_iiwr.urdf\"\n",
    "# 'GraphIK/graphik/robots/urdfs/panda_arm.urdf'\n",
    "\n",
    "model    = pinocchio.buildModelFromUrdf(urdf_filename)\n",
    "data     = model.createData()\n",
    "\n",
    "G = create_base_graph(model,data,axis_length)\n"
   ]
  },
  {
   "cell_type": "code",
   "execution_count": 185,
   "metadata": {},
   "outputs": [
    {
     "data": {
      "text/plain": [
       "{'lbr_iiwa_joint_1': array([0.    , 0.    , 0.1575]),\n",
       " 'x': array([0.2   , 0.    , 0.1575]),\n",
       " 'y': array([ 0.    , -0.2   ,  0.1575]),\n",
       " 'lbr_iiwa_joint_1_tilde': array([0.    , 0.    , 0.3575]),\n",
       " 'lbr_iiwa_joint_2': array([0.  , 0.  , 0.36]),\n",
       " 'lbr_iiwa_joint_2_tilde': array([-4.13646214e-14,  2.00000000e-01,  3.60000000e-01]),\n",
       " 'lbr_iiwa_joint_3': array([ 2.07103964e-25, -1.00133990e-12,  5.64500000e-01]),\n",
       " 'lbr_iiwa_joint_3_tilde': array([ 4.13646214e-14, -1.00131770e-12,  7.64500000e-01]),\n",
       " 'lbr_iiwa_joint_4': array([ 4.45703796e-14, -1.00131597e-12,  7.80000000e-01]),\n",
       " 'lbr_iiwa_joint_4_tilde': array([ 8.5935001e-14, -2.0000000e-01,  7.8000000e-01]),\n",
       " 'lbr_iiwa_joint_5': array([ 8.27292428e-14, -9.78656600e-14,  9.64500000e-01]),\n",
       " 'lbr_iiwa_joint_5_tilde': array([1.24093864e-13, 1.86078980e-12, 1.16450000e+00]),\n",
       " 'lbr_iiwa_joint_6': array([1.27299622e-13, 2.01258560e-12, 1.18000000e+00]),\n",
       " 'lbr_iiwa_joint_6_tilde': array([4.45703796e-14, 2.00000000e-01, 1.18000000e+00]),\n",
       " 'lbr_iiwa_joint_7': array([1.44052294e-13, 2.40921333e-12, 1.26100000e+00]),\n",
       " 'lbr_iiwa_joint_7_tilde': array([1.85416916e-13, 2.40923553e-12, 1.46100000e+00])}"
      ]
     },
     "execution_count": 185,
     "metadata": {},
     "output_type": "execute_result"
    }
   ],
   "source": [
    "nx.get_node_attributes(G,POS)"
   ]
  },
  {
   "cell_type": "code",
   "execution_count": 186,
   "metadata": {},
   "outputs": [],
   "source": [
    "\n",
    "def norm(x):\n",
    "    return x/max(np.linalg.norm(x),10**-9)\n",
    "\n",
    "def goal_graph(model, data, G, axis_length, position, direction = None, anchor = True):\n",
    "    \n",
    "    end_effector = [model.names[-1]]\n",
    "    if direction is not None:\n",
    "        end_effector.append(model.names[-1]+'_tilde')\n",
    "\n",
    "    list_nodes_base = ['x','y',model.names[1],model.names[1]+'_tilde']\n",
    "\n",
    "    for i, cur_end_effector in enumerate(end_effector):\n",
    "        pos_end = position\n",
    "\n",
    "        if direction is not None and i == 1:\n",
    "            pos_end = pos_end + direction*axis_length\n",
    "        \n",
    "        G.nodes[cur_end_effector][POS] = pos_end\n",
    "\n",
    "        for cur_base in list_nodes_base:\n",
    "            \n",
    "            if not((i == 1) and (len(end_effector)==1)):\n",
    "                dist = np.linalg.norm(pos_end-G.nodes[cur_base][POS])\n",
    "\n",
    "                G.add_edge(\n",
    "                            cur_base, cur_end_effector, **{DIST: dist, LOWER: dist, UPPER: dist, BOUNDED: [], ANCHOR: anchor}\n",
    "                        )\n",
    "    \n",
    "    if anchor:\n",
    "\n",
    "        list_edges_anchor = []\n",
    "        list_other_edges = []\n",
    "        new_edge_order  = []\n",
    "        A_anchor = []\n",
    "\n",
    "        for key ,anch_ in nx.get_edge_attributes(G,ANCHOR).items():\n",
    "\n",
    "            if anch_:\n",
    "                list_edges_anchor.append(key)\n",
    "                A_anchor.append(norm(G.nodes[key[1]][POS]- G.nodes[key[0]][POS]))\n",
    "                #print(key,' : ',norm(G.nodes[key[1]][POS]- G.nodes[key[0]][POS]))\n",
    "            else:\n",
    "                list_other_edges.append(key)\n",
    "        new_edge_order = list_edges_anchor.copy() #.extend(list_other_edges)\n",
    "\n",
    "        for e in list_other_edges:\n",
    "            new_edge_order.append(e)\n",
    "\n",
    "        A_anchor = np.array(A_anchor).transpose()\n",
    "        \n",
    "    else:\n",
    "\n",
    "        list_edges_anchor = []\n",
    "        list_other_edges = [e for e in G.edges()]\n",
    "\n",
    "        new_edge_order = list_other_edges\n",
    "        A_anchor = []\n",
    "\n",
    "    n = len(list_other_edges)\n",
    "    n_anchor = len(list_edges_anchor)\n",
    "\n",
    "    weight = nx.get_edge_attributes(G, DIST)\n",
    "    D = np.diag([weight[i] for i in new_edge_order])\n",
    "\n",
    "    C = incidence_matrix_(G,oriented=True, edgelist=new_edge_order).toarray()\n",
    "    C = np.array(C)\n",
    "\n",
    "    Y_init = np.zeros((3,n))\n",
    "\n",
    "    for i, e in enumerate(list_other_edges):\n",
    "        i = i \n",
    "        p1 = G.nodes[e[0]][POS]\n",
    "        p2 = G.nodes[e[1]][POS]\n",
    "        Y_init[:,i] = (p2-p1)/max(np.linalg.norm(p2-p1),10**-9)\n",
    "\n",
    "    if anchor:\n",
    "        Y_init = [A_anchor,Y_init]\n",
    "    return G, list_edges_anchor, list_edges_anchor, new_edge_order, n,n_anchor, A_anchor, D,C, Y_init"
   ]
  },
  {
   "cell_type": "code",
   "execution_count": 187,
   "metadata": {},
   "outputs": [
    {
     "name": "stdout",
     "output_type": "stream",
     "text": [
      "[2.06823107e-13 1.11022303e-16 1.00000000e+00]\n"
     ]
    },
    {
     "data": {
      "text/plain": [
       "array([[ 1.00000000e+00, -6.20469321e-13,  2.06823107e-13],\n",
       "       [ 6.20469321e-13,  1.00000000e+00,  1.11022303e-16],\n",
       "       [-2.06823107e-13,  1.11022303e-16,  1.00000000e+00]])"
      ]
     },
     "execution_count": 187,
     "metadata": {},
     "output_type": "execute_result"
    }
   ],
   "source": [
    "q0 = np.array([0,0,0,0,0,0,0])*np.pi/180\n",
    "pinocchio.framesForwardKinematics(model,data,q0)\n",
    "position = data.oMi[-1].translation*scale #np.array([200,0,500])/1000\n",
    "direction = data.oMi[-1].rotation@np.array([0,0,1])\n",
    "print(direction)\n",
    "data.oMi[7].rotation"
   ]
  },
  {
   "cell_type": "code",
   "execution_count": 277,
   "metadata": {},
   "outputs": [
    {
     "name": "stdout",
     "output_type": "stream",
     "text": [
      "[0.58081515 0.39732814 0.83122999] [0.77377923 0.57562804 0.26442024]\n"
     ]
    }
   ],
   "source": [
    "q0 = np.array([30,35,10,-40,90,0,0])*np.pi/180\n",
    "#q0 = np.array([0,0,0,0,0,0,0])*np.pi/180\n",
    "#q0 = pinocchio.randomConfiguration(model)\n",
    "pinocchio.framesForwardKinematics(model,data,q0)\n",
    "position = data.oMi[-1].translation*scale #np.array([200,0,500])/1000\n",
    "direction = data.oMi[-1].rotation@np.array([0,0,1])\n",
    "\n",
    "print(position, direction)\n",
    "\n",
    "G1, list_edges_anchor, list_edges_anchor, new_edge_order, n,n_anchor, A_anchor, D,C, Y_init_ = goal_graph(model, data, G, axis_length, \n",
    "                                                                                                 position, direction = direction, anchor = True)\n",
    "\n",
    "\n"
   ]
  },
  {
   "cell_type": "code",
   "execution_count": 190,
   "metadata": {},
   "outputs": [
    {
     "data": {
      "text/plain": [
       "{'lbr_iiwa_joint_1': array([0.    , 0.    , 0.1575]),\n",
       " 'x': array([0.2   , 0.    , 0.1575]),\n",
       " 'y': array([ 0.    , -0.2   ,  0.1575]),\n",
       " 'lbr_iiwa_joint_1_tilde': array([0.    , 0.    , 0.3575]),\n",
       " 'lbr_iiwa_joint_2': array([0.  , 0.  , 0.36]),\n",
       " 'lbr_iiwa_joint_2_tilde': array([-4.13646214e-14,  2.00000000e-01,  3.60000000e-01]),\n",
       " 'lbr_iiwa_joint_3': array([ 2.07103964e-25, -1.00133990e-12,  5.64500000e-01]),\n",
       " 'lbr_iiwa_joint_3_tilde': array([ 4.13646214e-14, -1.00131770e-12,  7.64500000e-01]),\n",
       " 'lbr_iiwa_joint_4': array([ 4.45703796e-14, -1.00131597e-12,  7.80000000e-01]),\n",
       " 'lbr_iiwa_joint_4_tilde': array([ 8.5935001e-14, -2.0000000e-01,  7.8000000e-01]),\n",
       " 'lbr_iiwa_joint_5': array([ 8.27292428e-14, -9.78656600e-14,  9.64500000e-01]),\n",
       " 'lbr_iiwa_joint_5_tilde': array([1.24093864e-13, 1.86078980e-12, 1.16450000e+00]),\n",
       " 'lbr_iiwa_joint_6': array([1.27299622e-13, 2.01258560e-12, 1.18000000e+00]),\n",
       " 'lbr_iiwa_joint_6_tilde': array([4.45703796e-14, 2.00000000e-01, 1.18000000e+00]),\n",
       " 'lbr_iiwa_joint_7': array([ 0.19830701, -0.25624941,  0.96232571]),\n",
       " 'lbr_iiwa_joint_7_tilde': array([ 0.18047945, -0.41419281,  0.84093354])}"
      ]
     },
     "execution_count": 190,
     "metadata": {},
     "output_type": "execute_result"
    }
   ],
   "source": [
    "nx.get_node_attributes(G1,POS)\n"
   ]
  },
  {
   "cell_type": "code",
   "execution_count": 191,
   "metadata": {},
   "outputs": [],
   "source": [
    "def simple_IK(d,C,D,A_,n, n_anchor,max_iter,ind=None,W=None,Y_init=None,use_rand=False):\n",
    "    if  W is None:\n",
    "        W = np.eye(D.shape[0])\n",
    "    if n_anchor > 0:    \n",
    "        if d > 3:\n",
    "            A = np.zeros((d,n_anchor))\n",
    "            A[:3,:] = A_[:3,:]\n",
    "        else:\n",
    "            if A_.shape[0] == d:\n",
    "                A = A_\n",
    "            elif A_.shape[0] > d:\n",
    "                A = A_[:d,:]\n",
    "            else:\n",
    "                A = np.zeros((d,n_anchor))\n",
    "                A[:3,:] = A_[:3,:]\n",
    "\n",
    "        manifold_ = manifolds.Product([manifolds.ConstantFactory(A) , manifolds.Oblique(d,n)])\n",
    "    else:\n",
    "        manifold_ = manifolds.Oblique(d,n)\n",
    "\n",
    "    Q2 = -D@(W@C.transpose()@np.linalg.pinv(C@W@C.transpose()))@C@W@D\n",
    "    Q1 = D@W@D\n",
    "\n",
    "    if n_anchor > 0:\n",
    "        zero = np.zeros_like(A)\n",
    "        @pymanopt.function.numpy(manifold_)\n",
    "        def cost(A,Y_):\n",
    "            #print(A.shape,Y_.shape)\n",
    "            Y = np.concatenate([A,Y_],axis=1)\n",
    "            return np.trace(Q1 + Q2@Y.transpose()@Y) \n",
    "\n",
    "        @pymanopt.function.numpy(manifold_)\n",
    "        def euclidean_gradient(A,Y_):\n",
    "            Y = np.concatenate([A,Y_],axis=1)\n",
    "            grad = 2*Q2[n_anchor:,:]@Y.transpose()\n",
    "            return [zero,grad.transpose() ]\n",
    "                                \n",
    "        @pymanopt.function.numpy(manifold_)\n",
    "        def euclidean_hessian(A,Y_,U_A, U):\n",
    "            U_ = np.concatenate([U_A,U],axis=1)\n",
    "            hess = 2*Q2[n_anchor:,:]@U_.transpose()\n",
    "            return [zero,hess.transpose()]\n",
    "    else:\n",
    "        @pymanopt.function.numpy(manifold_)\n",
    "        def cost(Y):\n",
    "            return np.trace(Q1 + Q2@Y.transpose()@Y) \n",
    "\n",
    "        @pymanopt.function.numpy(manifold_)\n",
    "        def euclidean_gradient(Y):\n",
    "            grad = 2*Q2@Y.transpose()\n",
    "            return grad.transpose() \n",
    "                                \n",
    "        @pymanopt.function.numpy(manifold_)\n",
    "        def euclidean_hessian(Y,U):\n",
    "            hess = 2*Q2@U.transpose()\n",
    "            return hess.transpose()\n",
    "\n",
    "\n",
    "    problem = Problem(manifold=manifold_, \n",
    "                      cost=cost,\n",
    "                      euclidean_gradient=euclidean_gradient, \n",
    "                      euclidean_hessian=euclidean_hessian,\n",
    "                      )\n",
    "\n",
    "    optimizer = optimizers.TrustRegions(max_iterations=max_iter,use_rand=use_rand,min_gradient_norm=10**-9,verbosity=0)\n",
    "    #print(n_anchor)\n",
    "    if  Y_init is None:\n",
    "        Y_init_ = manifold_.random_point()\n",
    "    elif n_anchor > 1:\n",
    "        if Y_init[0].shape[0] == d:\n",
    "            #print(1)\n",
    "            Y_init_ = Y_init\n",
    "        elif Y_init[0].shape[0] < d:\n",
    "            #print(2)\n",
    "            Y_init_ = np.zeros((d,n))\n",
    "            Y_init_[:Y_init[0].shape[0],:] = Y_init[1]\n",
    "            Y_init_ = [A, Y_init_]\n",
    "        else:\n",
    "            #print(3)\n",
    "            if len(Y_init) == 2:\n",
    "                U,S,V = np.linalg.svd(Y_init[1],full_matrices=False)\n",
    "            else:\n",
    "                U,S,V = np.linalg.svd(Y_init,full_matrices=False)\n",
    "            Y_init_ = [A, U[:d,:d]@np.diag(S)[:d,:]@V/np.maximum(np.linalg.norm(U[:d,:d]@np.diag(S)[:d,:]@V,axis=0),10**-9)]\n",
    "    else:\n",
    "        if Y_init.shape[0] == d:\n",
    "            #print(1)\n",
    "            Y_init_ = Y_init\n",
    "        elif Y_init.shape[0] < d:\n",
    "            #print(2)\n",
    "            Y_init_ = np.zeros((d,n))\n",
    "            Y_init_[:Y_init.shape[0],:] = Y_init\n",
    "        else:\n",
    "            #print(3)\n",
    "            U,S,V = np.linalg.svd(Y_init,full_matrices=False)\n",
    "            Y_init_ = U[:d,:d]@np.diag(S)[:d,:]@V/np.maximum(np.linalg.norm(U[:d,:d]@np.diag(S)[:d,:]@V,axis=0),10**-9)\n",
    "    \n",
    "    Y_star = optimizer.run(problem,initial_point=Y_init_).point\n",
    "\n",
    "    return Y_star"
   ]
  },
  {
   "cell_type": "code",
   "execution_count": 202,
   "metadata": {},
   "outputs": [
    {
     "data": {
      "text/plain": [
       "{'lbr_iiwa_joint_1': array([0.    , 0.    , 0.1575]),\n",
       " 'x': array([ 2.00000000e-01, -6.13293316e-11,  1.57500000e-01]),\n",
       " 'y': array([-8.09865847e-27, -2.00000000e-01,  1.57500000e-01]),\n",
       " 'lbr_iiwa_joint_1_tilde': array([ 1.73776346e-07, -1.73423235e-07,  3.57500347e-01]),\n",
       " 'lbr_iiwa_joint_2': array([1.58701773e-05, 1.09574072e-04, 3.59998929e-01]),\n",
       " 'lbr_iiwa_joint_2_tilde': array([ 0.19801328, -0.0281218 ,  0.35999976]),\n",
       " 'lbr_iiwa_joint_3': array([0.02883888, 0.2022564 , 0.37123179]),\n",
       " 'lbr_iiwa_joint_3_tilde': array([0.05702267, 0.39992216, 0.38280915]),\n",
       " 'lbr_iiwa_joint_4': array([0.05921187, 0.41523109, 0.38385824]),\n",
       " 'lbr_iiwa_joint_4_tilde': array([-0.13868364,  0.44296398,  0.39212001]),\n",
       " 'lbr_iiwa_joint_5': array([0.08284706, 0.54565286, 0.51220079]),\n",
       " 'lbr_iiwa_joint_5_tilde': array([0.1084308 , 0.68664708, 0.65172211]),\n",
       " 'lbr_iiwa_joint_6': array([0.11027637, 0.69756655, 0.66256714]),\n",
       " 'lbr_iiwa_joint_6_tilde': array([0.07071611, 0.83904421, 0.5268503 ]),\n",
       " 'lbr_iiwa_joint_7': array([0.17652249, 0.67630268, 0.62109046]),\n",
       " 'lbr_iiwa_joint_7_tilde': array([0.34039587, 0.62416794, 0.51897534])}"
      ]
     },
     "execution_count": 202,
     "metadata": {},
     "output_type": "execute_result"
    }
   ],
   "source": [
    "for idx, key in enumerate(G1.nodes()):\n",
    "    G1.nodes[key][POS] = X[idx,:]\n",
    "\n",
    "nx.get_node_attributes(G1,POS)\n"
   ]
  },
  {
   "cell_type": "code",
   "execution_count": 282,
   "metadata": {},
   "outputs": [],
   "source": [
    "def skew(x):\n",
    "    \"\"\"\n",
    "    Creates a skew symmetric matrix from vector x\n",
    "    \"\"\"\n",
    "    X = np.array([[0, -x[2], x[1]], [x[2], 0, -x[0]], [-x[1], x[0], 0]])\n",
    "    return X\n",
    "\n",
    "\n",
    "def joint_variables(model,data, G, T_final, axis_length):\n",
    "    \"\"\"\n",
    "    Finds the set of decision variables corresponding to the\n",
    "    graph realization G.\n",
    "\n",
    "    :param G: networkx.DiGraph with known vertex positions\n",
    "    :param T_final: poses of end-effectors in case two final frames aligned along z\n",
    "    :returns: Dictionary of joint angles\n",
    "    :rtype: Dict[str, float]\n",
    "    \"\"\"\n",
    "    tol = 1e-10\n",
    "    ROOT = model.names[0]\n",
    "    T = {}\n",
    "    T[ROOT] = data.oMi[1] #G.nodes[model.names[1]][POS]\n",
    "\n",
    "    pinocchio.forwardKinematics(model,data,pinocchio.neutral(model))\n",
    "    T_zero = {name: oMi for name, oMi in zip(model.names, data.oMi)}\n",
    "\n",
    "    trans_z = pinocchio.SE3(np.eye(3),np.array([0,0,axis_length]))\n",
    "    \n",
    "    # resolve scale\n",
    "    x_hat = G.nodes[\"x\"][POS] - G.nodes[model.names[1]][POS]\n",
    "    y_hat = G.nodes[\"y\"][POS] - G.nodes[model.names[1]][POS]\n",
    "    z_hat = G.nodes[model.names[1]+'_tilde'][POS] - G.nodes[model.names[1]][POS]\n",
    "\n",
    "    # resolve rotation and translation\n",
    "    x = norm(x_hat)\n",
    "    y = norm(y_hat)\n",
    "    z = norm(z_hat)\n",
    "    R = np.vstack((x, -y, z)).T\n",
    "    B = pinocchio.SE3(R, np.zeros((3,))) #G.nodes[ROOT][POS])\n",
    "\n",
    "    omega_z = skew(np.array([0,0,1]))\n",
    "\n",
    "    theta = {}\n",
    "    \n",
    "    for idx, (name, oMi) in enumerate(zip(model.names, data.oMi)):\n",
    "        if idx > 0:\n",
    "            cur, aux_cur = (name, name+'_tilde')\n",
    "            pred, aux_pred = (model.names[idx-1], model.names[idx-1]+'_tilde')\n",
    "\n",
    "            T_prev = T[pred]\n",
    "            \n",
    "            T_prev_0 = T_zero[pred] # previous p xf at 0\n",
    "            T_0 = T_zero[cur] # cur p xf at 0\n",
    "            T_0_q = pinocchio.SE3.act(T_zero[cur],trans_z) # cur q xf at 0\n",
    "            T_rel = pinocchio.SE3.act(pinocchio.SE3.inverse(T_prev_0),T_0) # relative xf\n",
    "            ps_0 = pinocchio.SE3.act(pinocchio.SE3.inverse(T_prev_0),T_0).translation # relative xf\n",
    "            qs_0 = pinocchio.SE3.act(pinocchio.SE3.inverse(T_prev_0),T_0_q).translation # rel q xf\n",
    "\n",
    "            # predicted p and q expressed in previous frame\n",
    "            p = pinocchio.SE3.act(pinocchio.SE3.inverse(B),G.nodes[cur][POS])\n",
    "            qnorm = G.nodes[cur][POS] + (\n",
    "                G.nodes[aux_cur][POS] - G.nodes[cur][POS]\n",
    "            ) / np.linalg.norm(G.nodes[aux_cur][POS] - G.nodes[cur][POS])\n",
    "            q = pinocchio.SE3.act(pinocchio.SE3.inverse(B),qnorm)\n",
    "            #print(T_prev)\n",
    "            ps = pinocchio.SE3.inverse(T_prev).rotation.dot(p - T_prev.translation)  # in prev. joint frame\n",
    "            qs = pinocchio.SE3.inverse(T_prev).rotation.dot(q - T_prev.translation)  # in prev. joint frame\n",
    "\n",
    "            theta[cur] = np.arctan2(-qs_0.dot(omega_z).dot(qs), qs_0.dot(omega_z.dot(omega_z.T)).dot(qs))\n",
    "            rot_axis_z = pinocchio.SE3(Rot_z(theta[cur]),np.zeros((3,)))\n",
    "            T[cur] = pinocchio.SE3.act(pinocchio.SE3.act(T_prev,rot_axis_z),T_rel)\n",
    "\n",
    "    # if the rotation axis of final joint is aligned with ee frame z axis,\n",
    "    # get angle from EE pose if available\n",
    "    #if ((T_final is not None) and (la.norm(cross(T_rel.trans, np.asarray([0, 0, 1]))) < tol)):\n",
    "     #   T_th = (T[cur]).inv().dot(T_final[ee]).as_matrix()\n",
    "     #   theta[ee] = wraptopi(theta[ee] +  arctan2(T_th[1, 0], T_th[0, 0]))\n",
    "\n",
    "    return theta"
   ]
  },
  {
   "cell_type": "code",
   "execution_count": 283,
   "metadata": {},
   "outputs": [
    {
     "data": {
      "text/plain": [
       "(array([-0.        , -1.7123155 , -1.64415563, -0.06149005, -0.77663429,\n",
       "         1.87466052,  1.17595691]),\n",
       " array([ 0.52359878,  0.61086524,  0.17453293, -0.6981317 ,  1.57079633,\n",
       "         0.        ,  0.        ]))"
      ]
     },
     "execution_count": 283,
     "metadata": {},
     "output_type": "execute_result"
    }
   ],
   "source": [
    "theta = joint_variables(model,data, G1, data.oMi[-1], axis_length)\n",
    "theta = np.array([theta_ for key, theta_ in theta.items()])\n",
    "theta,q0"
   ]
  },
  {
   "cell_type": "code",
   "execution_count": 284,
   "metadata": {},
   "outputs": [
    {
     "name": "stdout",
     "output_type": "stream",
     "text": [
      "[0.58081515 0.39732814 0.83122999] [0.77377923 0.57562804 0.26442024]\n"
     ]
    },
    {
     "data": {
      "text/plain": [
       "  R =\n",
       "  0.298679  -0.847922   0.437972\n",
       " -0.593952  -0.524366  -0.610132\n",
       "  0.747002 -0.0779007  -0.660242\n",
       "  p =  -0.775324 -0.0739351   0.189185"
      ]
     },
     "execution_count": 284,
     "metadata": {},
     "output_type": "execute_result"
    }
   ],
   "source": [
    "pinocchio.forwardKinematics(model,data,theta)\n",
    "print(position,direction)\n",
    "data.oMi[-1]"
   ]
  },
  {
   "cell_type": "code",
   "execution_count": 285,
   "metadata": {},
   "outputs": [],
   "source": [
    "W = np.diag(np.concatenate([np.ones(n_anchor),np.ones(n)]))\n",
    "#Y_D10 = simple_IK(3,C,D,A_,n, n_anchor,max_iter=1000,W=W,Y_init=None)\n",
    "Y_D5 = simple_IK(5,C,D,A_anchor,n, n_anchor,max_iter=1000,W=W,Y_init=Y_init_) #[A_,Y_init])\n",
    "Y_D4 = simple_IK(4,C,D,A_anchor,n, n_anchor,max_iter=2000,W=W,Y_init=Y_D5,use_rand =False)\n",
    "Y_D3 = simple_IK(3,C,D,A_anchor,n, n_anchor,max_iter=3000,W=W,Y_init=Y_D4,use_rand =False)"
   ]
  },
  {
   "cell_type": "code",
   "execution_count": 286,
   "metadata": {},
   "outputs": [
    {
     "name": "stdout",
     "output_type": "stream",
     "text": [
      "[[ 0.00000000e+00  0.00000000e+00  1.57500000e-01]\n",
      " [ 1.99999986e-01 -5.10658566e-11  1.57500000e-01]\n",
      " [-5.84911308e-27 -1.99999985e-01  1.57500000e-01]\n",
      " [ 1.44798548e-07 -1.44504369e-07  3.57500202e-01]\n",
      " [-2.09811699e-05 -2.41791543e-05  3.59999998e-01]\n",
      " [ 1.50187172e-01 -1.32075347e-01  3.59999793e-01]\n",
      " [ 1.26044017e-01  1.43374595e-01  4.33243824e-01]\n",
      " [ 2.49328227e-01  2.83610226e-01  5.04902539e-01]\n",
      " [ 2.58880167e-01  2.94484318e-01  5.10449123e-01]\n",
      " [ 1.11212509e-01  3.65797564e-01  6.24942283e-01]\n",
      " [ 3.78464159e-01  3.20408525e-01  6.48535525e-01]\n",
      " [ 5.08097224e-01  3.48524137e-01  7.98217792e-01]\n",
      " [ 5.18139790e-01  3.50696150e-01  8.09822931e-01]\n",
      " [ 3.92245049e-01  4.81094725e-01  8.94361240e-01]\n",
      " [ 5.80815002e-01  3.97328287e-01  8.31229977e-01]\n",
      " [ 7.35570836e-01  5.12453908e-01  8.84114034e-01]]\n",
      "2.0764232868182955e-07\n",
      "9.195063001374841e-08\n",
      "[-0.77377917 -0.5756281  -0.26442028]\n",
      "2.0764232868182955e-07\n"
     ]
    }
   ],
   "source": [
    "Y_star = Y_D3\n",
    "e1 = np.array([1,0,0])\n",
    "e2 = np.array([0,1,0])\n",
    "e3 = np.array([0,0,1])\n",
    "\n",
    "#X = direction_to_position(np.concatenate([Y_star[0][:3,:],U[:3,:3]@np.diag(S)[:3,:]@V],axis=1),C,D)\n",
    "if len(Y_star) == 2:\n",
    "    #print(ANCHOR)\n",
    "    X = direction_to_position(np.concatenate([Y_star[0],Y_star[1]],axis=1),C,D,data)\n",
    "else:\n",
    "    X = direction_to_position(Y_star,C,D,data)\n",
    "\n",
    "\n",
    "R = np.eye(3)#rotation_matrix_from_vectors(norm(X[1,:]), e2)\n",
    "R_ = np.eye(3)#rotation_matrix_from_vectors(norm(R@X[2,:]), e3).transpose()\n",
    "Rz_flip = np.diag((1,1,1))\n",
    "print(X)\n",
    "print(np.linalg.norm(X[-2,:]@R.transpose()@R_.transpose()@Rz_flip-position))\n",
    "print(np.linalg.norm((X[-1,:]-X[-2,:])/axis_length-direction))\n",
    "print((X[-2,:]-X[-1,:])/np.linalg.norm((X[-2,:]-X[-1,:])))\n",
    "#X = X@R.transpose()@Rz_flip\n",
    "print(np.linalg.norm(X[-2,:]-position))"
   ]
  },
  {
   "cell_type": "code",
   "execution_count": 287,
   "metadata": {},
   "outputs": [
    {
     "name": "stderr",
     "output_type": "stream",
     "text": [
      "100%|██████████| 10/10 [00:07<00:00,  1.28it/s]\n"
     ]
    }
   ],
   "source": [
    "count_success = 0\n",
    "err_pos = []\n",
    "err_or = []\n",
    "\n",
    "for i in tqdm.tqdm(range(10**1)):\n",
    "    q0 = pinocchio.randomConfiguration(model)\n",
    "    pinocchio.framesForwardKinematics(model,data,q0)\n",
    "    position = data.oMi[-1].translation*scale #np.array([200,0,500])/1000\n",
    "    direction = data.oMi[-1].rotation@np.array([0,0,1])\n",
    "\n",
    "    #print(position, direction)\n",
    "\n",
    "    G1, list_edges_anchor, list_edges_anchor, new_edge_order, n,n_anchor, A_anchor, D,C, Y_init_ = goal_graph(model, data, G, axis_length, \n",
    "                                                                                                 position, direction = direction, anchor = True)\n",
    "    \n",
    "        \n",
    "    Y_D4 = simple_IK(4,C,D,A_anchor,n, n_anchor,max_iter=2000,W=W,Y_init=None,use_rand =False)\n",
    "    Y_D3 = simple_IK(3,C,D,A_anchor,n, n_anchor,max_iter=3000,W=W,Y_init=Y_D4,use_rand =False)\n",
    "\n",
    "    \n",
    "    Y_star = Y_D3\n",
    "\n",
    "    if len(Y_star) == 2:\n",
    "        #print(ANCHOR)\n",
    "        X = direction_to_position(np.concatenate([Y_star[0],Y_star[1]],axis=1),C,D,data)\n",
    "    else:\n",
    "        X = direction_to_position(Y_star,C,D,data)\n",
    "    #print((X[-2,:]-X[-1,:])/np.linalg.norm((X[-2,:]-X[-1,:])),direction)\n",
    "    err_or.append(np.linalg.norm((X[-1,:]-X[-2,:])/np.linalg.norm((X[-2,:]-X[-1,:]))-direction))\n",
    "    err_pos.append(np.linalg.norm(X[-2,:]-position))\n",
    "    #print(X[3,:])\n"
   ]
  },
  {
   "cell_type": "code",
   "execution_count": 288,
   "metadata": {},
   "outputs": [
    {
     "name": "stdout",
     "output_type": "stream",
     "text": [
      "7.590934209856544e-07 9.057174266812826e-07\n"
     ]
    },
    {
     "data": {
      "text/plain": [
       "10"
      ]
     },
     "execution_count": 288,
     "metadata": {},
     "output_type": "execute_result"
    }
   ],
   "source": [
    "print(max(err_pos),max(err_or))\n",
    "sum(np.array(err_or)<10**-5)"
   ]
  },
  {
   "cell_type": "code",
   "execution_count": 289,
   "metadata": {},
   "outputs": [],
   "source": [
    "def direction_to_position(Y,C,D,data):\n",
    "    #print(Y.shape, C.shape, D.shape)\n",
    "    X = np.linalg.pinv(C@C.transpose())@C@D@Y.transpose()\n",
    "    #print(X)\n",
    "    X = X - X[0,:] + data.oMi[1].translation*scale\n",
    "    \n",
    "    #if X[0,0]<0:\n",
    "      #  X = -X\n",
    "    \n",
    "    v = X[1,:] - X[0,:]\n",
    "    R = rotation_matrix_from_vectors(v/np.linalg.norm(v),e1/np.linalg.norm(e1))\n",
    "    X = (X - X[0,:])@R.transpose() + X[0,:]\n",
    "\n",
    "    v = X[2,:] - X[0,:]\n",
    "    R = rotation_matrix_from_vectors(v/np.linalg.norm(v),-e2/np.linalg.norm(e2))\n",
    "    X = (X - X[0,:])@R.transpose() + X[0,:]\n",
    "    flip = 1\n",
    "\n",
    "    if X[3,2]<axis_length:\n",
    "        flip = -1\n",
    "    v = X[2,:] - X[0,:]\n",
    "    R = np.diag((1,1,flip))\n",
    "    X = (X - X[0,:])@R.transpose() + X[0,:]\n",
    "\n",
    "    return X\n",
    "\n",
    "def rotation_matrix_from_vectors(vec1, vec2):\n",
    "    \"\"\" Find the rotation matrix that aligns vec1 to vec2\n",
    "    :param vec1: A 3d \"source\" vector\n",
    "    :param vec2: A 3d \"destination\" vector\n",
    "    :return mat: A transform matrix (3x3) which when applied to vec1, aligns it with vec2.\n",
    "    \"\"\"\n",
    "    a, b = (vec1 / np.linalg.norm(vec1)).reshape(3), (vec2 / np.linalg.norm(vec2)).reshape(3)\n",
    "    v = np.cross(a, b)\n",
    "    c = np.dot(a, b)\n",
    "    s = np.linalg.norm(v)\n",
    "    kmat = np.array([[0, -v[2], v[1]], [v[2], 0, -v[0]], [-v[1], v[0], 0]])\n",
    "    rotation_matrix = np.eye(3) + kmat + kmat.dot(kmat) * ((1 - c) / (s ** 2))\n",
    "    return rotation_matrix"
   ]
  }
 ],
 "metadata": {
  "kernelspec": {
   "display_name": "master_thesis",
   "language": "python",
   "name": "python3"
  },
  "language_info": {
   "codemirror_mode": {
    "name": "ipython",
    "version": 3
   },
   "file_extension": ".py",
   "mimetype": "text/x-python",
   "name": "python",
   "nbconvert_exporter": "python",
   "pygments_lexer": "ipython3",
   "version": "3.12.2"
  }
 },
 "nbformat": 4,
 "nbformat_minor": 2
}
