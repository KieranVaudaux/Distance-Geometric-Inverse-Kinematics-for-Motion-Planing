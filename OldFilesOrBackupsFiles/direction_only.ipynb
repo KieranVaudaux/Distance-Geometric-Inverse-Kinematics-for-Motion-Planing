{
 "cells": [
  {
   "cell_type": "code",
   "execution_count": 169,
   "id": "68ee0614",
   "metadata": {},
   "outputs": [],
   "source": [
    "import numpy as np \n",
    "import time \n",
    "from useful_function_joint import *\n",
    "import pymanopt\n",
    "from pymanopt import manifolds, optimizers, tools, core\n",
    "from pymanopt.core.problem  import Problem\n",
    "from typing import Sequence\n",
    "\n",
    "import networkx as nx"
   ]
  },
  {
   "cell_type": "code",
   "execution_count": null,
   "id": "6e2faec9",
   "metadata": {},
   "outputs": [],
   "source": []
  },
  {
   "cell_type": "code",
   "execution_count": 2,
   "id": "4a7e9222",
   "metadata": {},
   "outputs": [],
   "source": [
    "e1 = np.array((1,0,0))*10\n",
    "e2 = np.array((0,1,0))*10\n",
    "e3 = np.array((0,0,1))*10\n",
    "e0 = np.array([0,0,0])"
   ]
  },
  {
   "cell_type": "code",
   "execution_count": 3,
   "id": "09cbf586",
   "metadata": {},
   "outputs": [],
   "source": [
    "t1 = np.array((25,0,0))\n",
    "t2 = np.array((560,0,0))\n",
    "t3 = np.array((515,0,0))\n",
    "t4 = np.array((0,0,0))\n",
    "t5 = np.array((90,0,0))"
   ]
  },
  {
   "cell_type": "code",
   "execution_count": 4,
   "id": "7ded5a21",
   "metadata": {},
   "outputs": [],
   "source": [
    "joints_ref = np.array([0,-90,90,0,0,0])*np.pi/180"
   ]
  },
  {
   "cell_type": "code",
   "execution_count": 5,
   "id": "022cf555",
   "metadata": {},
   "outputs": [],
   "source": [
    "R1 = Rz(joints_ref[0])\n",
    "R2 = Ry(joints_ref[1])\n",
    "R3 = Ry(joints_ref[2])\n",
    "R4 = Rx(joints_ref[3])\n",
    "R5 = Ry(joints_ref[4])\n",
    "R6 = Rx(joints_ref[5])"
   ]
  },
  {
   "cell_type": "code",
   "execution_count": 6,
   "id": "63836887",
   "metadata": {},
   "outputs": [],
   "source": [
    "T1 = T(t1)\n",
    "T2 = T(t2)\n",
    "T3 = T(t3)\n",
    "T4 = T(t4)\n",
    "T5 = T(t5)"
   ]
  },
  {
   "cell_type": "code",
   "execution_count": 7,
   "id": "d6d4c275",
   "metadata": {},
   "outputs": [],
   "source": [
    "axes = ['z','y','y','x','y','x']\n",
    "translation = [T(e0),T1,T2,T3,T4,T5]\n",
    "rotation = [R1,R2,R3,R4,R5,R6]\n",
    "\n",
    "step_vect = {'z': [e0,e3],\n",
    "             'y': [2*e1,-2*e1],\n",
    "             'x': [e0,-e1]}"
   ]
  },
  {
   "cell_type": "code",
   "execution_count": null,
   "id": "b904239f",
   "metadata": {},
   "outputs": [],
   "source": []
  },
  {
   "cell_type": "code",
   "execution_count": 8,
   "id": "1a46f9f2",
   "metadata": {},
   "outputs": [
    {
     "data": {
      "text/plain": [
       "10.04987562112089"
      ]
     },
     "execution_count": 8,
     "metadata": {},
     "output_type": "execute_result"
    }
   ],
   "source": [
    "np.sqrt(10**2+1)"
   ]
  },
  {
   "cell_type": "code",
   "execution_count": 88,
   "id": "fdbf3d47",
   "metadata": {},
   "outputs": [],
   "source": [
    "G = nx.Graph()\n",
    "\n",
    "G.add_node(1,pos_ref=e1)\n",
    "G.add_node(2,pos_ref=e2)\n",
    "G.add_edge(1,2, weight  = np.linalg.norm(e1-e2))\n",
    "\n",
    "\n",
    "count = 2\n",
    "\n",
    "for i, ax in enumerate(axes):\n",
    "    v1,v2 = step_vect[ax]\n",
    "    \n",
    "    transform = []\n",
    "    \n",
    "    for j in range(i+1):\n",
    "        transform.append(translation[j])\n",
    "        transform.append(rotation[j])\n",
    "    transform = np.array(transform)\n",
    "    transformation = np.linalg.multi_dot(transform)\n",
    "    \n",
    "    G.add_node(count+2,pos_ref=(transformation@T(v1))[:3,3])\n",
    "    G.add_node(count+1,pos_ref=(transformation@T(v2))[:3,3])\n",
    "    \n",
    "    node_pos_ref = nx.get_node_attributes(G,'pos_ref')\n",
    "    \n",
    "    G.add_edge(count+2,count+1, weight = np.linalg.norm(node_pos_ref[count+1]-node_pos_ref[count+2]))\n",
    "    \n",
    "    G.add_edge(count,count+1, weight = np.linalg.norm(node_pos_ref[count+1]-node_pos_ref[count]))\n",
    "    G.add_edge(count-1,count+1, weight = np.linalg.norm(node_pos_ref[count+1]-node_pos_ref[count-1]))\n",
    "    \n",
    "    G.add_edge(count,count+2, weight = np.linalg.norm(node_pos_ref[count+2]-node_pos_ref[count]))\n",
    "    G.add_edge(count-1,count+2, weight = np.linalg.norm(node_pos_ref[count+2]-node_pos_ref[count-1]))\n",
    "    \n",
    "    count = count + 2\n",
    "\n",
    "transform = []\n",
    "for j in range(len(translation)):\n",
    "    transform.append(translation[j])\n",
    "    transform.append(rotation[j])\n",
    "    \n",
    "#G.add_node(count+1,pos_ref=(transformation@T(e1/10))[:3,3])\n",
    "#G.add_node(count+2,pos_ref=(transformation@T(e2/10))[:3,3])\n",
    "#G.add_node(count+3,pos_ref=(transformation@T(e3/10))[:3,3])\n",
    "\n",
    "#node_pos_ref = nx.get_node_attributes(G,'pos_ref')\n",
    "\n",
    "#G.add_edge(count+1,count, weight = np.linalg.norm(node_pos_ref[count+1]-node_pos_ref[count]))\n",
    "#G.add_edge(count+2,count, weight = np.linalg.norm(node_pos_ref[count+2]-node_pos_ref[count]))\n",
    "#G.add_edge(count+3,count, weight = np.linalg.norm(node_pos_ref[count+3]-node_pos_ref[count]))\n",
    "\n",
    "#G.add_edge(count+1,count-1, weight = np.linalg.norm(node_pos_ref[count+1]-node_pos_ref[count-1]))\n",
    "#G.add_edge(count+2,count-1, weight = np.linalg.norm(node_pos_ref[count+2]-node_pos_ref[count-1]))\n",
    "#G.add_edge(count+3,count-1, weight = np.linalg.norm(node_pos_ref[count+3]-node_pos_ref[count-1]))\n",
    "\n",
    "mapping = {1: \"x\", 2: \"y\", 3: \"a1_origin\", 4: \"a1_plus\", 5: \"a2_plus\", 6: \" a2_minus\", 7: \"a3_plus\", 8:\"a3_minus\", \n",
    "           9: \"a4_origin\", 10:\"a4_minus\", 11: \"a5_plus\", 12:\"a5_minus\", 13: \"a6_origin\", 14:\"a6_minus\"}\n",
    "           \n",
    "#,15:'x_target',16:'y_target',17:'z_target'}\n",
    "\n",
    "G = nx.relabel_nodes(G, mapping)\n"
   ]
  },
  {
   "cell_type": "code",
   "execution_count": 10,
   "id": "bdf9acbe",
   "metadata": {},
   "outputs": [
    {
     "ename": "NameError",
     "evalue": "name 'weight' is not defined",
     "output_type": "error",
     "traceback": [
      "\u001b[0;31m---------------------------------------------------------------------------\u001b[0m",
      "\u001b[0;31mNameError\u001b[0m                                 Traceback (most recent call last)",
      "Input \u001b[0;32mIn [10]\u001b[0m, in \u001b[0;36m<cell line: 2>\u001b[0;34m()\u001b[0m\n\u001b[1;32m      1\u001b[0m G\u001b[38;5;241m.\u001b[39mnodes\n\u001b[0;32m----> 2\u001b[0m \u001b[38;5;28mlen\u001b[39m(\u001b[43mweight\u001b[49m\u001b[38;5;241m.\u001b[39mkeys())\n\u001b[1;32m      3\u001b[0m G\u001b[38;5;241m.\u001b[39medges\n",
      "\u001b[0;31mNameError\u001b[0m: name 'weight' is not defined"
     ]
    }
   ],
   "source": [
    "G.nodes\n",
    "len(weight.keys())\n",
    "G.edges"
   ]
  },
  {
   "cell_type": "code",
   "execution_count": 95,
   "id": "0bc5931e",
   "metadata": {},
   "outputs": [
    {
     "data": {
      "text/plain": [
       "EdgeView([('x', 'y'), ('x', 'a1_origin'), ('x', 'a1_plus'), ('y', 'a1_origin'), ('y', 'a1_plus'), ('a1_plus', 'a1_origin'), ('a1_plus', 'a2_plus'), ('a1_plus', ' a2_minus'), ('a1_origin', 'a2_plus'), ('a1_origin', ' a2_minus'), (' a2_minus', 'a2_plus'), (' a2_minus', 'a3_plus'), (' a2_minus', 'a3_minus'), ('a2_plus', 'a3_plus'), ('a2_plus', 'a3_minus'), ('a3_minus', 'a3_plus'), ('a3_minus', 'a4_origin'), ('a3_minus', 'a4_minus'), ('a3_plus', 'a4_origin'), ('a3_plus', 'a4_minus'), ('a4_minus', 'a4_origin'), ('a4_minus', 'a5_plus'), ('a4_minus', 'a5_minus'), ('a4_origin', 'a5_plus'), ('a4_origin', 'a5_minus'), ('a5_minus', 'a5_plus'), ('a5_minus', 'a6_origin'), ('a5_minus', 'a6_minus'), ('a5_plus', 'a6_origin'), ('a5_plus', 'a6_minus'), ('a6_minus', 'a6_origin')])"
      ]
     },
     "execution_count": 95,
     "metadata": {},
     "output_type": "execute_result"
    }
   ],
   "source": [
    "G.edges()"
   ]
  },
  {
   "cell_type": "code",
   "execution_count": 154,
   "id": "cb8774b9",
   "metadata": {},
   "outputs": [
    {
     "data": {
      "text/plain": [
       "array([-1., -1., -1.,  0.,  0.,  0.,  0.,  0.,  0.,  0.,  0.,  0.,  0.,\n",
       "        0.,  0.,  0.,  0.,  0.,  0.,  0.,  0.,  0.,  0.,  0.,  0.,  0.,\n",
       "        0.,  0.,  0.,  0.,  0.])"
      ]
     },
     "execution_count": 154,
     "metadata": {},
     "output_type": "execute_result"
    }
   ],
   "source": [
    "pos_ref = nx.get_node_attributes(G,'pos_ref')\n",
    "M = np.array([pos_ref[i] for i in pos_ref.keys()])\n",
    "np.linalg.det(C@C.transpose())\n",
    "C[0,:]"
   ]
  },
  {
   "cell_type": "code",
   "execution_count": 163,
   "id": "f6f578f9",
   "metadata": {},
   "outputs": [
    {
     "data": {
      "text/plain": [
       "{'x': array([10,  0,  0]),\n",
       " 'y': array([ 0, 10,  0]),\n",
       " 'a1_plus': array([0., 0., 0.]),\n",
       " 'a1_origin': array([ 0.,  0., 10.]),\n",
       " ' a2_minus': array([25.,  0., 20.]),\n",
       " 'a2_plus': array([ 25.,   0., -20.]),\n",
       " 'a3_minus': array([ 45.,   0., 560.]),\n",
       " 'a3_plus': array([  5.,   0., 560.]),\n",
       " 'a4_minus': array([540.,   0., 560.]),\n",
       " 'a4_origin': array([530.,   0., 560.]),\n",
       " 'a5_minus': array([560.,   0., 560.]),\n",
       " 'a5_plus': array([520.,   0., 560.]),\n",
       " 'a6_minus': array([630.,   0., 560.]),\n",
       " 'a6_origin': array([620.,   0., 560.])}"
      ]
     },
     "execution_count": 163,
     "metadata": {},
     "output_type": "execute_result"
    }
   ],
   "source": [
    "nx.get_node_attributes(G,'pos_ref')"
   ]
  },
  {
   "cell_type": "code",
   "execution_count": 177,
   "id": "cc96cbd9",
   "metadata": {},
   "outputs": [
    {
     "ename": "ValueError",
     "evalue": "cannot reshape array of size 4 into shape (15,1)",
     "output_type": "error",
     "traceback": [
      "\u001b[0;31m---------------------------------------------------------------------------\u001b[0m",
      "\u001b[0;31mValueError\u001b[0m                                Traceback (most recent call last)",
      "Input \u001b[0;32mIn [177]\u001b[0m, in \u001b[0;36m<cell line: 11>\u001b[0;34m()\u001b[0m\n\u001b[1;32m      8\u001b[0m d \u001b[38;5;241m=\u001b[39m \u001b[38;5;241m15\u001b[39m\n\u001b[1;32m      9\u001b[0m n \u001b[38;5;241m=\u001b[39m D\u001b[38;5;241m.\u001b[39mshape[\u001b[38;5;241m0\u001b[39m]\u001b[38;5;241m-\u001b[39m\u001b[38;5;241m1\u001b[39m\u001b[38;5;241m-\u001b[39m\u001b[38;5;241m6\u001b[39m\n\u001b[0;32m---> 11\u001b[0m direction \u001b[38;5;241m=\u001b[39m \u001b[43mnp\u001b[49m\u001b[38;5;241;43m.\u001b[39;49m\u001b[43marray\u001b[49m\u001b[43m(\u001b[49m\u001b[43m[\u001b[49m\u001b[38;5;241;43m1\u001b[39;49m\u001b[43m,\u001b[49m\u001b[38;5;241;43m0\u001b[39;49m\u001b[43m,\u001b[49m\u001b[38;5;241;43m1\u001b[39;49m\u001b[43m,\u001b[49m\u001b[38;5;241;43m0\u001b[39;49m\u001b[43m]\u001b[49m\u001b[43m)\u001b[49m\u001b[38;5;241;43m.\u001b[39;49m\u001b[43mreshape\u001b[49m\u001b[43m(\u001b[49m\u001b[43md\u001b[49m\u001b[43m,\u001b[49m\u001b[38;5;241;43m1\u001b[39;49m\u001b[43m)\u001b[49m\n\u001b[1;32m     12\u001b[0m direction \u001b[38;5;241m=\u001b[39m direction\u001b[38;5;241m/\u001b[39mnp\u001b[38;5;241m.\u001b[39mlinalg\u001b[38;5;241m.\u001b[39mnorm(direction)\n\u001b[1;32m     14\u001b[0m direction_frame_origin_ \u001b[38;5;241m=\u001b[39m [(\u001b[38;5;124m'\u001b[39m\u001b[38;5;124mx\u001b[39m\u001b[38;5;124m'\u001b[39m, \u001b[38;5;124m'\u001b[39m\u001b[38;5;124my\u001b[39m\u001b[38;5;124m'\u001b[39m), (\u001b[38;5;124m'\u001b[39m\u001b[38;5;124mx\u001b[39m\u001b[38;5;124m'\u001b[39m, \u001b[38;5;124m'\u001b[39m\u001b[38;5;124ma1_origin\u001b[39m\u001b[38;5;124m'\u001b[39m), (\u001b[38;5;124m'\u001b[39m\u001b[38;5;124mx\u001b[39m\u001b[38;5;124m'\u001b[39m, \u001b[38;5;124m'\u001b[39m\u001b[38;5;124ma1_plus\u001b[39m\u001b[38;5;124m'\u001b[39m), (\u001b[38;5;124m'\u001b[39m\u001b[38;5;124my\u001b[39m\u001b[38;5;124m'\u001b[39m, \u001b[38;5;124m'\u001b[39m\u001b[38;5;124ma1_origin\u001b[39m\u001b[38;5;124m'\u001b[39m), (\u001b[38;5;124m'\u001b[39m\u001b[38;5;124my\u001b[39m\u001b[38;5;124m'\u001b[39m, \u001b[38;5;124m'\u001b[39m\u001b[38;5;124ma1_plus\u001b[39m\u001b[38;5;124m'\u001b[39m), (\u001b[38;5;124m'\u001b[39m\u001b[38;5;124ma1_plus\u001b[39m\u001b[38;5;124m'\u001b[39m, \u001b[38;5;124m'\u001b[39m\u001b[38;5;124ma1_origin\u001b[39m\u001b[38;5;124m'\u001b[39m)]\n",
      "\u001b[0;31mValueError\u001b[0m: cannot reshape array of size 4 into shape (15,1)"
     ]
    }
   ],
   "source": [
    "\n",
    "pos_ref = nx.get_node_attributes(G,'pos_ref')\n",
    "\n",
    "weight = nx.get_edge_attributes(G, \"weight\")\n",
    "D = np.diag([weight[i] for i in weight.keys()])\n",
    "C = incidence_matrix_(G,oriented=True).toarray()\n",
    "C = np.array(C)\n",
    "\n",
    "d = 3\n",
    "n = D.shape[0]-1-6\n",
    "\n",
    "direction = np.array([1,0,1,0]).reshape(d,1)\n",
    "direction = direction/np.linalg.norm(direction)\n",
    "\n",
    "direction_frame_origin_ = [('x', 'y'), ('x', 'a1_origin'), ('x', 'a1_plus'), ('y', 'a1_origin'), ('y', 'a1_plus'), ('a1_plus', 'a1_origin')]\n",
    "direction_frame_origin = [manifolds.ConstantFactory((pos_ref[in_]-pos_ref[out_]).reshape(d,1)/np.linalg.norm(pos_ref[in_]-pos_ref[out_])) for out_, in_ in direction_frame_origin_]\n",
    "\n",
    "robot = manifolds.Oblique(d,n)\n",
    "direction_end_effector = manifolds.ConstantFactory(direction)\n",
    "\n",
    "list_manifold = direction_frame_origin\n",
    "list_manifold.append(robot)\n",
    "list_manifold.append(direction_end_effector)\n",
    "\n",
    "manifold_ = manifolds.Product(list_manifold)\n",
    "\n",
    "Q2 = -D@(C.transpose()@np.linalg.pinv(C@C.transpose()))@C@D;\n",
    "Q1 = D@D;\n",
    "\n",
    "@pymanopt.function.numpy(manifold_)\n",
    "def cost(Y1, Y2,Y3,Y4,Y5,Y6,Y7,Y8):\n",
    "    Y_ = np.concatenate([Y1, Y2,Y3,Y4,Y5,Y6,Y7,Y8],axis=1)\n",
    "    return np.trace(Q1 + Q2@Y_.transpose()@Y_)\n",
    "\n",
    "@pymanopt.function.numpy(manifold_)\n",
    "def euclidean_gradient(Y1, Y2,Y3,Y4,Y5,Y6,Y7,Y8):\n",
    "    Y_ = np.concatenate([Y1, Y2,Y3,Y4,Y5,Y6,Y7,Y8],axis=1)\n",
    "    grad = 2*Q2@Y_.transpose()\n",
    "    return [grad[0,:].reshape(d,1),grad[1,:].reshape(d,1),grad[2,:].reshape(d,1),grad[3,:].reshape(d,1),\n",
    "            grad[4,:].reshape(d,1),grad[5,:].reshape(d,1),grad[6:-1,:].transpose(),grad[-1,:].reshape(d,1)]\n",
    "                        \n",
    "@pymanopt.function.numpy(manifold_)\n",
    "def euclidean_hessian(Y1, Y2,Y3,Y4,Y5,Y6,Y7,Y8,U1,U2,U3,U4,U5,U6,U7,U8):\n",
    "    hess = 2*Q2@np.concatenate([U1,U2,U3,U4,U5,U6,U7,U8],axis=1).transpose()\n",
    "    return [hess[0,:].reshape(d,1),hess[1,:].reshape(d,1),hess[2,:].reshape(d,1),hess[3,:].reshape(d,1),\n",
    "            hess[4,:].reshape(d,1),hess[5,:].reshape(d,1),hess[6:-1,:].transpose(),hess[-1,:].reshape(d,1)]\n",
    "\n",
    "\n",
    "\n",
    "\n",
    "problem = Problem(manifold=manifold_, cost=cost,euclidean_gradient=euclidean_gradient, euclidean_hessian=euclidean_hessian)\n",
    "\n",
    "optimizer = optimizers.TrustRegions(max_iterations=2000)\n",
    "start = time.time()\n",
    "Y_star = optimizer.run(problem,initial_point=manifold_.random_point()).point\n",
    "end = time.time()\n",
    "end-start"
   ]
  },
  {
   "cell_type": "code",
   "execution_count": null,
   "id": "49d71822",
   "metadata": {},
   "outputs": [],
   "source": []
  },
  {
   "cell_type": "code",
   "execution_count": 151,
   "id": "3646408d",
   "metadata": {},
   "outputs": [
    {
     "data": {
      "text/plain": [
       "array([[ 1.00000022e+01, -3.83692077e-09, -1.85364688e-09],\n",
       "       [ 9.73477587e-06, -9.83212922e+00, -1.82464196e+00],\n",
       "       [ 0.00000000e+00,  0.00000000e+00,  0.00000000e+00],\n",
       "       [ 1.58501008e-04, -1.82483620e+00,  9.83225109e+00],\n",
       "       [ 4.10904023e+00,  2.05970644e+01,  2.41633748e+01],\n",
       "       [ 3.67409536e+00,  2.79640146e+01, -1.51500265e+01],\n",
       "       [-5.01716049e+00, -6.58518749e+01,  5.57495627e+02],\n",
       "       [ 2.34537903e+01, -9.34091009e+01,  5.52016003e+02],\n",
       "       [-3.57303000e+02,  2.74652786e+02,  6.28037716e+02],\n",
       "       [-3.50189738e+02,  2.67802884e+02,  6.26457474e+02],\n",
       "       [-3.71512795e+02,  2.88273241e+02,  6.31584779e+02],\n",
       "       [-3.43085442e+02,  2.60995921e+02,  6.24668343e+02],\n",
       "       [-4.21236419e+02,  3.35907659e+02,  6.44175434e+02],\n",
       "       [-4.14140031e+02,  3.29129411e+02,  6.42249762e+02]])"
      ]
     },
     "execution_count": 151,
     "metadata": {},
     "output_type": "execute_result"
    }
   ],
   "source": [
    "X@R.transpose()"
   ]
  },
  {
   "cell_type": "code",
   "execution_count": 149,
   "id": "23b5f23d",
   "metadata": {},
   "outputs": [],
   "source": [
    "from scipy.spatial.transform import Rotation as R\n",
    "\n",
    "v = np.array([   2.25366279,    5.86244727,    7.78156537])\n",
    "u = np.cross(v/np.linalg.norm(v),e1/10)\n",
    "\n",
    "R = rotation_matrix_from_vectors(v/10,e1/10)"
   ]
  },
  {
   "cell_type": "code",
   "execution_count": 136,
   "id": "cbe42ba2",
   "metadata": {},
   "outputs": [],
   "source": [
    "def rotation_matrix_from_vectors(vec1, vec2):\n",
    "    \"\"\" Find the rotation matrix that aligns vec1 to vec2\n",
    "    :param vec1: A 3d \"source\" vector\n",
    "    :param vec2: A 3d \"destination\" vector\n",
    "    :return mat: A transform matrix (3x3) which when applied to vec1, aligns it with vec2.\n",
    "    \"\"\"\n",
    "    a, b = (vec1 / np.linalg.norm(vec1)).reshape(3), (vec2 / np.linalg.norm(vec2)).reshape(3)\n",
    "    v = np.cross(a, b)\n",
    "    c = np.dot(a, b)\n",
    "    s = np.linalg.norm(v)\n",
    "    kmat = np.array([[0, -v[2], v[1]], [v[2], 0, -v[0]], [-v[1], v[0], 0]])\n",
    "    rotation_matrix = np.eye(3) + kmat + kmat.dot(kmat) * ((1 - c) / (s ** 2))\n",
    "    return rotation_matrix"
   ]
  },
  {
   "cell_type": "code",
   "execution_count": 145,
   "id": "8079195e",
   "metadata": {},
   "outputs": [
    {
     "data": {
      "text/plain": [
       "array([ 7.07106215e-01, -4.30210497e-07,  7.07107348e-01])"
      ]
     },
     "execution_count": 145,
     "metadata": {},
     "output_type": "execute_result"
    }
   ],
   "source": [
    "X = np.linalg.pinv(C@C.transpose())@C@D@np.concatenate([Y_star[0].transpose(),Y_star[1].reshape(1,d)],axis=0)\n",
    "(X[-1,:]-X[-2,:])/np.linalg.norm(X[-2,:]-X[-1,:])"
   ]
  },
  {
   "cell_type": "code",
   "execution_count": 147,
   "id": "cc0c0470",
   "metadata": {},
   "outputs": [
    {
     "data": {
      "text/plain": [
       "{'x': array([10,  0,  0]),\n",
       " 'y': array([ 0, 10,  0]),\n",
       " 'a1_plus': array([0., 0., 0.]),\n",
       " 'a1_origin': array([ 0.,  0., 10.]),\n",
       " ' a2_minus': array([25.,  0., 20.]),\n",
       " 'a2_plus': array([ 25.,   0., -20.]),\n",
       " 'a3_minus': array([ 45.,   0., 560.]),\n",
       " 'a3_plus': array([  5.,   0., 560.]),\n",
       " 'a4_minus': array([540.,   0., 560.]),\n",
       " 'a4_origin': array([530.,   0., 560.]),\n",
       " 'a5_minus': array([560.,   0., 560.]),\n",
       " 'a5_plus': array([520.,   0., 560.]),\n",
       " 'a6_minus': array([630.,   0., 560.]),\n",
       " 'a6_origin': array([620.,   0., 560.])}"
      ]
     },
     "execution_count": 147,
     "metadata": {},
     "output_type": "execute_result"
    }
   ],
   "source": [
    "X = X - X[2,:]\n",
    "nx.get_node_attributes(G,'pos_ref')"
   ]
  },
  {
   "cell_type": "code",
   "execution_count": 59,
   "id": "fe27a714",
   "metadata": {},
   "outputs": [
    {
     "data": {
      "text/plain": [
       "(14, 3)"
      ]
     },
     "execution_count": 59,
     "metadata": {},
     "output_type": "execute_result"
    }
   ],
   "source": [
    "X.shape"
   ]
  },
  {
   "cell_type": "code",
   "execution_count": 52,
   "id": "0c26c4f9",
   "metadata": {},
   "outputs": [
    {
     "data": {
      "text/plain": [
       "EdgeView([('x', 'y'), ('x', 'a1_origin'), ('x', 'a1_plus'), ('y', 'a1_origin'), ('y', 'a1_plus'), ('a1_origin', 'a1_plus'), ('a1_origin', 'a2_plus'), ('a1_origin', ' a2_minus'), ('a1_plus', 'a2_plus'), ('a1_plus', ' a2_minus'), ('a2_plus', ' a2_minus'), ('a2_plus', 'a3_plus'), ('a2_plus', 'a3_minus'), (' a2_minus', 'a3_plus'), (' a2_minus', 'a3_minus'), ('a3_plus', 'a3_minus'), ('a3_plus', 'a4_origin'), ('a3_plus', 'a4_minus'), ('a3_minus', 'a4_origin'), ('a3_minus', 'a4_minus'), ('a4_origin', 'a4_minus'), ('a4_origin', 'a5_plus'), ('a4_origin', 'a5_minus'), ('a4_minus', 'a5_plus'), ('a4_minus', 'a5_minus'), ('a5_plus', 'a5_minus'), ('a5_plus', 'a6_origin'), ('a5_plus', 'a6_minus'), ('a5_minus', 'a6_origin'), ('a5_minus', 'a6_minus'), ('a6_origin', 'a6_minus')])"
      ]
     },
     "execution_count": 52,
     "metadata": {},
     "output_type": "execute_result"
    }
   ],
   "source": [
    "G.edges"
   ]
  }
 ],
 "metadata": {
  "kernelspec": {
   "display_name": "Python 3 (ipykernel)",
   "language": "python",
   "name": "python3"
  },
  "language_info": {
   "codemirror_mode": {
    "name": "ipython",
    "version": 3
   },
   "file_extension": ".py",
   "mimetype": "text/x-python",
   "name": "python",
   "nbconvert_exporter": "python",
   "pygments_lexer": "ipython3",
   "version": "3.9.12"
  }
 },
 "nbformat": 4,
 "nbformat_minor": 5
}
