{
 "cells": [
  {
   "cell_type": "code",
   "execution_count": 129,
   "id": "86b1eeb8",
   "metadata": {},
   "outputs": [],
   "source": [
    "import numpy as np \n",
    "import time \n",
    "from useful_function_joint import *\n",
    "import pymanopt\n",
    "from pymanopt import manifolds, optimizers, tools, core\n",
    "from pymanopt.core.problem  import Problem\n",
    "from typing import Sequence\n",
    "\n",
    "import networkx as nx"
   ]
  },
  {
   "cell_type": "code",
   "execution_count": 428,
   "id": "9e032037",
   "metadata": {},
   "outputs": [],
   "source": [
    "scale_shift = 50"
   ]
  },
  {
   "cell_type": "code",
   "execution_count": 429,
   "id": "385e4bfe",
   "metadata": {},
   "outputs": [],
   "source": [
    "e1 = np.array((1,0,0))*scale_shift\n",
    "e2 = np.array((0,1,0))*scale_shift\n",
    "e3 = np.array((0,0,1))*scale_shift\n",
    "e0 = np.array([0,0,0])"
   ]
  },
  {
   "cell_type": "code",
   "execution_count": 430,
   "id": "017b3c0c",
   "metadata": {},
   "outputs": [],
   "source": [
    "t1 = np.array((25,0,0))\n",
    "t2 = np.array((560,0,0))\n",
    "t3 = np.array((515,0,25))\n",
    "t4 = np.array((0,0,0))\n",
    "t5 = np.array((90,0,0))"
   ]
  },
  {
   "cell_type": "code",
   "execution_count": 431,
   "id": "5c092ac1",
   "metadata": {},
   "outputs": [],
   "source": [
    "joints_ref = np.array([0,-90,90,0,0,0])*np.pi/180"
   ]
  },
  {
   "cell_type": "code",
   "execution_count": 432,
   "id": "5882c166",
   "metadata": {},
   "outputs": [],
   "source": [
    "R1 = Rz(joints_ref[0])\n",
    "R2 = Ry(joints_ref[1])\n",
    "R3 = Ry(joints_ref[2])\n",
    "R4 = Rx(joints_ref[3])\n",
    "R5 = Ry(joints_ref[4])\n",
    "R6 = Rx(joints_ref[5])"
   ]
  },
  {
   "cell_type": "code",
   "execution_count": 433,
   "id": "d62848ce",
   "metadata": {},
   "outputs": [],
   "source": [
    "T1 = T(t1)\n",
    "T2 = T(t2)\n",
    "T3 = T(t3)\n",
    "T4 = T(t4)\n",
    "T5 = T(t5)"
   ]
  },
  {
   "cell_type": "code",
   "execution_count": 434,
   "id": "30afe5b9",
   "metadata": {},
   "outputs": [],
   "source": [
    "axes = ['z','y','y','x','y','x']\n",
    "translation = [T(e0),T1,T2,T3,T4,T5]\n",
    "rotation = [R1,R2,R3,R4,R5,R6]\n",
    "\n",
    "step_vect = {'z': [e0,e3],\n",
    "             'y': [e2,-e2],\n",
    "             'x': [e0,-e1]}"
   ]
  },
  {
   "cell_type": "code",
   "execution_count": 458,
   "id": "a2a50707",
   "metadata": {},
   "outputs": [],
   "source": [
    "position = np.array([400,0,695])#pose_robot_(joints_ref,'camera')[:3,3]\n",
    "#np.array([400,0,695])\n",
    "\n",
    "G = nx.Graph()\n",
    "\n",
    "G.add_node(1,pos_ref=e1)\n",
    "G.add_node(2,pos_ref=e2)\n",
    "G.add_edge(1,2, weight  = np.linalg.norm(e1-e2))\n",
    "\n",
    "\n",
    "count = 2\n",
    "\n",
    "for i, ax in enumerate(axes):\n",
    "    v1,v2 = step_vect[ax]\n",
    "\n",
    "    transform = []\n",
    "\n",
    "    for j in range(i+1):\n",
    "        transform.append(translation[j])\n",
    "        transform.append(rotation[j])\n",
    "    transform = np.array(transform)\n",
    "    transformation = np.linalg.multi_dot(transform)\n",
    "\n",
    "    G.add_node(count+1,pos_ref=(transformation@T(v2))[:3,3])\n",
    "    G.add_node(count+2,pos_ref=(transformation@T(v1))[:3,3])\n",
    "\n",
    "    node_pos_ref = nx.get_node_attributes(G,'pos_ref')\n",
    "\n",
    "    G.add_edge(count+2,count+1, weight = np.linalg.norm(node_pos_ref[count+1]-node_pos_ref[count+2]))\n",
    "\n",
    "    G.add_edge(count,count+1, weight = np.linalg.norm(node_pos_ref[count+1]-node_pos_ref[count]))\n",
    "    G.add_edge(count-1,count+1, weight = np.linalg.norm(node_pos_ref[count+1]-node_pos_ref[count-1]))\n",
    "\n",
    "    G.add_edge(count,count+2, weight = np.linalg.norm(node_pos_ref[count+2]-node_pos_ref[count]))\n",
    "    G.add_edge(count-1,count+2, weight = np.linalg.norm(node_pos_ref[count+2]-node_pos_ref[count-1]))\n",
    "\n",
    "    count = count + 2\n",
    "\n",
    "mapping = {1: \"x\", 2: \"y\", 3: \"a1_plus\", 4: \"a1_origin\", 5: \"a2_minus\", 6: \" a2_plus\", 7: \"a3_minus\", 8:\"a3_plus\", \n",
    "           9: \"a4_minus\", 10:\"a4_origin\", 11: \"a5_minus\", 12:\"a5_plus\", 13: \"a6_minus\", 14:\"a6_origin\"}\n",
    "G = nx.relabel_nodes(G, mapping)\n",
    "\n",
    "G.add_edge('a1_origin','a6_origin', weight = np.linalg.norm(position))\n",
    "\n",
    "G.add_edge('x','a6_origin', weight = np.linalg.norm(position-e1))\n",
    "G.add_edge('y','a6_origin', weight = np.linalg.norm(position-e2))\n",
    "G.add_edge('a1_plus','a6_origin', weight = np.linalg.norm(position-e3))\n",
    "  \n"
   ]
  },
  {
   "cell_type": "code",
   "execution_count": 459,
   "id": "ea3d5675",
   "metadata": {},
   "outputs": [
    {
     "data": {
      "text/plain": [
       "EdgeView([('x', 'y'), ('x', 'a1_plus'), ('x', 'a1_origin'), ('x', 'a6_origin'), ('y', 'a1_plus'), ('y', 'a1_origin'), ('y', 'a6_origin'), ('a1_plus', 'a1_origin'), ('a1_plus', 'a2_minus'), ('a1_plus', ' a2_plus'), ('a1_plus', 'a6_origin'), ('a1_origin', 'a2_minus'), ('a1_origin', ' a2_plus'), ('a1_origin', 'a6_origin'), ('a2_minus', ' a2_plus'), ('a2_minus', 'a3_minus'), ('a2_minus', 'a3_plus'), (' a2_plus', 'a3_minus'), (' a2_plus', 'a3_plus'), ('a3_minus', 'a3_plus'), ('a3_minus', 'a4_minus'), ('a3_minus', 'a4_origin'), ('a3_plus', 'a4_minus'), ('a3_plus', 'a4_origin'), ('a4_minus', 'a4_origin'), ('a4_minus', 'a5_minus'), ('a4_minus', 'a5_plus'), ('a4_origin', 'a5_minus'), ('a4_origin', 'a5_plus'), ('a5_minus', 'a5_plus'), ('a5_minus', 'a6_minus'), ('a5_minus', 'a6_origin'), ('a5_plus', 'a6_minus'), ('a5_plus', 'a6_origin'), ('a6_minus', 'a6_origin')])"
      ]
     },
     "execution_count": 459,
     "metadata": {},
     "output_type": "execute_result"
    }
   ],
   "source": [
    "G.edges"
   ]
  },
  {
   "cell_type": "code",
   "execution_count": 460,
   "id": "e22cc3ff",
   "metadata": {},
   "outputs": [
    {
     "data": {
      "text/plain": [
       "{'x': array([50,  0,  0]),\n",
       " 'y': array([ 0, 50,  0]),\n",
       " 'a1_plus': array([ 0.,  0., 50.]),\n",
       " 'a1_origin': array([0., 0., 0.]),\n",
       " 'a2_minus': array([ 25., -50.,   0.]),\n",
       " ' a2_plus': array([25., 50.,  0.]),\n",
       " 'a3_minus': array([ 25., -50., 560.]),\n",
       " 'a3_plus': array([ 25.,  50., 560.]),\n",
       " 'a4_minus': array([490.,   0., 585.]),\n",
       " 'a4_origin': array([540.,   0., 585.]),\n",
       " 'a5_minus': array([540., -50., 585.]),\n",
       " 'a5_plus': array([540.,  50., 585.]),\n",
       " 'a6_minus': array([580.,   0., 585.]),\n",
       " 'a6_origin': array([630.,   0., 585.])}"
      ]
     },
     "execution_count": 460,
     "metadata": {},
     "output_type": "execute_result"
    }
   ],
   "source": [
    "nx.get_node_attributes(G,'pos_ref')"
   ]
  },
  {
   "cell_type": "code",
   "execution_count": 461,
   "id": "91272e94",
   "metadata": {},
   "outputs": [
    {
     "data": {
      "text/plain": [
       "array([ 0.4472136 , -0.89442719,  0.        ])"
      ]
     },
     "execution_count": 461,
     "metadata": {},
     "output_type": "execute_result"
    }
   ],
   "source": [
    "Y_init = np.zeros((3,35))\n",
    "\n",
    "for i, e in enumerate(list(G.edges)):\n",
    "    p1 = G.nodes[e[0]]['pos_ref']\n",
    "    p2 = G.nodes[e[1]]['pos_ref']\n",
    "    Y_init[:,i] = (p2-p1)/max(np.linalg.norm(p2-p1),10**-9)\n",
    "\n",
    "Y_init[:3,11]"
   ]
  },
  {
   "cell_type": "code",
   "execution_count": 462,
   "id": "58ba7ff7",
   "metadata": {},
   "outputs": [
    {
     "data": {
      "text/plain": [
       "1.6616468201391399e-09"
      ]
     },
     "execution_count": 462,
     "metadata": {},
     "output_type": "execute_result"
    }
   ],
   "source": [
    "cost(Y_init)"
   ]
  },
  {
   "cell_type": "code",
   "execution_count": 463,
   "id": "19f7b105",
   "metadata": {},
   "outputs": [
    {
     "data": {
      "text/plain": [
       "{'x': array([50,  0,  0]),\n",
       " 'y': array([ 0, 50,  0]),\n",
       " 'a1_plus': array([ 0.,  0., 50.]),\n",
       " 'a1_origin': array([0., 0., 0.]),\n",
       " 'a2_minus': array([ 25., -50.,   0.]),\n",
       " ' a2_plus': array([25., 50.,  0.]),\n",
       " 'a3_minus': array([ 25., -50., 560.]),\n",
       " 'a3_plus': array([ 25.,  50., 560.]),\n",
       " 'a4_minus': array([490.,   0., 585.]),\n",
       " 'a4_origin': array([540.,   0., 585.]),\n",
       " 'a5_minus': array([540., -50., 585.]),\n",
       " 'a5_plus': array([540.,  50., 585.]),\n",
       " 'a6_minus': array([580.,   0., 585.]),\n",
       " 'a6_origin': array([630.,   0., 585.])}"
      ]
     },
     "execution_count": 463,
     "metadata": {},
     "output_type": "execute_result"
    }
   ],
   "source": [
    "nx.get_node_attributes(G,'pos_ref')\n"
   ]
  },
  {
   "cell_type": "code",
   "execution_count": 464,
   "id": "5d2a972a",
   "metadata": {},
   "outputs": [
    {
     "data": {
      "text/plain": [
       "{('x', 'y'): 70.71067811865476,\n",
       " ('x', 'a1_plus'): 70.71067811865476,\n",
       " ('x', 'a1_origin'): 50.0,\n",
       " ('x', 'a6_origin'): 823.786987030021,\n",
       " ('y', 'a1_plus'): 70.71067811865476,\n",
       " ('y', 'a1_origin'): 50.0,\n",
       " ('y', 'a6_origin'): 861.1765208132418,\n",
       " ('a1_plus', 'a1_origin'): 50.0,\n",
       " ('a1_plus', 'a2_minus'): 75.0,\n",
       " ('a1_plus', ' a2_plus'): 75.0,\n",
       " ('a1_plus', 'a6_origin'): 826.5137627408269,\n",
       " ('a1_origin', 'a2_minus'): 55.90169943749474,\n",
       " ('a1_origin', ' a2_plus'): 55.90169943749474,\n",
       " ('a1_origin', 'a6_origin'): 859.723792854426,\n",
       " ('a2_minus', ' a2_plus'): 100.0,\n",
       " ('a2_minus', 'a3_minus'): 560.0,\n",
       " ('a2_minus', 'a3_plus'): 568.8585061331157,\n",
       " (' a2_plus', 'a3_minus'): 568.8585061331157,\n",
       " (' a2_plus', 'a3_plus'): 560.0,\n",
       " ('a3_minus', 'a3_plus'): 100.0,\n",
       " ('a3_minus', 'a4_minus'): 468.3481610938597,\n",
       " ('a3_minus', 'a4_origin'): 518.0250959171766,\n",
       " ('a3_plus', 'a4_minus'): 468.3481610938597,\n",
       " ('a3_plus', 'a4_origin'): 518.0250959171766,\n",
       " ('a4_minus', 'a4_origin'): 50.0,\n",
       " ('a4_minus', 'a5_minus'): 70.71067811865476,\n",
       " ('a4_minus', 'a5_plus'): 70.71067811865476,\n",
       " ('a4_origin', 'a5_minus'): 50.0,\n",
       " ('a4_origin', 'a5_plus'): 50.0,\n",
       " ('a5_minus', 'a5_plus'): 100.0,\n",
       " ('a5_minus', 'a6_minus'): 64.03124237432849,\n",
       " ('a5_minus', 'a6_origin'): 102.95630140987001,\n",
       " ('a5_plus', 'a6_minus'): 64.03124237432849,\n",
       " ('a5_plus', 'a6_origin'): 102.95630140987001,\n",
       " ('a6_minus', 'a6_origin'): 50.0}"
      ]
     },
     "execution_count": 464,
     "metadata": {},
     "output_type": "execute_result"
    }
   ],
   "source": [
    "G.edges()\n",
    "weight"
   ]
  },
  {
   "cell_type": "code",
   "execution_count": 468,
   "id": "ec570498",
   "metadata": {
    "scrolled": true
   },
   "outputs": [
    {
     "name": "stdout",
     "output_type": "stream",
     "text": [
      "(14, 35)\n",
      "Optimizing...\n",
      "                                            f: +3.047438e+06   |grad|: 9.273354e+05\n",
      "acc       k:     1     num_inner:     0     f: +1.146333e+06   |grad|: 7.888703e+05   negative curvature\n",
      "acc       k:     2     num_inner:     0     f: +4.388036e+05   |grad|: 6.193354e+05   exceeded trust region\n",
      "acc       k:     3     num_inner:     2     f: +1.111803e+05   |grad|: 2.270740e+05   exceeded trust region\n",
      "acc TR+   k:     4     num_inner:     5     f: +2.799515e+04   |grad|: 6.540073e+04   exceeded trust region\n",
      "acc TR-   k:     5     num_inner:    14     f: +2.050052e+04   |grad|: 8.587153e+04   exceeded trust region\n",
      "acc       k:     6     num_inner:     8     f: +1.230574e+03   |grad|: 9.724771e+03   reached target residual-kappa (linear)\n",
      "acc TR+   k:     7     num_inner:    25     f: +1.448857e+02   |grad|: 5.474109e+03   exceeded trust region\n",
      "acc       k:     8     num_inner:     9     f: +8.037745e+01   |grad|: 3.801359e+02   reached target residual-kappa (linear)\n",
      "REJ TR-   k:     9     num_inner:   111     f: +8.037745e+01   |grad|: 3.801359e+02   exceeded trust region\n",
      "acc TR+   k:    10     num_inner:    30     f: +3.696117e+01   |grad|: 2.809631e+03   exceeded trust region\n",
      "acc       k:    11     num_inner:     2     f: +1.683203e+01   |grad|: 2.321564e+02   reached target residual-kappa (linear)\n",
      "acc       k:    12     num_inner:    60     f: +7.989175e+00   |grad|: 1.417490e+03   reached target residual-kappa (linear)\n",
      "acc       k:    13     num_inner:     2     f: +2.763925e+00   |grad|: 6.808245e+01   reached target residual-kappa (linear)\n",
      "acc       k:    14     num_inner:    60     f: +1.107937e+00   |grad|: 4.572747e+02   reached target residual-kappa (linear)\n",
      "acc       k:    15     num_inner:     2     f: +5.662075e-01   |grad|: 2.423672e+01   reached target residual-kappa (linear)\n",
      "acc       k:    16     num_inner:    65     f: +2.047309e-01   |grad|: 1.797880e+02   reached target residual-kappa (linear)\n",
      "acc       k:    17     num_inner:     2     f: +1.213716e-01   |grad|: 9.114031e+00   reached target residual-kappa (linear)\n",
      "acc       k:    18     num_inner:    81     f: +4.135145e-02   |grad|: 7.632485e+01   reached target residual-kappa (linear)\n",
      "acc       k:    19     num_inner:     2     f: +2.645820e-02   |grad|: 4.098043e+00   reached target residual-kappa (linear)\n",
      "acc       k:    20     num_inner:    85     f: +9.438423e-03   |grad|: 3.386320e+01   reached target residual-kappa (linear)\n",
      "acc       k:    21     num_inner:     2     f: +6.519706e-03   |grad|: 1.865945e+00   reached target residual-kappa (linear)\n",
      "acc       k:    22     num_inner:   126     f: +2.437732e-03   |grad|: 1.878433e+01   reached target residual-kappa (linear)\n",
      "acc       k:    23     num_inner:     2     f: +1.548045e-03   |grad|: 1.126299e+00   reached target residual-kappa (linear)\n",
      "acc       k:    24     num_inner:   139     f: +7.416752e-04   |grad|: 1.083310e+01   reached target residual-kappa (linear)\n",
      "acc       k:    25     num_inner:     2     f: +4.492652e-04   |grad|: 7.332058e-01   reached target residual-kappa (linear)\n",
      "acc       k:    26     num_inner:    22     f: +4.377625e-04   |grad|: 6.817005e-02   reached target residual-kappa (linear)\n",
      "REJ TR-   k:    27     num_inner:   261     f: +4.377625e-04   |grad|: 6.817005e-02   reached target residual-theta (superlinear)\n",
      "REJ TR-   k:    28     num_inner:   261     f: +4.377625e-04   |grad|: 6.817005e-02   reached target residual-theta (superlinear)\n",
      "REJ TR-   k:    29     num_inner:   261     f: +4.377625e-04   |grad|: 6.817005e-02   reached target residual-theta (superlinear)\n",
      "acc TR+   k:    30     num_inner:    69     f: +3.050719e-04   |grad|: 3.002124e+00   exceeded trust region\n",
      "acc       k:    31     num_inner:    14     f: +2.691723e-04   |grad|: 2.505446e-01   reached target residual-kappa (linear)\n",
      "acc       k:    32     num_inner:    76     f: +2.339852e-04   |grad|: 2.352742e-02   reached target residual-kappa (linear)\n",
      "REJ TR-   k:    33     num_inner:   220     f: +2.339852e-04   |grad|: 2.352742e-02   exceeded trust region\n",
      "acc TR+   k:    34     num_inner:   151     f: +1.851430e-04   |grad|: 1.655568e+00   exceeded trust region\n",
      "acc       k:    35     num_inner:    17     f: +1.742842e-04   |grad|: 1.460012e-01   reached target residual-kappa (linear)\n",
      "acc TR+   k:    36     num_inner:   162     f: +1.189272e-04   |grad|: 3.000649e+00   exceeded trust region\n",
      "acc       k:    37     num_inner:     9     f: +9.217126e-05   |grad|: 2.572307e-01   reached target residual-kappa (linear)\n",
      "acc       k:    38     num_inner:    22     f: +8.816940e-05   |grad|: 2.430720e-02   reached target residual-kappa (linear)\n",
      "REJ TR-   k:    39     num_inner:   220     f: +8.816940e-05   |grad|: 2.430720e-02   exceeded trust region\n",
      "acc TR+   k:    40     num_inner:   159     f: +7.331967e-05   |grad|: 1.008092e+00   exceeded trust region\n",
      "acc       k:    41     num_inner:    15     f: +6.792637e-05   |grad|: 6.187076e-02   reached target residual-kappa (linear)\n",
      "acc TR+   k:    42     num_inner:   173     f: +4.766127e-05   |grad|: 2.107174e+00   exceeded trust region\n",
      "acc       k:    43     num_inner:     8     f: +3.526535e-05   |grad|: 1.690382e-01   reached target residual-kappa (linear)\n",
      "acc       k:    44     num_inner:    30     f: +3.196310e-05   |grad|: 8.984162e-03   reached target residual-kappa (linear)\n",
      "REJ TR-   k:    45     num_inner:   409     f: +3.196310e-05   |grad|: 8.984162e-03   reached target residual-theta (superlinear)\n",
      "acc TR+   k:    46     num_inner:   159     f: +2.577550e-05   |grad|: 6.934765e-01   exceeded trust region\n",
      "acc       k:    47     num_inner:    14     f: +2.366228e-05   |grad|: 6.564232e-02   reached target residual-kappa (linear)\n",
      "acc       k:    48     num_inner:   125     f: +2.129427e-05   |grad|: 7.011944e-03   reached target residual-theta (superlinear)\n",
      "acc       k:    49     num_inner:   166     f: +1.686962e-05   |grad|: 1.958704e+00   exceeded trust region\n",
      "acc       k:    50     num_inner:     7     f: +1.014746e-05   |grad|: 1.661918e-01   reached target residual-kappa (linear)\n",
      "acc       k:    51     num_inner:    27     f: +9.111609e-06   |grad|: 1.445072e-02   reached target residual-kappa (linear)\n",
      "acc TR-   k:    52     num_inner:   179     f: +8.397405e-06   |grad|: 1.859278e+00   exceeded trust region\n",
      "acc       k:    53     num_inner:     7     f: +3.096413e-06   |grad|: 1.166978e-01   reached target residual-kappa (linear)\n",
      "acc       k:    54     num_inner:    22     f: +2.511600e-06   |grad|: 1.160517e-02   reached target residual-kappa (linear)\n",
      "acc TR+   k:    55     num_inner:   138     f: +2.063670e-06   |grad|: 1.289739e-01   exceeded trust region\n",
      "acc       k:    56     num_inner:    22     f: +1.794269e-06   |grad|: 8.584812e-03   reached target residual-kappa (linear)\n",
      "acc       k:    57     num_inner:   184     f: +1.189307e-06   |grad|: 4.729244e-01   exceeded trust region\n",
      "acc       k:    58     num_inner:     7     f: +7.919093e-07   |grad|: 3.069623e-02   reached target residual-kappa (linear)\n",
      "acc       k:    59     num_inner:    35     f: +7.343447e-07   |grad|: 6.894810e-04   reached target residual-theta (superlinear)\n",
      "acc       k:    60     num_inner:   171     f: +5.887186e-07   |grad|: 4.753373e-01   exceeded trust region\n",
      "acc       k:    61     num_inner:     7     f: +2.803408e-07   |grad|: 2.683054e-02   reached target residual-kappa (linear)\n",
      "acc       k:    62     num_inner:    34     f: +2.470883e-07   |grad|: 6.116839e-04   reached target residual-theta (superlinear)\n",
      "REJ TR-   k:    63     num_inner:   184     f: +2.470883e-07   |grad|: 6.116839e-04   exceeded trust region\n",
      "acc TR+   k:    64     num_inner:   168     f: +2.026181e-07   |grad|: 9.480435e-02   exceeded trust region\n",
      "acc       k:    65     num_inner:    15     f: +1.789645e-07   |grad|: 6.069725e-03   reached target residual-theta (superlinear)\n",
      "acc TR+   k:    66     num_inner:   192     f: +1.270369e-07   |grad|: 1.369575e-01   exceeded trust region\n",
      "acc       k:    67     num_inner:    11     f: +9.130463e-08   |grad|: 1.226763e-02   reached target residual-kappa (linear)\n",
      "acc       k:    68     num_inner:   136     f: +8.428742e-08   |grad|: 1.495606e-04   reached target residual-theta (superlinear)\n"
     ]
    },
    {
     "name": "stdout",
     "output_type": "stream",
     "text": [
      "REJ TR-   k:    69     num_inner:   816     f: +8.428742e-08   |grad|: 1.495606e-04   exceeded trust region\n",
      "acc TR+   k:    70     num_inner:   188     f: +6.599157e-08   |grad|: 4.697966e-02   exceeded trust region\n",
      "acc       k:    71     num_inner:    18     f: +5.505262e-08   |grad|: 1.014811e-03   reached target residual-theta (superlinear)\n",
      "acc       k:    72     num_inner:   192     f: +4.567482e-08   |grad|: 1.222743e-01   exceeded trust region\n",
      "acc       k:    73     num_inner:     9     f: +2.326396e-08   |grad|: 8.067340e-03   reached target residual-kappa (linear)\n",
      "acc       k:    74     num_inner:    57     f: +1.973649e-08   |grad|: 2.495992e-05   reached target residual-theta (superlinear)\n",
      "REJ TR-   k:    75     num_inner:   186     f: +1.973649e-08   |grad|: 2.495992e-05   exceeded trust region\n",
      "acc TR+   k:    76     num_inner:   173     f: +1.605895e-08   |grad|: 1.366313e-02   exceeded trust region\n",
      "acc       k:    77     num_inner:    27     f: +1.470744e-08   |grad|: 1.270770e-04   reached target residual-theta (superlinear)\n",
      "acc TR+   k:    78     num_inner:   188     f: +1.068474e-08   |grad|: 3.495642e-02   exceeded trust region\n",
      "acc       k:    79     num_inner:    22     f: +6.973551e-09   |grad|: 8.217499e-04   reached target residual-theta (superlinear)\n",
      "REJ TR-   k:    80     num_inner:   232     f: +6.973551e-09   |grad|: 8.217499e-04   reached target residual-theta (superlinear)\n",
      "acc       k:    81     num_inner:   203     f: +6.099981e-09   |grad|: 9.899725e-03   exceeded trust region\n",
      "acc       k:    82     num_inner:    31     f: +5.608854e-09   |grad|: 7.851021e-05   reached target residual-theta (superlinear)\n",
      "acc TR+   k:    83     num_inner:   190     f: +4.094090e-09   |grad|: 1.816685e-02   exceeded trust region\n",
      "acc       k:    84     num_inner:    23     f: +3.848527e-09   |grad|: 2.078652e-04   reached target residual-theta (superlinear)\n",
      "acc TR-   k:    85     num_inner:   204     f: +3.666173e-09   |grad|: 2.930289e-02   exceeded trust region\n",
      "acc       k:    86     num_inner:    15     f: +1.645276e-09   |grad|: 7.694340e-04   reached target residual-theta (superlinear)\n",
      "REJ TR-   k:    87     num_inner:   206     f: +1.645276e-09   |grad|: 7.694340e-04   exceeded trust region\n",
      "acc TR+   k:    88     num_inner:   205     f: +1.201897e-09   |grad|: 3.126740e-03   exceeded trust region\n",
      "REJ TR-   k:    89     num_inner:    31     f: +1.201897e-09   |grad|: 3.126740e-03   reached target residual-theta (superlinear)\n",
      "REJ TR-   k:    90     num_inner:    31     f: +1.201897e-09   |grad|: 3.126740e-03   reached target residual-theta (superlinear)\n",
      "REJ TR-   k:    91     num_inner:    31     f: +1.201897e-09   |grad|: 3.126740e-03   reached target residual-theta (superlinear)\n",
      "REJ TR-   k:    92     num_inner:    31     f: +1.201897e-09   |grad|: 3.126740e-03   reached target residual-theta (superlinear)\n",
      " +++ Detected many consecutive TR- (radius decreases).\n",
      " +++ Consider decreasing options.Delta_bar by an order of magnitude.\n",
      " +++ Current values: Delta_bar = 18.5859 and Delta0 = 2.32324\n",
      "REJ TR-   k:    93     num_inner:    31     f: +1.201897e-09   |grad|: 3.126740e-03   reached target residual-theta (superlinear)\n",
      "REJ TR-   k:    94     num_inner:    31     f: +1.201897e-09   |grad|: 3.126740e-03   reached target residual-theta (superlinear)\n",
      "REJ TR-   k:    95     num_inner:    31     f: +1.201897e-09   |grad|: 3.126740e-03   reached target residual-theta (superlinear)\n",
      "REJ TR-   k:    96     num_inner:     5     f: +1.201897e-09   |grad|: 3.126740e-03   exceeded trust region\n",
      "REJ TR-   k:    97     num_inner:     0     f: +1.201897e-09   |grad|: 3.126740e-03   exceeded trust region\n",
      "REJ TR-   k:    98     num_inner:     0     f: +1.201897e-09   |grad|: 3.126740e-03   exceeded trust region\n",
      "REJ TR-   k:    99     num_inner:     0     f: +1.201897e-09   |grad|: 3.126740e-03   exceeded trust region\n",
      "REJ TR-   k:   100     num_inner:     0     f: +1.201897e-09   |grad|: 3.126740e-03   exceeded trust region\n",
      "REJ TR-   k:   101     num_inner:     0     f: +1.201897e-09   |grad|: 3.126740e-03   exceeded trust region\n",
      "REJ TR-   k:   102     num_inner:     0     f: +1.201897e-09   |grad|: 3.126740e-03   exceeded trust region\n",
      "REJ TR-   k:   103     num_inner:     0     f: +1.201897e-09   |grad|: 3.126740e-03   exceeded trust region\n",
      "REJ TR-   k:   104     num_inner:     0     f: +1.201897e-09   |grad|: 3.126740e-03   exceeded trust region\n",
      "acc TR+   k:   105     num_inner:     0     f: +1.182798e-09   |grad|: 3.126715e-03   exceeded trust region\n",
      "REJ TR-   k:   106     num_inner:     0     f: +1.182798e-09   |grad|: 3.126715e-03   exceeded trust region\n",
      "REJ TR-   k:   107     num_inner:     0     f: +1.182798e-09   |grad|: 3.126715e-03   exceeded trust region\n",
      "REJ TR-   k:   108     num_inner:     0     f: +1.182798e-09   |grad|: 3.126715e-03   exceeded trust region\n",
      "REJ TR-   k:   109     num_inner:     0     f: +1.182798e-09   |grad|: 3.126715e-03   exceeded trust region\n",
      "acc TR+   k:   110     num_inner:     0     f: +9.440555e-10   |grad|: 3.126715e-03   exceeded trust region\n",
      "REJ TR-   k:   111     num_inner:     0     f: +9.440555e-10   |grad|: 3.126715e-03   exceeded trust region\n",
      "acc TR+   k:   112     num_inner:     0     f: +8.635652e-10   |grad|: 3.126715e-03   exceeded trust region\n",
      "acc TR+   k:   113     num_inner:     0     f: +8.340066e-10   |grad|: 3.126715e-03   exceeded trust region\n",
      "REJ TR-   k:   114     num_inner:     0     f: +8.340066e-10   |grad|: 3.126715e-03   exceeded trust region\n",
      "REJ TR-   k:   115     num_inner:     0     f: +8.340066e-10   |grad|: 3.126715e-03   exceeded trust region\n",
      "REJ TR-   k:   116     num_inner:     0     f: +8.340066e-10   |grad|: 3.126715e-03   exceeded trust region\n",
      "REJ TR-   k:   117     num_inner:     0     f: +8.340066e-10   |grad|: 3.126715e-03   exceeded trust region\n",
      " +++ Detected many consecutive TR- (radius decreases).\n",
      " +++ Consider decreasing options.Delta_bar by an order of magnitude.\n",
      " +++ Current values: Delta_bar = 18.5859 and Delta0 = 2.32324\n",
      "REJ TR-   k:   118     num_inner:     0     f: +8.340066e-10   |grad|: 3.126715e-03   exceeded trust region\n",
      "REJ TR-   k:   119     num_inner:     0     f: +8.340066e-10   |grad|: 3.126715e-03   exceeded trust region\n",
      "REJ TR-   k:   120     num_inner:     0     f: +8.340066e-10   |grad|: 3.126715e-03   exceeded trust region\n",
      "REJ TR-   k:   121     num_inner:     0     f: +8.340066e-10   |grad|: 3.126715e-03   exceeded trust region\n",
      "REJ TR-   k:   122     num_inner:     0     f: +8.340066e-10   |grad|: 3.126715e-03   exceeded trust region\n",
      "REJ TR-   k:   123     num_inner:     0     f: +8.340066e-10   |grad|: 3.126715e-03   exceeded trust region\n",
      "REJ TR-   k:   124     num_inner:     0     f: +8.340066e-10   |grad|: 3.126715e-03   exceeded trust region\n",
      "REJ TR-   k:   125     num_inner:     0     f: +8.340066e-10   |grad|: 3.126715e-03   exceeded trust region\n",
      "REJ TR-   k:   126     num_inner:     0     f: +8.340066e-10   |grad|: 3.126715e-03   exceeded trust region\n",
      "REJ TR-   k:   127     num_inner:     0     f: +8.340066e-10   |grad|: 3.126715e-03   exceeded trust region\n",
      "REJ TR-   k:   128     num_inner:     0     f: +8.340066e-10   |grad|: 3.126715e-03   exceeded trust region\n",
      "REJ TR-   k:   129     num_inner:     0     f: +8.340066e-10   |grad|: 3.126715e-03   exceeded trust region\n",
      "REJ TR-   k:   130     num_inner:     0     f: +8.340066e-10   |grad|: 3.126715e-03   exceeded trust region\n",
      "REJ TR-   k:   131     num_inner:     0     f: +8.340066e-10   |grad|: 3.126715e-03   exceeded trust region\n",
      "REJ TR-   k:   132     num_inner:     0     f: +8.340066e-10   |grad|: 3.126715e-03   exceeded trust region\n",
      "REJ TR-   k:   133     num_inner:     0     f: +8.340066e-10   |grad|: 3.126715e-03   exceeded trust region\n",
      "REJ TR-   k:   134     num_inner:     0     f: +8.340066e-10   |grad|: 3.126715e-03   exceeded trust region\n",
      "REJ TR-   k:   135     num_inner:     0     f: +8.340066e-10   |grad|: 3.126715e-03   exceeded trust region\n",
      "REJ TR-   k:   136     num_inner:     0     f: +8.340066e-10   |grad|: 3.126715e-03   exceeded trust region\n",
      "REJ TR-   k:   137     num_inner:     0     f: +8.340066e-10   |grad|: 3.126715e-03   exceeded trust region\n",
      "REJ TR-   k:   138     num_inner:     0     f: +8.340066e-10   |grad|: 3.126715e-03   exceeded trust region\n",
      "REJ TR-   k:   139     num_inner:     0     f: +8.340066e-10   |grad|: 3.126715e-03   exceeded trust region\n",
      "REJ TR-   k:   140     num_inner:     0     f: +8.340066e-10   |grad|: 3.126715e-03   exceeded trust region\n",
      "REJ TR-   k:   141     num_inner:     0     f: +8.340066e-10   |grad|: 3.126715e-03   exceeded trust region\n",
      "REJ TR-   k:   142     num_inner:     0     f: +8.340066e-10   |grad|: 3.126715e-03   exceeded trust region\n",
      "REJ TR-   k:   143     num_inner:     0     f: +8.340066e-10   |grad|: 3.126715e-03   exceeded trust region\n",
      "REJ TR-   k:   144     num_inner:     0     f: +8.340066e-10   |grad|: 3.126715e-03   exceeded trust region\n",
      "REJ TR-   k:   145     num_inner:     0     f: +8.340066e-10   |grad|: 3.126715e-03   exceeded trust region\n",
      "REJ TR-   k:   146     num_inner:     0     f: +8.340066e-10   |grad|: 3.126715e-03   exceeded trust region\n",
      "REJ TR-   k:   147     num_inner:     0     f: +8.340066e-10   |grad|: 3.126715e-03   exceeded trust region\n",
      "REJ TR-   k:   148     num_inner:     0     f: +8.340066e-10   |grad|: 3.126715e-03   exceeded trust region\n",
      "REJ TR-   k:   149     num_inner:     0     f: +8.340066e-10   |grad|: 3.126715e-03   exceeded trust region\n",
      "REJ TR-   k:   150     num_inner:     0     f: +8.340066e-10   |grad|: 3.126715e-03   exceeded trust region\n",
      "REJ TR-   k:   151     num_inner:     0     f: +8.340066e-10   |grad|: 3.126715e-03   exceeded trust region\n",
      "REJ TR-   k:   152     num_inner:     0     f: +8.340066e-10   |grad|: 3.126715e-03   exceeded trust region\n",
      "REJ TR-   k:   153     num_inner:     0     f: +8.340066e-10   |grad|: 3.126715e-03   exceeded trust region\n",
      "REJ TR-   k:   154     num_inner:     0     f: +8.340066e-10   |grad|: 3.126715e-03   exceeded trust region\n",
      "REJ TR-   k:   155     num_inner:     0     f: +8.340066e-10   |grad|: 3.126715e-03   exceeded trust region\n",
      "REJ TR-   k:   156     num_inner:     0     f: +8.340066e-10   |grad|: 3.126715e-03   exceeded trust region\n",
      "REJ TR-   k:   157     num_inner:     0     f: +8.340066e-10   |grad|: 3.126715e-03   exceeded trust region\n",
      "REJ TR-   k:   158     num_inner:     0     f: +8.340066e-10   |grad|: 3.126715e-03   exceeded trust region\n",
      "REJ TR-   k:   159     num_inner:     0     f: +8.340066e-10   |grad|: 3.126715e-03   exceeded trust region\n",
      "REJ TR-   k:   160     num_inner:     0     f: +8.340066e-10   |grad|: 3.126715e-03   exceeded trust region\n",
      "REJ TR-   k:   161     num_inner:     0     f: +8.340066e-10   |grad|: 3.126715e-03   exceeded trust region\n",
      "REJ TR-   k:   162     num_inner:     0     f: +8.340066e-10   |grad|: 3.126715e-03   exceeded trust region\n",
      "REJ TR-   k:   163     num_inner:     0     f: +8.340066e-10   |grad|: 3.126715e-03   exceeded trust region\n",
      "REJ TR-   k:   164     num_inner:     0     f: +8.340066e-10   |grad|: 3.126715e-03   exceeded trust region\n",
      "REJ TR-   k:   165     num_inner:     0     f: +8.340066e-10   |grad|: 3.126715e-03   exceeded trust region\n",
      "REJ TR-   k:   166     num_inner:     0     f: +8.340066e-10   |grad|: 3.126715e-03   exceeded trust region\n",
      "REJ TR-   k:   167     num_inner:     0     f: +8.340066e-10   |grad|: 3.126715e-03   exceeded trust region\n",
      "REJ TR-   k:   168     num_inner:     0     f: +8.340066e-10   |grad|: 3.126715e-03   exceeded trust region\n",
      "REJ TR-   k:   169     num_inner:     0     f: +8.340066e-10   |grad|: 3.126715e-03   exceeded trust region\n",
      "REJ TR-   k:   170     num_inner:     0     f: +8.340066e-10   |grad|: 3.126715e-03   exceeded trust region\n",
      "REJ TR-   k:   171     num_inner:     0     f: +8.340066e-10   |grad|: 3.126715e-03   exceeded trust region\n",
      "REJ TR-   k:   172     num_inner:     0     f: +8.340066e-10   |grad|: 3.126715e-03   exceeded trust region\n",
      "REJ TR-   k:   173     num_inner:     0     f: +8.340066e-10   |grad|: 3.126715e-03   exceeded trust region\n",
      "REJ TR-   k:   174     num_inner:     0     f: +8.340066e-10   |grad|: 3.126715e-03   exceeded trust region\n",
      "REJ TR-   k:   175     num_inner:     0     f: +8.340066e-10   |grad|: 3.126715e-03   exceeded trust region\n",
      "REJ TR-   k:   176     num_inner:     0     f: +8.340066e-10   |grad|: 3.126715e-03   exceeded trust region\n",
      "REJ TR-   k:   177     num_inner:     0     f: +8.340066e-10   |grad|: 3.126715e-03   exceeded trust region\n",
      "REJ TR-   k:   178     num_inner:     0     f: +8.340066e-10   |grad|: 3.126715e-03   exceeded trust region\n",
      "REJ TR-   k:   179     num_inner:     0     f: +8.340066e-10   |grad|: 3.126715e-03   exceeded trust region\n",
      "REJ TR-   k:   180     num_inner:     0     f: +8.340066e-10   |grad|: 3.126715e-03   exceeded trust region\n",
      "REJ TR-   k:   181     num_inner:     0     f: +8.340066e-10   |grad|: 3.126715e-03   exceeded trust region\n",
      "REJ TR-   k:   182     num_inner:     0     f: +8.340066e-10   |grad|: 3.126715e-03   exceeded trust region\n",
      "REJ TR-   k:   183     num_inner:     0     f: +8.340066e-10   |grad|: 3.126715e-03   exceeded trust region\n",
      "REJ TR-   k:   184     num_inner:     0     f: +8.340066e-10   |grad|: 3.126715e-03   exceeded trust region\n",
      "REJ TR-   k:   185     num_inner:     0     f: +8.340066e-10   |grad|: 3.126715e-03   exceeded trust region\n",
      "REJ TR-   k:   186     num_inner:     0     f: +8.340066e-10   |grad|: 3.126715e-03   exceeded trust region\n",
      "REJ TR-   k:   187     num_inner:     0     f: +8.340066e-10   |grad|: 3.126715e-03   exceeded trust region\n",
      "REJ TR-   k:   188     num_inner:     0     f: +8.340066e-10   |grad|: 3.126715e-03   exceeded trust region\n",
      "REJ TR-   k:   189     num_inner:     0     f: +8.340066e-10   |grad|: 3.126715e-03   exceeded trust region\n",
      "REJ TR-   k:   190     num_inner:     0     f: +8.340066e-10   |grad|: 3.126715e-03   exceeded trust region\n",
      "REJ TR-   k:   191     num_inner:     0     f: +8.340066e-10   |grad|: 3.126715e-03   exceeded trust region\n",
      "REJ TR-   k:   192     num_inner:     0     f: +8.340066e-10   |grad|: 3.126715e-03   exceeded trust region\n",
      "REJ TR-   k:   193     num_inner:     0     f: +8.340066e-10   |grad|: 3.126715e-03   exceeded trust region\n",
      "REJ TR-   k:   194     num_inner:     0     f: +8.340066e-10   |grad|: 3.126715e-03   exceeded trust region\n",
      "REJ TR-   k:   195     num_inner:     0     f: +8.340066e-10   |grad|: 3.126715e-03   exceeded trust region\n",
      "REJ TR-   k:   196     num_inner:     0     f: +8.340066e-10   |grad|: 3.126715e-03   exceeded trust region\n",
      "REJ TR-   k:   197     num_inner:     0     f: +8.340066e-10   |grad|: 3.126715e-03   exceeded trust region\n",
      "REJ TR-   k:   198     num_inner:     0     f: +8.340066e-10   |grad|: 3.126715e-03   exceeded trust region\n",
      "REJ TR-   k:   199     num_inner:     0     f: +8.340066e-10   |grad|: 3.126715e-03   exceeded trust region\n",
      "REJ TR-   k:   200     num_inner:     0     f: +8.340066e-10   |grad|: 3.126715e-03   exceeded trust region\n",
      "Terminated - max iterations reached after 2.26 seconds.\n",
      "\n"
     ]
    },
    {
     "data": {
      "text/plain": [
       "2.256624698638916"
      ]
     },
     "execution_count": 468,
     "metadata": {},
     "output_type": "execute_result"
    }
   ],
   "source": [
    "\n",
    "pos_ref = nx.get_node_attributes(G,'pos_ref')\n",
    "\n",
    "weight = nx.get_edge_attributes(G, \"weight\")\n",
    "D = np.diag([weight[i] for i in weight.keys()])\n",
    "C = incidence_matrix_(G,oriented=True).toarray()\n",
    "C = np.array(C)\n",
    "print(C.shape)\n",
    "d =3\n",
    "n = D.shape[0]\n",
    "\n",
    "manifold_ = manifolds.Oblique(d,n)\n",
    "\n",
    "Q2 = -D@(C.transpose()@np.linalg.pinv(C@C.transpose()))@C@D;\n",
    "Q1 = D@D;\n",
    "\n",
    "@pymanopt.function.numpy(manifold_)\n",
    "def cost(Y_):\n",
    "    return np.trace(Q1 + Q2@Y_.transpose()@Y_)\n",
    "\n",
    "@pymanopt.function.numpy(manifold_)\n",
    "def euclidean_gradient(Y_):\n",
    "    grad = 2*Q2@Y_.transpose()\n",
    "    return grad.transpose()\n",
    "                        \n",
    "@pymanopt.function.numpy(manifold_)\n",
    "def euclidean_hessian(Y_, U):\n",
    "    hess = 2*Q2@U.transpose()\n",
    "    return hess.transpose()\n",
    "\n",
    "problem = Problem(manifold=manifold_, cost=cost,euclidean_gradient=euclidean_gradient, \n",
    "                  euclidean_hessian=euclidean_hessian)\n",
    "\n",
    "optimizer = optimizers.TrustRegions(max_iterations=200)\n",
    "\n",
    "Y_init_ = np.zeros((d,35))\n",
    "h = manifold_.random_point()\n",
    "Y_init_[:d,:] =  h#manifold_.retraction(Y_init,0.01*manifold_.random_tangent_vector(Y_init))#Y_init#h#manifold_.retraction(h,10*manifold_.random_tangent_vector(h))#Y_init\n",
    "start = time.time()\n",
    "Y_star = optimizer.run(problem,initial_point=Y_init_).point\n",
    "end = time.time()\n",
    "end-start"
   ]
  },
  {
   "cell_type": "code",
   "execution_count": 469,
   "id": "6f67dd4a",
   "metadata": {},
   "outputs": [
    {
     "data": {
      "text/plain": [
       "array([3.51198486e+00, 2.54417113e+00, 2.42069971e+00, 2.10696779e+00,\n",
       "       1.59939892e+00, 1.35801395e+00, 1.04722418e+00, 6.27152310e-01,\n",
       "       4.21647145e-02, 3.06672035e-04, 1.38169765e-07, 7.54878678e-08,\n",
       "       2.04080028e-08, 2.23954606e-09, 6.86736125e-10, 5.42221902e-10,\n",
       "       1.77954284e-10, 7.69323607e-11, 6.20638613e-11, 2.95902954e-11,\n",
       "       1.81057718e-11, 1.14792761e-11, 6.60323299e-12, 5.07920808e-12,\n",
       "       3.24170191e-12, 2.38783647e-12, 8.37121294e-13, 2.68794364e-13,\n",
       "       6.09199745e-14, 2.33584254e-14])"
      ]
     },
     "execution_count": 469,
     "metadata": {},
     "output_type": "execute_result"
    }
   ],
   "source": [
    "U,S,V = np.linalg.svd(Y_star,full_matrices=False)\n",
    "S"
   ]
  },
  {
   "cell_type": "code",
   "execution_count": 426,
   "id": "0be07032",
   "metadata": {},
   "outputs": [
    {
     "data": {
      "text/plain": [
       "0.16949905020091527"
      ]
     },
     "execution_count": 426,
     "metadata": {},
     "output_type": "execute_result"
    }
   ],
   "source": [
    "cost(manifold_.retraction(Y_init,0.001*manifold_.random_tangent_vector(Y_init)))"
   ]
  },
  {
   "cell_type": "code",
   "execution_count": 457,
   "id": "d4a94d4e",
   "metadata": {},
   "outputs": [
    {
     "data": {
      "text/plain": [
       "array([6.29999973e+02, 2.06917531e-02, 5.85000030e+02])"
      ]
     },
     "execution_count": 457,
     "metadata": {},
     "output_type": "execute_result"
    }
   ],
   "source": [
    "R@X[-1,:]\n"
   ]
  },
  {
   "cell_type": "code",
   "execution_count": 450,
   "id": "d8881fa5",
   "metadata": {},
   "outputs": [],
   "source": [
    "from scipy.spatial.transform import Rotation as R\n",
    "\n",
    "v = np.array([ 4.99999990e+01, -1.75732342e-02, -7.92915769e-03])\n",
    "\n",
    "R = rotation_matrix_from_vectors(v/np.linalg.norm(v),e1/np.linalg.norm(e1))"
   ]
  },
  {
   "cell_type": "code",
   "execution_count": 110,
   "id": "d4e34e82",
   "metadata": {},
   "outputs": [],
   "source": [
    "v = R@Y_star[:,4] \n",
    "\n",
    "R1 = rotation_matrix_from_vectors(v/np.linalg.norm(v),-e2/10)"
   ]
  },
  {
   "cell_type": "code",
   "execution_count": 56,
   "id": "3cde1fe6",
   "metadata": {},
   "outputs": [],
   "source": [
    "def rotation_matrix_from_vectors(vec1, vec2):\n",
    "    \"\"\" Find the rotation matrix that aligns vec1 to vec2\n",
    "    :param vec1: A 3d \"source\" vector\n",
    "    :param vec2: A 3d \"destination\" vector\n",
    "    :return mat: A transform matrix (3x3) which when applied to vec1, aligns it with vec2.\n",
    "    \"\"\"\n",
    "    a, b = (vec1 / np.linalg.norm(vec1)).reshape(3), (vec2 / np.linalg.norm(vec2)).reshape(3)\n",
    "    v = np.cross(a, b)\n",
    "    c = np.dot(a, b)\n",
    "    s = np.linalg.norm(v)\n",
    "    kmat = np.array([[0, -v[2], v[1]], [v[2], 0, -v[0]], [-v[1], v[0], 0]])\n",
    "    rotation_matrix = np.eye(3) + kmat + kmat.dot(kmat) * ((1 - c) / (s ** 2))\n",
    "    return rotation_matrix"
   ]
  },
  {
   "cell_type": "code",
   "execution_count": 444,
   "id": "53985f67",
   "metadata": {},
   "outputs": [
    {
     "data": {
      "text/plain": [
       "array([[-197.91080786,   -3.51634056, -334.24204664],\n",
       "       [-247.89323014,   46.5012295 , -334.23588802],\n",
       "       [-247.90287387,   -3.4970035 , -284.23412062],\n",
       "       [-247.9108069 ,   -3.49876732, -334.23411748],\n",
       "       [-222.91288883,  -53.49980509, -334.23632927],\n",
       "       [-222.90873947,   46.50019549, -334.2398568 ],\n",
       "       [-222.84423135,  -53.48005276,  225.76366645],\n",
       "       [-222.80782815,   46.51994059,  225.76013394],\n",
       "       [ 242.18191181,   -3.64845953,  250.61310708],\n",
       "       [ 292.1818991 ,   -3.66666162,  250.59740557],\n",
       "       [ 292.16367654,  -53.66668447,  250.62389412],\n",
       "       [ 292.20011417,   46.33324046,  250.70951177],\n",
       "       [ 332.18190682,   -3.68131659,  250.68864201],\n",
       "       [ 382.18189813,   -3.6995146 ,  250.66599788]])"
      ]
     },
     "execution_count": 444,
     "metadata": {},
     "output_type": "execute_result"
    }
   ],
   "source": [
    "X = np.linalg.pinv(C@C.transpose())@C@D@Y_star.transpose()\n",
    "X"
   ]
  },
  {
   "cell_type": "code",
   "execution_count": 446,
   "id": "73afb132",
   "metadata": {},
   "outputs": [
    {
     "data": {
      "text/plain": [
       "array([[ 4.99999990e+01, -1.75732342e-02, -7.92915769e-03],\n",
       "       [ 1.75767593e-02,  4.99999968e+01, -1.77053346e-03],\n",
       "       [ 7.93303407e-03,  1.76382543e-03,  4.99999969e+01],\n",
       "       [-0.00000000e+00, -0.00000000e+00, -0.00000000e+00],\n",
       "       [ 2.49979181e+01, -5.00010378e+01, -2.21178570e-03],\n",
       "       [ 2.50020674e+01,  4.99989628e+01, -5.73931117e-03],\n",
       "       [ 2.50665755e+01, -4.99812854e+01,  5.59997784e+02],\n",
       "       [ 2.51029787e+01,  5.00187079e+01,  5.59994251e+02],\n",
       "       [ 4.90092719e+02, -1.49692210e-01,  5.84847225e+02],\n",
       "       [ 5.40092706e+02, -1.67894296e-01,  5.84831523e+02],\n",
       "       [ 5.40074483e+02, -5.01679171e+01,  5.84858012e+02],\n",
       "       [ 5.40110921e+02,  4.98320078e+01,  5.84943629e+02],\n",
       "       [ 5.80092714e+02, -1.82549267e-01,  5.84922759e+02],\n",
       "       [ 6.30092705e+02, -2.00747281e-01,  5.84900115e+02]])"
      ]
     },
     "execution_count": 446,
     "metadata": {},
     "output_type": "execute_result"
    }
   ],
   "source": [
    "X = - X + X[3,:]\n",
    "X"
   ]
  },
  {
   "cell_type": "code",
   "execution_count": 233,
   "id": "c9e0554a",
   "metadata": {},
   "outputs": [
    {
     "data": {
      "text/plain": [
       "array([-1.07039074e+01, -4.44089210e-16, -6.63956294e-01])"
      ]
     },
     "execution_count": 233,
     "metadata": {},
     "output_type": "execute_result"
    }
   ],
   "source": [
    "X[-1,:]-position"
   ]
  },
  {
   "cell_type": "code",
   "execution_count": 67,
   "id": "0ac7a026",
   "metadata": {},
   "outputs": [
    {
     "data": {
      "text/plain": [
       "array([620.0773281 ,  72.70829173, 987.47895214])"
      ]
     },
     "execution_count": 67,
     "metadata": {},
     "output_type": "execute_result"
    }
   ],
   "source": [
    "R@X[-1,:]"
   ]
  },
  {
   "cell_type": "code",
   "execution_count": 52,
   "id": "cb3377ea",
   "metadata": {},
   "outputs": [
    {
     "data": {
      "text/plain": [
       "EdgeView([('x', 'y'), ('x', 'a1_origin'), ('x', 'a1_plus'), ('y', 'a1_origin'), ('y', 'a1_plus'), ('a1_origin', 'a1_plus'), ('a1_origin', 'a2_plus'), ('a1_origin', ' a2_minus'), ('a1_plus', 'a2_plus'), ('a1_plus', ' a2_minus'), ('a2_plus', ' a2_minus'), ('a2_plus', 'a3_plus'), ('a2_plus', 'a3_minus'), (' a2_minus', 'a3_plus'), (' a2_minus', 'a3_minus'), ('a3_plus', 'a3_minus'), ('a3_plus', 'a4_origin'), ('a3_plus', 'a4_minus'), ('a3_minus', 'a4_origin'), ('a3_minus', 'a4_minus'), ('a4_origin', 'a4_minus'), ('a4_origin', 'a5_plus'), ('a4_origin', 'a5_minus'), ('a4_minus', 'a5_plus'), ('a4_minus', 'a5_minus'), ('a5_plus', 'a5_minus'), ('a5_plus', 'a6_origin'), ('a5_plus', 'a6_minus'), ('a5_minus', 'a6_origin'), ('a5_minus', 'a6_minus'), ('a6_origin', 'a6_minus')])"
      ]
     },
     "execution_count": 52,
     "metadata": {},
     "output_type": "execute_result"
    }
   ],
   "source": [
    "G.edges"
   ]
  }
 ],
 "metadata": {
  "kernelspec": {
   "display_name": "Python 3 (ipykernel)",
   "language": "python",
   "name": "python3"
  },
  "language_info": {
   "codemirror_mode": {
    "name": "ipython",
    "version": 3
   },
   "file_extension": ".py",
   "mimetype": "text/x-python",
   "name": "python",
   "nbconvert_exporter": "python",
   "pygments_lexer": "ipython3",
   "version": "3.9.12"
  }
 },
 "nbformat": 4,
 "nbformat_minor": 5
}
