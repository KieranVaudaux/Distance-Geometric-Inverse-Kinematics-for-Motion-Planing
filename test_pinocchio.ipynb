{
 "cells": [
  {
   "cell_type": "code",
   "execution_count": 52,
   "metadata": {},
   "outputs": [
    {
     "name": "stdout",
     "output_type": "stream",
     "text": [
      "(13,)\n",
      "You can open the visualizer by visiting the following URL:\n",
      "http://127.0.0.1:7043/static/\n"
     ]
    }
   ],
   "source": [
    "\n",
    "import pinocchio as pin\n",
    "import numpy as np\n",
    "from pinocchio.robot_wrapper import RobotWrapper\n",
    "from pinocchio.visualize import (GepettoVisualizer, MeshcatVisualizer)\n",
    "from sys import argv\n",
    "import os\n",
    "from os.path import dirname, join, abspath\n",
    " \n",
    "# If you want to visualize the robot in this example,\n",
    "# you can choose which visualizer to employ\n",
    "# by specifying an option from the command line:\n",
    "# GepettoVisualizer: -g\n",
    "# MeshcatVisualizer: -m\n",
    "VISUALIZER = MeshcatVisualizer\n",
    "if False:\n",
    "    opt = argv[1]\n",
    "    if opt == '-g':\n",
    "        VISUALIZER = GepettoVisualizer\n",
    "    elif opt == '-m':\n",
    "        VISUALIZER = MeshcatVisualizer\n",
    "    else:\n",
    "        raise ValueError(\"Unrecognized option: \" + opt)\n",
    " \n",
    "# Load the URDF model with RobotWrapper\n",
    "# Conversion with str seems to be necessary when executing this file with ipython\n",
    "\n",
    "\n",
    "mesh_dir = 'GraphIK/graphik/robots/urdfs'\n",
    "\n",
    "urdf_model_path = \"GraphIK/graphik/robots/urdfs/ur10_mod.urdf\"\n",
    "#\"GraphIK/graphik/robots/urdfs/kuka_iiwr.urdf\"\n",
    " \n",
    "robot = RobotWrapper.BuildFromURDF(urdf_model_path, mesh_dir, pin.JointModelFreeFlyer())\n",
    " \n",
    "# alias\n",
    "model = robot.model\n",
    "data = robot.data\n",
    " \n",
    "# do whatever, e.g. compute the center of mass position expressed in the world frame\n",
    "q0 = robot.q0\n",
    "print(q0.shape)\n",
    "q0[7:] = np.array([0,0,90,0,0,0])*np.pi/180\n",
    "com = robot.com(q0)\n",
    " \n",
    "# This last command is similar to:\n",
    "com2 = pin.centerOfMass(model,data,q0)\n",
    " \n",
    "# Show model with a visualizer of your choice\n",
    "if VISUALIZER:\n",
    "    robot.setVisualizer(VISUALIZER())\n",
    "    robot.initViewer()\n",
    "    robot.loadViewerModel(\"pinocchio\")\n",
    "    robot.display(q0)"
   ]
  },
  {
   "cell_type": "code",
   "execution_count": 34,
   "metadata": {},
   "outputs": [
    {
     "data": {
      "text/plain": [
       "  R =\n",
       "         0.5     0.866025 -2.06823e-13\n",
       "-4.13711e-12  2.62738e-12            1\n",
       "    0.866025         -0.5  4.89664e-12\n",
       "  p =    0    0 0.36"
      ]
     },
     "execution_count": 34,
     "metadata": {},
     "output_type": "execute_result"
    }
   ],
   "source": [
    "q0 = robot.q0\n",
    "q0[7:] = np.array([0,120,0,0,0,90,0])*np.pi/180\n",
    "pin.framesForwardKinematics(model,data,q0)\n",
    "data.oMi[3]\n",
    "\n",
    "\n"
   ]
  }
 ],
 "metadata": {
  "kernelspec": {
   "display_name": "Python 3",
   "language": "python",
   "name": "python3"
  },
  "language_info": {
   "codemirror_mode": {
    "name": "ipython",
    "version": 3
   },
   "file_extension": ".py",
   "mimetype": "text/x-python",
   "name": "python",
   "nbconvert_exporter": "python",
   "pygments_lexer": "ipython3",
   "version": "3.12.2"
  }
 },
 "nbformat": 4,
 "nbformat_minor": 2
}
